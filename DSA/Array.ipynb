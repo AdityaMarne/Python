{
 "cells": [
  {
   "cell_type": "code",
   "execution_count": null,
   "metadata": {},
   "outputs": [],
   "source": [
    "#Q1. Inserting an element in an array.\n",
    "class Array:\n",
    "\n",
    "    def __init__(self,size):\n",
    "        self.size = size\n",
    "        self.lst = [0] * size  # Preallocate the list with zeros\n",
    "        self.length = 0        # Track the number of elements added\n",
    "\n",
    "    def add(self,element):\n",
    "        if self.length < self.size:  # Ensure there's room to add an element\n",
    "            self.lst[self.length] = element\n",
    "            self.length += 1\n",
    "        else:\n",
    "            print(\"Array is full. Cannot add more elements.\")\n",
    "\n",
    "    def arr_elements(self):\n",
    "        return self.lst[:self.length]  # Return only the filled elements"
   ]
  },
  {
   "cell_type": "code",
   "execution_count": 3,
   "metadata": {},
   "outputs": [],
   "source": [
    "arr = Array(5)"
   ]
  },
  {
   "cell_type": "code",
   "execution_count": 4,
   "metadata": {},
   "outputs": [],
   "source": [
    "arr.add(1)"
   ]
  },
  {
   "cell_type": "code",
   "execution_count": 5,
   "metadata": {},
   "outputs": [
    {
     "data": {
      "text/plain": [
       "[1]"
      ]
     },
     "execution_count": 5,
     "metadata": {},
     "output_type": "execute_result"
    }
   ],
   "source": [
    "arr.arr_elements()"
   ]
  },
  {
   "cell_type": "code",
   "execution_count": 1,
   "metadata": {},
   "outputs": [],
   "source": [
    "#Q2. Deleting an element for an array.\n",
    "class Array1:\n",
    "\n",
    "    def __init__(self,size):\n",
    "        self.size = size\n",
    "        self.lst = [0] * size\n",
    "        self.length = 0\n",
    "\n",
    "    def add(self,element):\n",
    "        if self.length < self.size:\n",
    "            self.lst[self.length] = element\n",
    "            self.length += 1\n",
    "        else:\n",
    "            print(\"Array is full you can't add element.\")\n",
    "\n",
    "    def insert(self,element,index):\n",
    "        if index < 0 or index > self.length:\n",
    "            print(\"Invaid index, cannot insert element\")\n",
    "            pass\n",
    "\n",
    "        if self.length < self.size:\n",
    "            for i in range(self.length, index, -1):\n",
    "                self.lst[i] = self.lst[i-1]\n",
    "            self.lst[index] = element\n",
    "            self.length += 1\n",
    "        else:\n",
    "            print(\"Array is full. Cannot insert element.\")\n",
    "\n",
    "    def delete(self, index):\n",
    "        if index < 0 or index >= self.length:\n",
    "            print(\"Invalid index, cannot delete an element\")\n",
    "            return\n",
    "        \n",
    "        for i in range(index, self.length):\n",
    "            self.lst[i] = self.lst[i+1]\n",
    "        self.length -= 1\n",
    "\n",
    "    def arr_element(self):\n",
    "        return self.lst[:self.length]"
   ]
  },
  {
   "cell_type": "code",
   "execution_count": 2,
   "metadata": {},
   "outputs": [],
   "source": [
    "arr1 = Array1(5)"
   ]
  },
  {
   "cell_type": "code",
   "execution_count": 3,
   "metadata": {},
   "outputs": [],
   "source": [
    "arr1.add(1)\n",
    "arr1.add(2)\n",
    "arr1.add(3)"
   ]
  },
  {
   "cell_type": "code",
   "execution_count": 4,
   "metadata": {},
   "outputs": [
    {
     "data": {
      "text/plain": [
       "[1, 2, 3]"
      ]
     },
     "execution_count": 4,
     "metadata": {},
     "output_type": "execute_result"
    }
   ],
   "source": [
    "arr1.arr_element()"
   ]
  },
  {
   "cell_type": "code",
   "execution_count": 5,
   "metadata": {},
   "outputs": [],
   "source": [
    "arr1.insert(4,2)"
   ]
  },
  {
   "cell_type": "code",
   "execution_count": 6,
   "metadata": {},
   "outputs": [
    {
     "data": {
      "text/plain": [
       "[1, 2, 4, 3]"
      ]
     },
     "execution_count": 6,
     "metadata": {},
     "output_type": "execute_result"
    }
   ],
   "source": [
    "arr1.arr_element()"
   ]
  },
  {
   "cell_type": "code",
   "execution_count": 7,
   "metadata": {},
   "outputs": [],
   "source": [
    "arr1.delete(3)"
   ]
  },
  {
   "cell_type": "code",
   "execution_count": 8,
   "metadata": {},
   "outputs": [
    {
     "data": {
      "text/plain": [
       "[1, 2, 4]"
      ]
     },
     "execution_count": 8,
     "metadata": {},
     "output_type": "execute_result"
    }
   ],
   "source": [
    "arr1.arr_element()"
   ]
  },
  {
   "cell_type": "code",
   "execution_count": 35,
   "metadata": {},
   "outputs": [],
   "source": [
    "#Q3 Linear search and binary search in array\n",
    "class Array2:\n",
    "    def __init__(self, size):\n",
    "        self.size = size\n",
    "        self.lst = [0] * size\n",
    "        self.length = 0\n",
    "\n",
    "    def add(self, element):\n",
    "        if self.length < self.size:\n",
    "            self.lst[self.length] = element\n",
    "            self.length += 1\n",
    "        else:\n",
    "            print(\"Array is full.\")\n",
    "\n",
    "    def insert(self, index, element):\n",
    "        if index < 0 or index > self.size:\n",
    "            print(\"Invalid index.\")\n",
    "\n",
    "        if self.length < self.size:\n",
    "            for i in range(self.length, index-1, -1):\n",
    "                self.lst[i] = self.lst[i-1]\n",
    "            self.lst[index-1] = element\n",
    "            self.length += 1\n",
    "        else:\n",
    "            print(\"Array is full.\")\n",
    "\n",
    "    def linear_search(self,element):\n",
    "        for i in range(0,self.length):\n",
    "            #print(self.lst[i])\n",
    "            if element == self.lst[i]:\n",
    "                #print(element, self.lst[i])\n",
    "                return i+1\n",
    "        return \"Element not found\"\n",
    "    \n",
    "    def binary_search(self,element):\n",
    "        low = 0\n",
    "        high = self.length-1\n",
    "        self.lst.sort()\n",
    "\n",
    "        while(low < high):\n",
    "            mid = int((low+high)/2)\n",
    "            if element == self.lst[mid] or element == self.lst[low] or element == self.lst[high]:\n",
    "                if element == self.lst[mid]:\n",
    "                    return mid\n",
    "                elif element == self.lst[low]:\n",
    "                    return low\n",
    "                elif element == self.lst[high]:\n",
    "                    return high\n",
    "            elif element < self.lst[mid]:\n",
    "                high = mid-1\n",
    "            else:\n",
    "                low = mid+1\n",
    "        return -1\n",
    "            \n",
    "    def arr_element(self):\n",
    "        return self.lst[:self.length]"
   ]
  },
  {
   "cell_type": "code",
   "execution_count": 36,
   "metadata": {},
   "outputs": [],
   "source": [
    "arr2 = Array2(5)\n",
    "arr2.add(1)\n",
    "arr2.add(2)\n",
    "arr2.add(3)"
   ]
  },
  {
   "cell_type": "code",
   "execution_count": 37,
   "metadata": {},
   "outputs": [
    {
     "data": {
      "text/plain": [
       "[1, 2, 3]"
      ]
     },
     "execution_count": 37,
     "metadata": {},
     "output_type": "execute_result"
    }
   ],
   "source": [
    "arr2.arr_element()"
   ]
  },
  {
   "cell_type": "code",
   "execution_count": 38,
   "metadata": {},
   "outputs": [],
   "source": [
    "arr2.insert(2,4)"
   ]
  },
  {
   "cell_type": "code",
   "execution_count": 39,
   "metadata": {},
   "outputs": [
    {
     "data": {
      "text/plain": [
       "[1, 4, 2, 3]"
      ]
     },
     "execution_count": 39,
     "metadata": {},
     "output_type": "execute_result"
    }
   ],
   "source": [
    "arr2.arr_element()"
   ]
  },
  {
   "cell_type": "code",
   "execution_count": 40,
   "metadata": {},
   "outputs": [],
   "source": [
    "arr2.insert(4,5)"
   ]
  },
  {
   "cell_type": "code",
   "execution_count": 41,
   "metadata": {},
   "outputs": [
    {
     "data": {
      "text/plain": [
       "[1, 4, 2, 5, 3]"
      ]
     },
     "execution_count": 41,
     "metadata": {},
     "output_type": "execute_result"
    }
   ],
   "source": [
    "arr2.arr_element()"
   ]
  },
  {
   "cell_type": "code",
   "execution_count": 42,
   "metadata": {},
   "outputs": [
    {
     "data": {
      "text/plain": [
       "2"
      ]
     },
     "execution_count": 42,
     "metadata": {},
     "output_type": "execute_result"
    }
   ],
   "source": [
    "arr2.linear_search(4)"
   ]
  },
  {
   "cell_type": "code",
   "execution_count": 43,
   "metadata": {},
   "outputs": [
    {
     "data": {
      "text/plain": [
       "1"
      ]
     },
     "execution_count": 43,
     "metadata": {},
     "output_type": "execute_result"
    }
   ],
   "source": [
    "arr2.binary_search(2)"
   ]
  },
  {
   "cell_type": "code",
   "execution_count": 7,
   "metadata": {},
   "outputs": [],
   "source": [
    "##Revrese an array by auxillary method(Second array) and pointer method.\n",
    "class Array3:\n",
    "\n",
    "    def __init__(self,size):\n",
    "        self.size = size\n",
    "        self.lst = [0] * size\n",
    "        self.length = 0\n",
    "\n",
    "    def add(self,element):\n",
    "        if self.length < self.size:\n",
    "            self.lst[self.length] = element\n",
    "            self.length += 1\n",
    "        else:\n",
    "            print(\"Array is full.\")\n",
    "\n",
    "    def reverse_aux(self):\n",
    "        self.lst2 = []\n",
    "        for i in range(len(self.lst)-1,-1,-1):\n",
    "            self.lst2.append(self.lst[i])\n",
    "        return self.lst2\n",
    "    \n",
    "    def reverse_poi(self):\n",
    "        i, j = 0, len(self.lst) - 1\n",
    "        while i < j:\n",
    "            # Swap elements at indices i and j\n",
    "            self.lst[i], self.lst[j] = self.lst[j], self.lst[i]\n",
    "            i += 1\n",
    "            j -= 1\n",
    "        return self.lst\n",
    "    \n",
    "    def arr_element(self):\n",
    "        return self.lst[:self.length]"
   ]
  },
  {
   "cell_type": "code",
   "execution_count": 8,
   "metadata": {},
   "outputs": [],
   "source": [
    "arr3 = Array3(5)"
   ]
  },
  {
   "cell_type": "code",
   "execution_count": 9,
   "metadata": {},
   "outputs": [],
   "source": [
    "arr3.add(1)\n",
    "arr3.add(2)\n",
    "arr3.add(3)\n",
    "arr3.add(4)\n",
    "arr3.add(5)"
   ]
  },
  {
   "cell_type": "code",
   "execution_count": 10,
   "metadata": {},
   "outputs": [
    {
     "data": {
      "text/plain": [
       "[1, 2, 3, 4, 5]"
      ]
     },
     "execution_count": 10,
     "metadata": {},
     "output_type": "execute_result"
    }
   ],
   "source": [
    "arr3.arr_element()"
   ]
  },
  {
   "cell_type": "code",
   "execution_count": 11,
   "metadata": {},
   "outputs": [
    {
     "data": {
      "text/plain": [
       "[5, 4, 3, 2, 1]"
      ]
     },
     "execution_count": 11,
     "metadata": {},
     "output_type": "execute_result"
    }
   ],
   "source": [
    "arr3.reverse_aux()"
   ]
  },
  {
   "cell_type": "code",
   "execution_count": 12,
   "metadata": {},
   "outputs": [
    {
     "data": {
      "text/plain": [
       "[5, 4, 3, 2, 1]"
      ]
     },
     "execution_count": 12,
     "metadata": {},
     "output_type": "execute_result"
    }
   ],
   "source": [
    "arr3.reverse_poi()"
   ]
  },
  {
   "cell_type": "code",
   "execution_count": null,
   "metadata": {},
   "outputs": [],
   "source": [
    "#Check array is sorted.\n"
   ]
  },
  {
   "cell_type": "code",
   "execution_count": null,
   "metadata": {},
   "outputs": [],
   "source": [
    "#-ve on left and +ve on rigt side array."
   ]
  }
 ],
 "metadata": {
  "kernelspec": {
   "display_name": "Python 3",
   "language": "python",
   "name": "python3"
  },
  "language_info": {
   "codemirror_mode": {
    "name": "ipython",
    "version": 3
   },
   "file_extension": ".py",
   "mimetype": "text/x-python",
   "name": "python",
   "nbconvert_exporter": "python",
   "pygments_lexer": "ipython3",
   "version": "3.10.10"
  }
 },
 "nbformat": 4,
 "nbformat_minor": 2
}
