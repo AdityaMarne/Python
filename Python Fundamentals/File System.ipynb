{
 "cells": [
  {
   "cell_type": "markdown",
   "id": "7c0d8cb5",
   "metadata": {},
   "source": [
    "# File System"
   ]
  },
  {
   "cell_type": "markdown",
   "id": "160161f3",
   "metadata": {},
   "source": [
    "The file handling plays an important role when the data needs to be stored permanently into the file.\n",
    "\n",
    "A file is a named location on disk to store related information. We can access the stored information (non-volatile) after the program termination.\n",
    "\n",
    " a file operation can be done in the following order.\n",
    "    1)Open a file\n",
    "    2)Read or write - Performing operation\n",
    "    3)Close the file"
   ]
  },
  {
   "cell_type": "markdown",
   "id": "cd42d1df",
   "metadata": {},
   "source": [
    "# Opening a file"
   ]
  },
  {
   "cell_type": "markdown",
   "id": "ff9b6466",
   "metadata": {},
   "source": [
    "Python provides an open() function that accepts two arguments, file name and access mode in which the file is accessed.\n",
    "\n",
    "Syntax :\n",
    "object = open(<file-name>, <access-mode>)\n",
    "    \n",
    "The files can be accessed using various modes like read, write, or append. The following are the details about the access mode to open a file.\n",
    "    \n",
    "r = It opens the file to read-only mode.The file is by default open in this mode if no access mode is passed.\n",
    "    \n",
    "rb = It opens the file to read-only in binary format.\n",
    "    \n",
    "r+ = It opens the file to read and write both.\n",
    "    \n",
    "rb+ = It opens the file to read and write both in binary format.\n",
    "    \n",
    "w = It opens the file to write only. It overwrites the file if previously exists or creates a new one if no file exists with the same name.\n",
    "    \n",
    "wb = It opens the file to write only in binary format. It overwrites the file if it exists previously or creates a new one if no file exists.\n",
    "    \n",
    "w+ = It opens the file to write and read both. It is different from r+ in the sense that it overwrites the previous file if one exists whereas r+ doesn't overwrite the previously written file. It creates a new file if no file exists.\n",
    "    \n",
    "wb+ = It opens the file to write and read both in binary format.\n",
    "    \n",
    "a = It opens the file in the append mode.\n",
    "   \n",
    "a+ = It opens a file to append and read both."
   ]
  },
  {
   "cell_type": "code",
   "execution_count": 1,
   "id": "2337ad88",
   "metadata": {},
   "outputs": [],
   "source": [
    "#test.txt id file name and w is write mode\n",
    "f = open(\"test.txt\",\"w\")"
   ]
  },
  {
   "cell_type": "code",
   "execution_count": 3,
   "id": "12146699",
   "metadata": {},
   "outputs": [
    {
     "name": "stdout",
     "output_type": "stream",
     "text": [
      " Volume in drive C is WINDOWS\n",
      " Volume Serial Number is 7A94-5AA0\n",
      "\n",
      " Directory of C:\\Users\\adity\n",
      "\n",
      "23-08-2023  16:42    <DIR>          .\n",
      "11-03-2023  17:36    <DIR>          ..\n",
      "17-07-2023  00:44             2,041 .bash_history\n",
      "25-01-2023  17:06    <DIR>          .cache\n",
      "19-02-2023  00:47    <DIR>          .conda\n",
      "25-03-2023  23:10    <DIR>          .cufflinks\n",
      "07-08-2023  16:44                19 .dbshell\n",
      "25-01-2023  17:06    <DIR>          .eclipse\n",
      "12-07-2023  15:39                62 .gitconfig\n",
      "22-08-2023  17:16    <DIR>          .ipynb_checkpoints\n",
      "20-02-2023  11:33    <DIR>          .ipython\n",
      "26-01-2023  15:20    <DIR>          .jupyter\n",
      "12-07-2023  15:39                20 .lesshst\n",
      "04-02-2023  16:15    <DIR>          .matplotlib\n",
      "30-01-2023  00:27                 0 .mongorc.js\n",
      "18-05-2023  01:51    <DIR>          .p2\n",
      "18-02-2023  15:11    <DIR>          .spyder-py3\n",
      "28-07-2023  11:28    <DIR>          .vscode\n",
      "21-02-2023  11:57    <DIR>          __pycache__\n",
      "25-01-2023  17:37    <DIR>          3D Objects\n",
      "18-02-2023  23:46    <DIR>          anaconda3\n",
      "31-03-2023  00:58             9,218 Assignment 5.ipynb\n",
      "01-05-2023  17:55            11,550 Assignment 6.ipynb\n",
      "01-05-2023  18:41            25,971 Assignment7.ipynb\n",
      "01-05-2023  20:16            14,371 Assignment8.ipynb\n",
      "01-05-2023  20:39             6,304 Assignment9.ipynb\n",
      "12-08-2023  17:48            10,651 Conditional Statements.ipynb\n",
      "11-03-2023  18:21    <DIR>          Contacts\n",
      "12-08-2023  21:25           303,640 Data Analysis Project1.ipynb\n",
      "22-08-2023  17:16            92,156 Data Analysis Project2.ipynb\n",
      "11-08-2023  20:24            16,207 Dictionary.ipynb\n",
      "22-01-2023  17:19    <DIR>          Documents\n",
      "22-08-2023  17:37    <DIR>          Downloads\n",
      "25-01-2023  16:56    <DIR>          eclipse\n",
      "25-01-2023  17:06    <DIR>          eclipse-workspace\n",
      "30-04-2023  12:11            15,215 EDA Part 2 (1).ipynb\n",
      "11-03-2023  18:21    <DIR>          Favorites\n",
      "23-08-2023  16:42             3,245 File System.ipynb\n",
      "19-08-2023  16:05            26,497 Function.ipynb\n",
      "21-08-2023  17:01            16,553 Lambda, Iterator and Generator.ipynb\n",
      "11-03-2023  18:21    <DIR>          Links\n",
      "10-08-2023  22:32            21,532 List.ipynb\n",
      "16-08-2023  16:28            26,366 Loops.ipynb\n",
      "22-08-2023  17:50    <DIR>          Microsoft\n",
      "16-05-2023  15:36           293,020 Movie Recomendation System.ipynb\n",
      "18-08-2023  22:24    <DIR>          Music\n",
      "23-08-2023  14:33    <DIR>          OneDrive\n",
      "05-02-2023  16:21    <DIR>          Postman\n",
      "11-03-2023  18:21    <DIR>          Saved Games\n",
      "11-03-2023  18:21    <DIR>          Searches\n",
      "11-08-2023  01:35            13,780 Set.ipynb\n",
      "10-08-2023  20:29            21,128 String.ipynb\n",
      "23-08-2023  16:42                 0 test.txt\n",
      "10-08-2023  23:10            19,449 Tuple.ipynb\n",
      "17-07-2023  21:33             4,049 Untitled.ipynb\n",
      "11-03-2023  18:21    <DIR>          Videos\n",
      "              26 File(s)        953,044 bytes\n",
      "              30 Dir(s)  155,118,247,936 bytes free\n"
     ]
    }
   ],
   "source": [
    "%ls"
   ]
  },
  {
   "cell_type": "code",
   "execution_count": 4,
   "id": "30c14721",
   "metadata": {},
   "outputs": [
    {
     "data": {
      "text/plain": [
       "31"
      ]
     },
     "execution_count": 4,
     "metadata": {},
     "output_type": "execute_result"
    }
   ],
   "source": [
    "f.write(\"This is my first file operation\")"
   ]
  },
  {
   "cell_type": "code",
   "execution_count": 6,
   "id": "bc698f5a",
   "metadata": {},
   "outputs": [],
   "source": [
    "f.close()"
   ]
  },
  {
   "cell_type": "code",
   "execution_count": 7,
   "id": "337fce52",
   "metadata": {},
   "outputs": [
    {
     "name": "stdout",
     "output_type": "stream",
     "text": [
      " Volume in drive C is WINDOWS\n",
      " Volume Serial Number is 7A94-5AA0\n",
      "\n",
      " Directory of C:\\Users\\adity\n",
      "\n",
      "23-08-2023  16:42    <DIR>          .\n",
      "11-03-2023  17:36    <DIR>          ..\n",
      "17-07-2023  00:44             2,041 .bash_history\n",
      "25-01-2023  17:06    <DIR>          .cache\n",
      "19-02-2023  00:47    <DIR>          .conda\n",
      "25-03-2023  23:10    <DIR>          .cufflinks\n",
      "07-08-2023  16:44                19 .dbshell\n",
      "25-01-2023  17:06    <DIR>          .eclipse\n",
      "12-07-2023  15:39                62 .gitconfig\n",
      "22-08-2023  17:16    <DIR>          .ipynb_checkpoints\n",
      "20-02-2023  11:33    <DIR>          .ipython\n",
      "26-01-2023  15:20    <DIR>          .jupyter\n",
      "12-07-2023  15:39                20 .lesshst\n",
      "04-02-2023  16:15    <DIR>          .matplotlib\n",
      "30-01-2023  00:27                 0 .mongorc.js\n",
      "18-05-2023  01:51    <DIR>          .p2\n",
      "18-02-2023  15:11    <DIR>          .spyder-py3\n",
      "28-07-2023  11:28    <DIR>          .vscode\n",
      "21-02-2023  11:57    <DIR>          __pycache__\n",
      "25-01-2023  17:37    <DIR>          3D Objects\n",
      "18-02-2023  23:46    <DIR>          anaconda3\n",
      "31-03-2023  00:58             9,218 Assignment 5.ipynb\n",
      "01-05-2023  17:55            11,550 Assignment 6.ipynb\n",
      "01-05-2023  18:41            25,971 Assignment7.ipynb\n",
      "01-05-2023  20:16            14,371 Assignment8.ipynb\n",
      "01-05-2023  20:39             6,304 Assignment9.ipynb\n",
      "12-08-2023  17:48            10,651 Conditional Statements.ipynb\n",
      "11-03-2023  18:21    <DIR>          Contacts\n",
      "12-08-2023  21:25           303,640 Data Analysis Project1.ipynb\n",
      "22-08-2023  17:16            92,156 Data Analysis Project2.ipynb\n",
      "11-08-2023  20:24            16,207 Dictionary.ipynb\n",
      "22-01-2023  17:19    <DIR>          Documents\n",
      "22-08-2023  17:37    <DIR>          Downloads\n",
      "25-01-2023  16:56    <DIR>          eclipse\n",
      "25-01-2023  17:06    <DIR>          eclipse-workspace\n",
      "30-04-2023  12:11            15,215 EDA Part 2 (1).ipynb\n",
      "11-03-2023  18:21    <DIR>          Favorites\n",
      "23-08-2023  16:42             3,245 File System.ipynb\n",
      "19-08-2023  16:05            26,497 Function.ipynb\n",
      "21-08-2023  17:01            16,553 Lambda, Iterator and Generator.ipynb\n",
      "11-03-2023  18:21    <DIR>          Links\n",
      "10-08-2023  22:32            21,532 List.ipynb\n",
      "16-08-2023  16:28            26,366 Loops.ipynb\n",
      "22-08-2023  17:50    <DIR>          Microsoft\n",
      "16-05-2023  15:36           293,020 Movie Recomendation System.ipynb\n",
      "18-08-2023  22:24    <DIR>          Music\n",
      "23-08-2023  14:33    <DIR>          OneDrive\n",
      "05-02-2023  16:21    <DIR>          Postman\n",
      "11-03-2023  18:21    <DIR>          Saved Games\n",
      "11-03-2023  18:21    <DIR>          Searches\n",
      "11-08-2023  01:35            13,780 Set.ipynb\n",
      "10-08-2023  20:29            21,128 String.ipynb\n",
      "23-08-2023  16:43                31 test.txt\n",
      "10-08-2023  23:10            19,449 Tuple.ipynb\n",
      "17-07-2023  21:33             4,049 Untitled.ipynb\n",
      "11-03-2023  18:21    <DIR>          Videos\n",
      "              26 File(s)        953,075 bytes\n",
      "              30 Dir(s)  155,117,867,008 bytes free\n"
     ]
    }
   ],
   "source": [
    "%ls"
   ]
  },
  {
   "cell_type": "code",
   "execution_count": null,
   "id": "e7631478",
   "metadata": {},
   "outputs": [],
   "source": []
  },
  {
   "cell_type": "code",
   "execution_count": 13,
   "id": "ff3d1dea",
   "metadata": {},
   "outputs": [],
   "source": [
    "#if you have not maintain mode by default mode id read\n",
    "f = open(\"test.txt\")"
   ]
  },
  {
   "cell_type": "code",
   "execution_count": 14,
   "id": "bd927eea",
   "metadata": {},
   "outputs": [
    {
     "data": {
      "text/plain": [
       "'This is my first file operation'"
      ]
     },
     "execution_count": 14,
     "metadata": {},
     "output_type": "execute_result"
    }
   ],
   "source": [
    "f.read()"
   ]
  },
  {
   "cell_type": "code",
   "execution_count": 15,
   "id": "18823e83",
   "metadata": {},
   "outputs": [
    {
     "data": {
      "text/plain": [
       "5"
      ]
     },
     "execution_count": 15,
     "metadata": {},
     "output_type": "execute_result"
    }
   ],
   "source": [
    "#seek used to reset your cursor at any location in the file\n",
    "f.seek(5)"
   ]
  },
  {
   "cell_type": "code",
   "execution_count": 16,
   "id": "2667569e",
   "metadata": {},
   "outputs": [
    {
     "data": {
      "text/plain": [
       "'is my first file operation'"
      ]
     },
     "execution_count": 16,
     "metadata": {},
     "output_type": "execute_result"
    }
   ],
   "source": [
    "f.read()"
   ]
  },
  {
   "cell_type": "code",
   "execution_count": 17,
   "id": "a289adee",
   "metadata": {},
   "outputs": [
    {
     "data": {
      "text/plain": [
       "31"
      ]
     },
     "execution_count": 17,
     "metadata": {},
     "output_type": "execute_result"
    }
   ],
   "source": [
    "#tell it gives the location of your cursor\n",
    "f.tell()"
   ]
  },
  {
   "cell_type": "code",
   "execution_count": 18,
   "id": "d0d739a3",
   "metadata": {},
   "outputs": [
    {
     "data": {
      "text/plain": [
       "5"
      ]
     },
     "execution_count": 18,
     "metadata": {},
     "output_type": "execute_result"
    }
   ],
   "source": [
    "f.seek(5)"
   ]
  },
  {
   "cell_type": "code",
   "execution_count": 19,
   "id": "e04e1afb",
   "metadata": {},
   "outputs": [
    {
     "data": {
      "text/plain": [
       "5"
      ]
     },
     "execution_count": 19,
     "metadata": {},
     "output_type": "execute_result"
    }
   ],
   "source": [
    "f.tell()"
   ]
  },
  {
   "cell_type": "code",
   "execution_count": null,
   "id": "1840c43f",
   "metadata": {},
   "outputs": [],
   "source": []
  },
  {
   "cell_type": "code",
   "execution_count": 33,
   "id": "a4b6108c",
   "metadata": {},
   "outputs": [],
   "source": [
    "f = open(\"google.txt\",\"w\")"
   ]
  },
  {
   "cell_type": "code",
   "execution_count": 34,
   "id": "e03dec7d",
   "metadata": {},
   "outputs": [
    {
     "name": "stdout",
     "output_type": "stream",
     "text": [
      "Overwriting google.txt\n"
     ]
    }
   ],
   "source": [
    "%%writefile google.txt\n",
    "Google LLC is an American multinational \n",
    "technology company focusing on artificial intelligence,[9]\n",
    "online advertising, search engine technology, cloud computing, \n",
    "computer software, quantum computing, e-commerce, and consumer electronics. \n",
    "It has been referred to as the most powerful company in the world and as one of \n",
    "the world's most valuable brands due to its market dominance, data collection, and \n",
    "technological advantages in the field of artificial intelligence.[11][12][13] Alongside \n",
    "Amazon, Apple Inc., Meta Platforms, and Microsoft, Google's parent company Alphabet Inc. is\n",
    "one of the five Big Tech companies.Google was founded on September 4, 1998, by American computer\n",
    "scientists Larry Page and Sergey Brin while they were PhD students at Stanford University in California. \n",
    "Together they own about 14% of its publicly listed shares and control 56% of its stockholder voting power \n",
    "through super-voting stock. The company went public via an initial public offering (IPO) in 2004. In 2015,\n",
    "Google was reorganized as a wholly owned subsidiary of Alphabet Inc. Google is Alphabet's largest subsidiary and\n",
    "is a holding company for Alphabet's internet properties and interests. Sundar Pichai was appointed CEO of Google on\n",
    "October 24, 2015, replacing Larry Page, who became the CEO of Alphabet. On December 3, 2019, Pichai also became the \n",
    "CEO of Alphabet.[14]"
   ]
  },
  {
   "cell_type": "code",
   "execution_count": 38,
   "id": "63ae48d3",
   "metadata": {},
   "outputs": [
    {
     "data": {
      "text/plain": [
       "0"
      ]
     },
     "execution_count": 38,
     "metadata": {},
     "output_type": "execute_result"
    }
   ],
   "source": [
    "#It give all the information in the file in list\n",
    "f.seek(0)"
   ]
  },
  {
   "cell_type": "code",
   "execution_count": 40,
   "id": "87316d90",
   "metadata": {},
   "outputs": [],
   "source": [
    "f.close()"
   ]
  },
  {
   "cell_type": "code",
   "execution_count": 41,
   "id": "7aed1606",
   "metadata": {},
   "outputs": [],
   "source": [
    "f = open(\"google.txt\",\"r+\")"
   ]
  },
  {
   "cell_type": "code",
   "execution_count": 42,
   "id": "072c380a",
   "metadata": {},
   "outputs": [
    {
     "data": {
      "text/plain": [
       "\"Google LLC is an American multinational \\ntechnology company focusing on artificial intelligence,[9]\\nonline advertising, search engine technology, cloud computing, \\ncomputer software, quantum computing, e-commerce, and consumer electronics. \\nIt has been referred to as the most powerful company in the world and as one of \\nthe world's most valuable brands due to its market dominance, data collection, and \\ntechnological advantages in the field of artificial intelligence.[11][12][13] Alongside \\nAmazon, Apple Inc., Meta Platforms, and Microsoft, Google's parent company Alphabet Inc. is\\none of the five Big Tech companies.Google was founded on September 4, 1998, by American computer\\nscientists Larry Page and Sergey Brin while they were PhD students at Stanford University in California. \\nTogether they own about 14% of its publicly listed shares and control 56% of its stockholder voting power \\nthrough super-voting stock. The company went public via an initial public offering (IPO) in 2004. In 2015,\\nGoogle was reorganized as a wholly owned subsidiary of Alphabet Inc. Google is Alphabet's largest subsidiary and\\nis a holding company for Alphabet's internet properties and interests. Sundar Pichai was appointed CEO of Google on\\nOctober 24, 2015, replacing Larry Page, who became the CEO of Alphabet. On December 3, 2019, Pichai also became the \\nCEO of Alphabet.[14]\\n\""
      ]
     },
     "execution_count": 42,
     "metadata": {},
     "output_type": "execute_result"
    }
   ],
   "source": [
    "f.read()"
   ]
  },
  {
   "cell_type": "code",
   "execution_count": 43,
   "id": "eda2346c",
   "metadata": {},
   "outputs": [
    {
     "data": {
      "text/plain": [
       "1387"
      ]
     },
     "execution_count": 43,
     "metadata": {},
     "output_type": "execute_result"
    }
   ],
   "source": [
    "f.tell()"
   ]
  },
  {
   "cell_type": "code",
   "execution_count": 44,
   "id": "65678160",
   "metadata": {},
   "outputs": [
    {
     "data": {
      "text/plain": [
       "''"
      ]
     },
     "execution_count": 44,
     "metadata": {},
     "output_type": "execute_result"
    }
   ],
   "source": [
    "f.read()"
   ]
  },
  {
   "cell_type": "code",
   "execution_count": 51,
   "id": "2bd39242",
   "metadata": {},
   "outputs": [
    {
     "data": {
      "text/plain": [
       "0"
      ]
     },
     "execution_count": 51,
     "metadata": {},
     "output_type": "execute_result"
    }
   ],
   "source": [
    "f.seek(0)"
   ]
  },
  {
   "cell_type": "code",
   "execution_count": 52,
   "id": "fe189332",
   "metadata": {},
   "outputs": [
    {
     "name": "stdout",
     "output_type": "stream",
     "text": [
      "Google LLC is an American multinational \n",
      "\n",
      "technology company focusing on artificial intelligence,[9]\n",
      "\n",
      "online advertising, search engine technology, cloud computing, \n",
      "\n",
      "computer software, quantum computing, e-commerce, and consumer electronics. \n",
      "\n",
      "It has been referred to as the most powerful company in the world and as one of \n",
      "\n",
      "the world's most valuable brands due to its market dominance, data collection, and \n",
      "\n",
      "technological advantages in the field of artificial intelligence.[11][12][13] Alongside \n",
      "\n",
      "Amazon, Apple Inc., Meta Platforms, and Microsoft, Google's parent company Alphabet Inc. is\n",
      "\n",
      "one of the five Big Tech companies.Google was founded on September 4, 1998, by American computer\n",
      "\n",
      "scientists Larry Page and Sergey Brin while they were PhD students at Stanford University in California. \n",
      "\n",
      "Together they own about 14% of its publicly listed shares and control 56% of its stockholder voting power \n",
      "\n",
      "through super-voting stock. The company went public via an initial public offering (IPO) in 2004. In 2015,\n",
      "\n",
      "Google was reorganized as a wholly owned subsidiary of Alphabet Inc. Google is Alphabet's largest subsidiary and\n",
      "\n",
      "is a holding company for Alphabet's internet properties and interests. Sundar Pichai was appointed CEO of Google on\n",
      "\n",
      "October 24, 2015, replacing Larry Page, who became the CEO of Alphabet. On December 3, 2019, Pichai also became the \n",
      "\n",
      "CEO of Alphabet.[14]\n",
      "\n"
     ]
    }
   ],
   "source": [
    "for line in f:\n",
    "    print(line,end=\"\\n\")"
   ]
  },
  {
   "cell_type": "code",
   "execution_count": 53,
   "id": "034e6798",
   "metadata": {},
   "outputs": [
    {
     "data": {
      "text/plain": [
       "1387"
      ]
     },
     "execution_count": 53,
     "metadata": {},
     "output_type": "execute_result"
    }
   ],
   "source": [
    "f.tell()"
   ]
  },
  {
   "cell_type": "code",
   "execution_count": 55,
   "id": "091205fb",
   "metadata": {},
   "outputs": [
    {
     "data": {
      "text/plain": [
       "0"
      ]
     },
     "execution_count": 55,
     "metadata": {},
     "output_type": "execute_result"
    }
   ],
   "source": [
    "f.seek(0)"
   ]
  },
  {
   "cell_type": "code",
   "execution_count": 56,
   "id": "d6a8a4d1",
   "metadata": {},
   "outputs": [
    {
     "data": {
      "text/plain": [
       "['Google LLC is an American multinational \\n',\n",
       " 'technology company focusing on artificial intelligence,[9]\\n',\n",
       " 'online advertising, search engine technology, cloud computing, \\n',\n",
       " 'computer software, quantum computing, e-commerce, and consumer electronics. \\n',\n",
       " 'It has been referred to as the most powerful company in the world and as one of \\n',\n",
       " \"the world's most valuable brands due to its market dominance, data collection, and \\n\",\n",
       " 'technological advantages in the field of artificial intelligence.[11][12][13] Alongside \\n',\n",
       " \"Amazon, Apple Inc., Meta Platforms, and Microsoft, Google's parent company Alphabet Inc. is\\n\",\n",
       " 'one of the five Big Tech companies.Google was founded on September 4, 1998, by American computer\\n',\n",
       " 'scientists Larry Page and Sergey Brin while they were PhD students at Stanford University in California. \\n',\n",
       " 'Together they own about 14% of its publicly listed shares and control 56% of its stockholder voting power \\n',\n",
       " 'through super-voting stock. The company went public via an initial public offering (IPO) in 2004. In 2015,\\n',\n",
       " \"Google was reorganized as a wholly owned subsidiary of Alphabet Inc. Google is Alphabet's largest subsidiary and\\n\",\n",
       " \"is a holding company for Alphabet's internet properties and interests. Sundar Pichai was appointed CEO of Google on\\n\",\n",
       " 'October 24, 2015, replacing Larry Page, who became the CEO of Alphabet. On December 3, 2019, Pichai also became the \\n',\n",
       " 'CEO of Alphabet.[14]\\n']"
      ]
     },
     "execution_count": 56,
     "metadata": {},
     "output_type": "execute_result"
    }
   ],
   "source": [
    "#It give all the information in the file in the list\n",
    "f.readlines()"
   ]
  },
  {
   "cell_type": "code",
   "execution_count": 58,
   "id": "3d718d9f",
   "metadata": {},
   "outputs": [
    {
     "data": {
      "text/plain": [
       "0"
      ]
     },
     "execution_count": 58,
     "metadata": {},
     "output_type": "execute_result"
    }
   ],
   "source": [
    "f.seek(0)"
   ]
  },
  {
   "cell_type": "code",
   "execution_count": 59,
   "id": "6ec3e1a2",
   "metadata": {},
   "outputs": [
    {
     "data": {
      "text/plain": [
       "16"
      ]
     },
     "execution_count": 59,
     "metadata": {},
     "output_type": "execute_result"
    }
   ],
   "source": [
    "len(f.readlines())"
   ]
  },
  {
   "cell_type": "code",
   "execution_count": 60,
   "id": "012bccd2",
   "metadata": {},
   "outputs": [],
   "source": [
    "f.close()"
   ]
  },
  {
   "cell_type": "code",
   "execution_count": 61,
   "id": "f9a76aca",
   "metadata": {},
   "outputs": [
    {
     "name": "stdout",
     "output_type": "stream",
     "text": [
      " Volume in drive C is WINDOWS\n",
      " Volume Serial Number is 7A94-5AA0\n",
      "\n",
      " Directory of C:\\Users\\adity\n",
      "\n",
      "23-08-2023  17:06    <DIR>          .\n",
      "11-03-2023  17:36    <DIR>          ..\n",
      "17-07-2023  00:44             2,041 .bash_history\n",
      "25-01-2023  17:06    <DIR>          .cache\n",
      "19-02-2023  00:47    <DIR>          .conda\n",
      "25-03-2023  23:10    <DIR>          .cufflinks\n",
      "07-08-2023  16:44                19 .dbshell\n",
      "25-01-2023  17:06    <DIR>          .eclipse\n",
      "12-07-2023  15:39                62 .gitconfig\n",
      "22-08-2023  17:16    <DIR>          .ipynb_checkpoints\n",
      "20-02-2023  11:33    <DIR>          .ipython\n",
      "26-01-2023  15:20    <DIR>          .jupyter\n",
      "12-07-2023  15:39                20 .lesshst\n",
      "04-02-2023  16:15    <DIR>          .matplotlib\n",
      "30-01-2023  00:27                 0 .mongorc.js\n",
      "18-05-2023  01:51    <DIR>          .p2\n",
      "18-02-2023  15:11    <DIR>          .spyder-py3\n",
      "28-07-2023  11:28    <DIR>          .vscode\n",
      "21-02-2023  11:57    <DIR>          __pycache__\n",
      "25-01-2023  17:37    <DIR>          3D Objects\n",
      "18-02-2023  23:46    <DIR>          anaconda3\n",
      "31-03-2023  00:58             9,218 Assignment 5.ipynb\n",
      "01-05-2023  17:55            11,550 Assignment 6.ipynb\n",
      "01-05-2023  18:41            25,971 Assignment7.ipynb\n",
      "01-05-2023  20:16            14,371 Assignment8.ipynb\n",
      "01-05-2023  20:39             6,304 Assignment9.ipynb\n",
      "12-08-2023  17:48            10,651 Conditional Statements.ipynb\n",
      "11-03-2023  18:21    <DIR>          Contacts\n",
      "12-08-2023  21:25           303,640 Data Analysis Project1.ipynb\n",
      "22-08-2023  17:16            92,156 Data Analysis Project2.ipynb\n",
      "11-08-2023  20:24            16,207 Dictionary.ipynb\n",
      "22-01-2023  17:19    <DIR>          Documents\n",
      "22-08-2023  17:37    <DIR>          Downloads\n",
      "25-01-2023  16:56    <DIR>          eclipse\n",
      "25-01-2023  17:06    <DIR>          eclipse-workspace\n",
      "30-04-2023  12:11            15,215 EDA Part 2 (1).ipynb\n",
      "11-03-2023  18:21    <DIR>          Favorites\n",
      "23-08-2023  17:06            21,516 File System.ipynb\n",
      "19-08-2023  16:05            26,497 Function.ipynb\n",
      "23-08-2023  17:00             1,387 google.txt\n",
      "21-08-2023  17:01            16,553 Lambda, Iterator and Generator.ipynb\n",
      "11-03-2023  18:21    <DIR>          Links\n",
      "10-08-2023  22:32            21,532 List.ipynb\n",
      "16-08-2023  16:28            26,366 Loops.ipynb\n",
      "22-08-2023  17:50    <DIR>          Microsoft\n",
      "16-05-2023  15:36           293,020 Movie Recomendation System.ipynb\n",
      "18-08-2023  22:24    <DIR>          Music\n",
      "23-08-2023  14:33    <DIR>          OneDrive\n",
      "05-02-2023  16:21    <DIR>          Postman\n",
      "11-03-2023  18:21    <DIR>          Saved Games\n",
      "11-03-2023  18:21    <DIR>          Searches\n",
      "11-08-2023  01:35            13,780 Set.ipynb\n",
      "10-08-2023  20:29            21,128 String.ipynb\n",
      "23-08-2023  16:43                31 test.txt\n",
      "10-08-2023  23:10            19,449 Tuple.ipynb\n",
      "17-07-2023  21:33             4,049 Untitled.ipynb\n",
      "11-03-2023  18:21    <DIR>          Videos\n",
      "              27 File(s)        972,733 bytes\n",
      "              30 Dir(s)  155,124,330,496 bytes free\n"
     ]
    }
   ],
   "source": [
    "%ls"
   ]
  },
  {
   "cell_type": "code",
   "execution_count": null,
   "id": "dcc75536",
   "metadata": {},
   "outputs": [],
   "source": []
  }
 ],
 "metadata": {
  "kernelspec": {
   "display_name": "Python 3 (ipykernel)",
   "language": "python",
   "name": "python3"
  },
  "language_info": {
   "codemirror_mode": {
    "name": "ipython",
    "version": 3
   },
   "file_extension": ".py",
   "mimetype": "text/x-python",
   "name": "python",
   "nbconvert_exporter": "python",
   "pygments_lexer": "ipython3",
   "version": "3.11.3"
  }
 },
 "nbformat": 4,
 "nbformat_minor": 5
}
