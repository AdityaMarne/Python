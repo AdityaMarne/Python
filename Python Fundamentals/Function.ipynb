{
 "cells": [
  {
   "cell_type": "markdown",
   "id": "f9b403b6",
   "metadata": {},
   "source": [
    "# Functions"
   ]
  },
  {
   "cell_type": "code",
   "execution_count": 1,
   "id": "972c95ed",
   "metadata": {},
   "outputs": [],
   "source": [
    "def test1():   #Function defining\n",
    "    print(\"This is my first function\")"
   ]
  },
  {
   "cell_type": "code",
   "execution_count": 2,
   "id": "d1e2fcd2",
   "metadata": {},
   "outputs": [
    {
     "name": "stdout",
     "output_type": "stream",
     "text": [
      "This is my first function\n"
     ]
    }
   ],
   "source": [
    "test1() #Function calling"
   ]
  },
  {
   "cell_type": "code",
   "execution_count": 3,
   "id": "e471f633",
   "metadata": {},
   "outputs": [
    {
     "name": "stdout",
     "output_type": "stream",
     "text": [
      "This is my first function\n"
     ]
    },
    {
     "data": {
      "text/plain": [
       "NoneType"
      ]
     },
     "execution_count": 3,
     "metadata": {},
     "output_type": "execute_result"
    }
   ],
   "source": [
    "type(test1())"
   ]
  },
  {
   "cell_type": "code",
   "execution_count": 4,
   "id": "bcc0994b",
   "metadata": {},
   "outputs": [],
   "source": [
    "def test2():\n",
    "    return \"This is my first function\""
   ]
  },
  {
   "cell_type": "code",
   "execution_count": 5,
   "id": "9707ba82",
   "metadata": {},
   "outputs": [
    {
     "data": {
      "text/plain": [
       "str"
      ]
     },
     "execution_count": 5,
     "metadata": {},
     "output_type": "execute_result"
    }
   ],
   "source": [
    "type(test2())  #If you want premetive data type as a return always use return"
   ]
  },
  {
   "cell_type": "code",
   "execution_count": 6,
   "id": "8e3c0a0c",
   "metadata": {},
   "outputs": [],
   "source": [
    "def test3():\n",
    "    return 1234"
   ]
  },
  {
   "cell_type": "code",
   "execution_count": 7,
   "id": "6abbc976",
   "metadata": {},
   "outputs": [
    {
     "data": {
      "text/plain": [
       "1234"
      ]
     },
     "execution_count": 7,
     "metadata": {},
     "output_type": "execute_result"
    }
   ],
   "source": [
    "test3()"
   ]
  },
  {
   "cell_type": "code",
   "execution_count": 8,
   "id": "75daf779",
   "metadata": {},
   "outputs": [
    {
     "data": {
      "text/plain": [
       "int"
      ]
     },
     "execution_count": 8,
     "metadata": {},
     "output_type": "execute_result"
    }
   ],
   "source": [
    "type(test3())"
   ]
  },
  {
   "cell_type": "code",
   "execution_count": 9,
   "id": "78e1384a",
   "metadata": {},
   "outputs": [],
   "source": [
    "def test4():\n",
    "    return 4,3,\"sudh\",[1,2,3]  #You can return multiple value using function"
   ]
  },
  {
   "cell_type": "code",
   "execution_count": 10,
   "id": "48db7b18",
   "metadata": {},
   "outputs": [
    {
     "data": {
      "text/plain": [
       "(4, 3, 'sudh', [1, 2, 3])"
      ]
     },
     "execution_count": 10,
     "metadata": {},
     "output_type": "execute_result"
    }
   ],
   "source": [
    "test4() #It return set of tuple"
   ]
  },
  {
   "cell_type": "code",
   "execution_count": 11,
   "id": "ea8a2e26",
   "metadata": {},
   "outputs": [
    {
     "data": {
      "text/plain": [
       "tuple"
      ]
     },
     "execution_count": 11,
     "metadata": {},
     "output_type": "execute_result"
    }
   ],
   "source": [
    "type(test4())"
   ]
  },
  {
   "cell_type": "code",
   "execution_count": 12,
   "id": "8eb900b7",
   "metadata": {},
   "outputs": [],
   "source": [
    "b = test4()"
   ]
  },
  {
   "cell_type": "code",
   "execution_count": 13,
   "id": "37359868",
   "metadata": {},
   "outputs": [
    {
     "data": {
      "text/plain": [
       "4"
      ]
     },
     "execution_count": 13,
     "metadata": {},
     "output_type": "execute_result"
    }
   ],
   "source": [
    "b[0]"
   ]
  },
  {
   "cell_type": "code",
   "execution_count": 14,
   "id": "8211cfe9",
   "metadata": {},
   "outputs": [
    {
     "data": {
      "text/plain": [
       "3"
      ]
     },
     "execution_count": 14,
     "metadata": {},
     "output_type": "execute_result"
    }
   ],
   "source": [
    "b[1]"
   ]
  },
  {
   "cell_type": "code",
   "execution_count": 15,
   "id": "9ff47921",
   "metadata": {},
   "outputs": [
    {
     "data": {
      "text/plain": [
       "'sudh'"
      ]
     },
     "execution_count": 15,
     "metadata": {},
     "output_type": "execute_result"
    }
   ],
   "source": [
    "b[2]"
   ]
  },
  {
   "cell_type": "code",
   "execution_count": 16,
   "id": "217f6ee1",
   "metadata": {},
   "outputs": [
    {
     "data": {
      "text/plain": [
       "[1, 2, 3]"
      ]
     },
     "execution_count": 16,
     "metadata": {},
     "output_type": "execute_result"
    }
   ],
   "source": [
    "b[3]"
   ]
  },
  {
   "cell_type": "code",
   "execution_count": 17,
   "id": "37181b92",
   "metadata": {},
   "outputs": [],
   "source": [
    "a, b, c, d =test4()"
   ]
  },
  {
   "cell_type": "code",
   "execution_count": 18,
   "id": "5754387f",
   "metadata": {},
   "outputs": [
    {
     "data": {
      "text/plain": [
       "4"
      ]
     },
     "execution_count": 18,
     "metadata": {},
     "output_type": "execute_result"
    }
   ],
   "source": [
    "a"
   ]
  },
  {
   "cell_type": "code",
   "execution_count": 19,
   "id": "b32b77f6",
   "metadata": {},
   "outputs": [
    {
     "data": {
      "text/plain": [
       "3"
      ]
     },
     "execution_count": 19,
     "metadata": {},
     "output_type": "execute_result"
    }
   ],
   "source": [
    "b"
   ]
  },
  {
   "cell_type": "code",
   "execution_count": 20,
   "id": "6cf1b1cf",
   "metadata": {},
   "outputs": [
    {
     "data": {
      "text/plain": [
       "'sudh'"
      ]
     },
     "execution_count": 20,
     "metadata": {},
     "output_type": "execute_result"
    }
   ],
   "source": [
    "c"
   ]
  },
  {
   "cell_type": "code",
   "execution_count": 21,
   "id": "7c408299",
   "metadata": {},
   "outputs": [
    {
     "data": {
      "text/plain": [
       "[1, 2, 3]"
      ]
     },
     "execution_count": 21,
     "metadata": {},
     "output_type": "execute_result"
    }
   ],
   "source": [
    "d"
   ]
  },
  {
   "cell_type": "code",
   "execution_count": 22,
   "id": "49b572f0",
   "metadata": {},
   "outputs": [
    {
     "ename": "ValueError",
     "evalue": "not enough values to unpack (expected 5, got 4)",
     "output_type": "error",
     "traceback": [
      "\u001b[1;31m---------------------------------------------------------------------------\u001b[0m",
      "\u001b[1;31mValueError\u001b[0m                                Traceback (most recent call last)",
      "\u001b[1;32m~\\AppData\\Local\\Temp\\ipykernel_13400\\2206293510.py\u001b[0m in \u001b[0;36m<module>\u001b[1;34m\u001b[0m\n\u001b[1;32m----> 1\u001b[1;33m \u001b[0mx\u001b[0m\u001b[1;33m,\u001b[0m \u001b[0my\u001b[0m\u001b[1;33m,\u001b[0m \u001b[0mz\u001b[0m\u001b[1;33m,\u001b[0m \u001b[0mu\u001b[0m\u001b[1;33m,\u001b[0m \u001b[0mv\u001b[0m \u001b[1;33m=\u001b[0m\u001b[0mtest4\u001b[0m\u001b[1;33m(\u001b[0m\u001b[1;33m)\u001b[0m \u001b[1;31m#It will throw ValueError\u001b[0m\u001b[1;33m\u001b[0m\u001b[1;33m\u001b[0m\u001b[0m\n\u001b[0m",
      "\u001b[1;31mValueError\u001b[0m: not enough values to unpack (expected 5, got 4)"
     ]
    }
   ],
   "source": [
    "x, y, z, u, v =test4() #It will throw ValueError"
   ]
  },
  {
   "cell_type": "code",
   "execution_count": 23,
   "id": "e3e5e2b7",
   "metadata": {},
   "outputs": [],
   "source": [
    "#Write fun for dividion\n",
    "def test5():\n",
    "    a = 6*7/6\n",
    "    return a"
   ]
  },
  {
   "cell_type": "code",
   "execution_count": 24,
   "id": "4cb0378b",
   "metadata": {},
   "outputs": [
    {
     "data": {
      "text/plain": [
       "7.0"
      ]
     },
     "execution_count": 24,
     "metadata": {},
     "output_type": "execute_result"
    }
   ],
   "source": [
    "test5()"
   ]
  },
  {
   "cell_type": "code",
   "execution_count": 25,
   "id": "a0d72134",
   "metadata": {},
   "outputs": [],
   "source": [
    "#Write a fun for separating integers\n",
    "l = [3,4,5,6,7,7,\"aditya\",[4,54,56]]"
   ]
  },
  {
   "cell_type": "code",
   "execution_count": 26,
   "id": "85094998",
   "metadata": {},
   "outputs": [],
   "source": [
    "def test6(a):\n",
    "    n = []\n",
    "    if type(a) == list:\n",
    "        for i in a:\n",
    "            if type(i) == int:\n",
    "                n.append(i)\n",
    "    return n"
   ]
  },
  {
   "cell_type": "code",
   "execution_count": 27,
   "id": "82fd52b1",
   "metadata": {},
   "outputs": [
    {
     "data": {
      "text/plain": [
       "[3, 4, 5, 6, 7, 7]"
      ]
     },
     "execution_count": 27,
     "metadata": {},
     "output_type": "execute_result"
    }
   ],
   "source": [
    "test6(l)"
   ]
  },
  {
   "cell_type": "code",
   "execution_count": 28,
   "id": "20d8215a",
   "metadata": {},
   "outputs": [
    {
     "data": {
      "text/plain": [
       "list"
      ]
     },
     "execution_count": 28,
     "metadata": {},
     "output_type": "execute_result"
    }
   ],
   "source": [
    "type(test6(l))"
   ]
  },
  {
   "cell_type": "code",
   "execution_count": 29,
   "id": "20ae61c0",
   "metadata": {},
   "outputs": [
    {
     "data": {
      "text/plain": [
       "[2, 3, 3, 4, 56, 7]"
      ]
     },
     "execution_count": 29,
     "metadata": {},
     "output_type": "execute_result"
    }
   ],
   "source": [
    "test6([2,3,3,4,56,7,\"xyz\",(\"fsds\",\"fsds\",45)])"
   ]
  },
  {
   "cell_type": "code",
   "execution_count": 30,
   "id": "b113a834",
   "metadata": {},
   "outputs": [],
   "source": [
    "#Write a fun that return keys\n",
    "def test8(c):\n",
    "    if type(c) == dict:\n",
    "        return c.keys()\n",
    "    else:\n",
    "        return \"You have not passed a dictionary\""
   ]
  },
  {
   "cell_type": "code",
   "execution_count": 31,
   "id": "a5656a8c",
   "metadata": {},
   "outputs": [
    {
     "data": {
      "text/plain": [
       "'You have not passed a dictionary'"
      ]
     },
     "execution_count": 31,
     "metadata": {},
     "output_type": "execute_result"
    }
   ],
   "source": [
    "test8(\"fsds\")"
   ]
  },
  {
   "cell_type": "code",
   "execution_count": 32,
   "id": "24007d73",
   "metadata": {},
   "outputs": [
    {
     "data": {
      "text/plain": [
       "dict_keys(['a', 'b', 'c'])"
      ]
     },
     "execution_count": 32,
     "metadata": {},
     "output_type": "execute_result"
    }
   ],
   "source": [
    "test8({\"a\" : \"fsds\",\"b\" : 2354,\"c\" : [4,5,76]})"
   ]
  },
  {
   "cell_type": "code",
   "execution_count": 37,
   "id": "252fdae6",
   "metadata": {},
   "outputs": [],
   "source": [
    "def test9(a,b):\n",
    "    if type(a) == list and type(b) == list:\n",
    "        a.extend(b)\n",
    "        return a\n",
    "    else:\n",
    "        return \"Your data is not a list\""
   ]
  },
  {
   "cell_type": "code",
   "execution_count": 38,
   "id": "d07c3203",
   "metadata": {},
   "outputs": [
    {
     "data": {
      "text/plain": [
       "'Your data is not a list'"
      ]
     },
     "execution_count": 38,
     "metadata": {},
     "output_type": "execute_result"
    }
   ],
   "source": [
    "test9(2424,\"Aditya\")"
   ]
  },
  {
   "cell_type": "code",
   "execution_count": 39,
   "id": "98b944ac",
   "metadata": {},
   "outputs": [
    {
     "data": {
      "text/plain": [
       "[2, 3, 4, 5, 4, 5, 6]"
      ]
     },
     "execution_count": 39,
     "metadata": {},
     "output_type": "execute_result"
    }
   ],
   "source": [
    "test9([2,3,4,5],[4,5,6])"
   ]
  },
  {
   "cell_type": "code",
   "execution_count": 40,
   "id": "9b3c49ad",
   "metadata": {},
   "outputs": [],
   "source": [
    "a = [2,3,4]\n",
    "b = [4,5,7]"
   ]
  },
  {
   "cell_type": "code",
   "execution_count": 41,
   "id": "bc111a97",
   "metadata": {},
   "outputs": [
    {
     "data": {
      "text/plain": [
       "[2, 3, 4, 4, 5, 7]"
      ]
     },
     "execution_count": 41,
     "metadata": {},
     "output_type": "execute_result"
    }
   ],
   "source": [
    "test9(a,b)"
   ]
  },
  {
   "cell_type": "code",
   "execution_count": null,
   "id": "579a8afb",
   "metadata": {},
   "outputs": [],
   "source": []
  },
  {
   "cell_type": "code",
   "execution_count": 47,
   "id": "e5456a80",
   "metadata": {},
   "outputs": [],
   "source": [
    "def Create_Triangle(row_num):\n",
    "    n = row_num\n",
    "    k = n-1\n",
    "    for i in range(0,n):\n",
    "        for j in range(0,k):\n",
    "            print(end = \"\")\n",
    "        k = k-1\n",
    "        for j in range(0,i+1):\n",
    "            print(\"*\",end=\"\")\n",
    "        print(\"\\n\")"
   ]
  },
  {
   "cell_type": "code",
   "execution_count": 48,
   "id": "1189f998",
   "metadata": {},
   "outputs": [
    {
     "name": "stdout",
     "output_type": "stream",
     "text": [
      "*\n",
      "\n",
      "**\n",
      "\n",
      "***\n",
      "\n"
     ]
    }
   ],
   "source": [
    "Create_Triangle(3)"
   ]
  },
  {
   "cell_type": "code",
   "execution_count": 53,
   "id": "48806cab",
   "metadata": {},
   "outputs": [],
   "source": [
    "def triangle(rows):\n",
    "    if type(rows) == int:\n",
    "        for i in range(0,rows):\n",
    "            for j in range(i):\n",
    "                print(\"*\",end=\" \")\n",
    "            print(\"\\n\")"
   ]
  },
  {
   "cell_type": "code",
   "execution_count": 54,
   "id": "e8254632",
   "metadata": {},
   "outputs": [
    {
     "name": "stdout",
     "output_type": "stream",
     "text": [
      "\n",
      "\n",
      "* \n",
      "\n",
      "* * \n",
      "\n"
     ]
    }
   ],
   "source": [
    "triangle(3)"
   ]
  },
  {
   "cell_type": "code",
   "execution_count": null,
   "id": "1ea3d78a",
   "metadata": {},
   "outputs": [],
   "source": []
  },
  {
   "cell_type": "markdown",
   "id": "ac7e5f0c",
   "metadata": {},
   "source": [
    "# Write Hint inside the function"
   ]
  },
  {
   "cell_type": "code",
   "execution_count": 55,
   "id": "239f27d3",
   "metadata": {},
   "outputs": [],
   "source": [
    "#Press shift + tab inside test10 fun so you get describtion about the function\n",
    "def test10(n):\n",
    "    \"\"\"\n",
    "    This is a fun which help you to create a triangle\n",
    "    with any no of rows.\n",
    "    \"\"\"\n",
    "    for i in range(0,n):\n",
    "        for j in range(0,i+1):\n",
    "            print(\"*\",end=\" \")\n",
    "        print(\"\\r\")"
   ]
  },
  {
   "cell_type": "code",
   "execution_count": null,
   "id": "c17e71c4",
   "metadata": {},
   "outputs": [],
   "source": []
  },
  {
   "cell_type": "markdown",
   "id": "77e6a1f3",
   "metadata": {},
   "source": [
    "# How to pass n no. of arguments inside a function"
   ]
  },
  {
   "cell_type": "markdown",
   "id": "3d7bdd73",
   "metadata": {},
   "source": [
    "To pass n no. of arguments use *(asterick) before any name and passs that name inside argument section.\n"
   ]
  },
  {
   "cell_type": "code",
   "execution_count": 56,
   "id": "42729d7e",
   "metadata": {},
   "outputs": [],
   "source": [
    "#args is not keyword you can use any name insted of args\n",
    "def test1(*args):\n",
    "    return args"
   ]
  },
  {
   "cell_type": "code",
   "execution_count": 57,
   "id": "0eff3f95",
   "metadata": {},
   "outputs": [
    {
     "data": {
      "text/plain": [
       "(45, 56, 78)"
      ]
     },
     "execution_count": 57,
     "metadata": {},
     "output_type": "execute_result"
    }
   ],
   "source": [
    "test1(45,56,78)"
   ]
  },
  {
   "cell_type": "code",
   "execution_count": 58,
   "id": "e87c64ac",
   "metadata": {},
   "outputs": [
    {
     "data": {
      "text/plain": [
       "(45, 34, 'Aditya', 45, 67)"
      ]
     },
     "execution_count": 58,
     "metadata": {},
     "output_type": "execute_result"
    }
   ],
   "source": [
    "test1(45,34,\"Aditya\",45,67)"
   ]
  },
  {
   "cell_type": "code",
   "execution_count": 59,
   "id": "0bd7e088",
   "metadata": {},
   "outputs": [
    {
     "data": {
      "text/plain": [
       "([1, 2, 43, 45], (45, 67, 76, 78), 'fsds', (34+7j))"
      ]
     },
     "execution_count": 59,
     "metadata": {},
     "output_type": "execute_result"
    }
   ],
   "source": [
    "test1([1,2,43,45],(45,67,76,78),\"fsds\",34+7j)"
   ]
  },
  {
   "cell_type": "code",
   "execution_count": null,
   "id": "e6d87486",
   "metadata": {},
   "outputs": [],
   "source": []
  },
  {
   "cell_type": "code",
   "execution_count": 60,
   "id": "53aeb145",
   "metadata": {},
   "outputs": [],
   "source": [
    "def test2(*Aditya):\n",
    "    return Aditya"
   ]
  },
  {
   "cell_type": "code",
   "execution_count": 61,
   "id": "3778fbbd",
   "metadata": {},
   "outputs": [
    {
     "data": {
      "text/plain": [
       "('fssds', 3445, '255', 34.5)"
      ]
     },
     "execution_count": 61,
     "metadata": {},
     "output_type": "execute_result"
    }
   ],
   "source": [
    "test2(\"fssds\",3445,\"255\",34.5)"
   ]
  },
  {
   "cell_type": "code",
   "execution_count": null,
   "id": "4d23fd8f",
   "metadata": {},
   "outputs": [],
   "source": []
  },
  {
   "cell_type": "code",
   "execution_count": 62,
   "id": "811d3d94",
   "metadata": {},
   "outputs": [],
   "source": [
    "def test3(*sudh,a):\n",
    "    return sudh, a"
   ]
  },
  {
   "cell_type": "code",
   "execution_count": 63,
   "id": "a06dc102",
   "metadata": {},
   "outputs": [
    {
     "ename": "TypeError",
     "evalue": "test3() missing 1 required keyword-only argument: 'a'",
     "output_type": "error",
     "traceback": [
      "\u001b[1;31m---------------------------------------------------------------------------\u001b[0m",
      "\u001b[1;31mTypeError\u001b[0m                                 Traceback (most recent call last)",
      "\u001b[1;32m~\\AppData\\Local\\Temp\\ipykernel_13400\\1391247197.py\u001b[0m in \u001b[0;36m<module>\u001b[1;34m\u001b[0m\n\u001b[1;32m----> 1\u001b[1;33m \u001b[0mtest3\u001b[0m\u001b[1;33m(\u001b[0m\u001b[1;36m12\u001b[0m\u001b[1;33m,\u001b[0m\u001b[1;36m4\u001b[0m\u001b[1;33m,\u001b[0m\u001b[1;36m5\u001b[0m\u001b[1;33m)\u001b[0m\u001b[1;33m\u001b[0m\u001b[1;33m\u001b[0m\u001b[0m\n\u001b[0m",
      "\u001b[1;31mTypeError\u001b[0m: test3() missing 1 required keyword-only argument: 'a'"
     ]
    }
   ],
   "source": [
    "test3(12,4,5)"
   ]
  },
  {
   "cell_type": "code",
   "execution_count": 66,
   "id": "fefd7c9e",
   "metadata": {},
   "outputs": [],
   "source": [
    "'''\n",
    "When een you are going to keep individual argument in the begining in that case\n",
    "it is going to consider very first data set as a value of this argument\n",
    "'''\n",
    "def test3(a,*sudh):\n",
    "    return sudh, a"
   ]
  },
  {
   "cell_type": "code",
   "execution_count": 67,
   "id": "d9d9311a",
   "metadata": {},
   "outputs": [
    {
     "data": {
      "text/plain": [
       "((4, 5), 12)"
      ]
     },
     "execution_count": 67,
     "metadata": {},
     "output_type": "execute_result"
    }
   ],
   "source": [
    "test3(12,4,5)"
   ]
  },
  {
   "cell_type": "code",
   "execution_count": null,
   "id": "27b29e7f",
   "metadata": {},
   "outputs": [],
   "source": []
  },
  {
   "cell_type": "code",
   "execution_count": 70,
   "id": "841f500b",
   "metadata": {},
   "outputs": [],
   "source": [
    "def test4(*args):\n",
    "    for i in args:\n",
    "        if type(i) == list:\n",
    "            return i"
   ]
  },
  {
   "cell_type": "code",
   "execution_count": 72,
   "id": "8c622588",
   "metadata": {},
   "outputs": [
    {
     "data": {
      "text/plain": [
       "[34, 3]"
      ]
     },
     "execution_count": 72,
     "metadata": {},
     "output_type": "execute_result"
    }
   ],
   "source": [
    "test4(546,[34,3],[23,4,5],\"fsds\")"
   ]
  },
  {
   "cell_type": "code",
   "execution_count": null,
   "id": "3497b2ef",
   "metadata": {},
   "outputs": [],
   "source": []
  },
  {
   "cell_type": "code",
   "execution_count": 73,
   "id": "53318127",
   "metadata": {},
   "outputs": [],
   "source": [
    "def test5(*args):\n",
    "    l = []\n",
    "    for i in args:\n",
    "        if type(i) == list:\n",
    "            l.append(i)\n",
    "    return l"
   ]
  },
  {
   "cell_type": "code",
   "execution_count": 74,
   "id": "20d56ca8",
   "metadata": {},
   "outputs": [
    {
     "data": {
      "text/plain": [
       "[[34, 3], [23, 4, 5]]"
      ]
     },
     "execution_count": 74,
     "metadata": {},
     "output_type": "execute_result"
    }
   ],
   "source": [
    "test5(546,[34,3],[23,4,5],\"fsds\")"
   ]
  },
  {
   "cell_type": "code",
   "execution_count": null,
   "id": "c4801851",
   "metadata": {},
   "outputs": [],
   "source": []
  },
  {
   "cell_type": "markdown",
   "id": "49a65648",
   "metadata": {},
   "source": [
    "# How to pass n. no of key-value pairs in function"
   ]
  },
  {
   "cell_type": "markdown",
   "id": "84dd9abd",
   "metadata": {},
   "source": [
    "To pass n. no of key value pair use **(double asteric) in frount of any name."
   ]
  },
  {
   "cell_type": "code",
   "execution_count": 75,
   "id": "9d184e5a",
   "metadata": {},
   "outputs": [],
   "source": [
    "#kwagrs id not keyword you can use any name.\n",
    "def test1(**kwargs):\n",
    "    return kwargs"
   ]
  },
  {
   "cell_type": "code",
   "execution_count": 77,
   "id": "1dbb4b14",
   "metadata": {},
   "outputs": [
    {
     "ename": "TypeError",
     "evalue": "test1() takes 0 positional arguments but 4 were given",
     "output_type": "error",
     "traceback": [
      "\u001b[1;31m---------------------------------------------------------------------------\u001b[0m",
      "\u001b[1;31mTypeError\u001b[0m                                 Traceback (most recent call last)",
      "\u001b[1;32m~\\AppData\\Local\\Temp\\ipykernel_13400\\2953476937.py\u001b[0m in \u001b[0;36m<module>\u001b[1;34m\u001b[0m\n\u001b[1;32m----> 1\u001b[1;33m \u001b[0mtest1\u001b[0m\u001b[1;33m(\u001b[0m\u001b[1;36m1\u001b[0m\u001b[1;33m,\u001b[0m\u001b[1;36m2\u001b[0m\u001b[1;33m,\u001b[0m\u001b[1;36m3\u001b[0m\u001b[1;33m,\u001b[0m\u001b[1;36m4\u001b[0m\u001b[1;33m)\u001b[0m\u001b[1;33m\u001b[0m\u001b[1;33m\u001b[0m\u001b[0m\n\u001b[0m",
      "\u001b[1;31mTypeError\u001b[0m: test1() takes 0 positional arguments but 4 were given"
     ]
    }
   ],
   "source": [
    "test1(1,2,3,4)"
   ]
  },
  {
   "cell_type": "code",
   "execution_count": 79,
   "id": "c404c8a7",
   "metadata": {},
   "outputs": [
    {
     "data": {
      "text/plain": [
       "{'a': 124, 'b': [1, 2, 3]}"
      ]
     },
     "execution_count": 79,
     "metadata": {},
     "output_type": "execute_result"
    }
   ],
   "source": [
    "test1(a = 124, b = [1,2,3])"
   ]
  },
  {
   "cell_type": "code",
   "execution_count": null,
   "id": "64839fa6",
   "metadata": {},
   "outputs": [],
   "source": []
  },
  {
   "cell_type": "code",
   "execution_count": 80,
   "id": "3f8d145b",
   "metadata": {},
   "outputs": [],
   "source": [
    "def test2(**aditya):\n",
    "    return aditya"
   ]
  },
  {
   "cell_type": "code",
   "execution_count": 81,
   "id": "47f02b34",
   "metadata": {},
   "outputs": [
    {
     "data": {
      "text/plain": [
       "{'a': 124, 'b': [1, 2, 3]}"
      ]
     },
     "execution_count": 81,
     "metadata": {},
     "output_type": "execute_result"
    }
   ],
   "source": [
    "test2(a = 124, b = [1,2,3])"
   ]
  },
  {
   "cell_type": "code",
   "execution_count": null,
   "id": "5a4c4187",
   "metadata": {},
   "outputs": [],
   "source": []
  },
  {
   "cell_type": "code",
   "execution_count": 85,
   "id": "2d7aea44",
   "metadata": {},
   "outputs": [],
   "source": [
    "def test3(a,**aditya):\n",
    "    return aditya,a"
   ]
  },
  {
   "cell_type": "code",
   "execution_count": 86,
   "id": "b9f71e38",
   "metadata": {},
   "outputs": [
    {
     "data": {
      "text/plain": [
       "({'c': 124, 'b': [1, 2, 3]}, 55)"
      ]
     },
     "execution_count": 86,
     "metadata": {},
     "output_type": "execute_result"
    }
   ],
   "source": [
    "test3(55,c = 124, b = [1,2,3])"
   ]
  },
  {
   "cell_type": "code",
   "execution_count": null,
   "id": "063d93c8",
   "metadata": {},
   "outputs": [],
   "source": []
  },
  {
   "cell_type": "code",
   "execution_count": 87,
   "id": "1ca0d4f6",
   "metadata": {},
   "outputs": [
    {
     "ename": "SyntaxError",
     "evalue": "invalid syntax (3413108132.py, line 1)",
     "output_type": "error",
     "traceback": [
      "\u001b[1;36m  File \u001b[1;32m\"C:\\Users\\adity\\AppData\\Local\\Temp\\ipykernel_13400\\3413108132.py\"\u001b[1;36m, line \u001b[1;32m1\u001b[0m\n\u001b[1;33m    def test4(a, **kwargs, *args):\u001b[0m\n\u001b[1;37m                           ^\u001b[0m\n\u001b[1;31mSyntaxError\u001b[0m\u001b[1;31m:\u001b[0m invalid syntax\n"
     ]
    }
   ],
   "source": [
    "def test4(a, **kwargs, *args):\n",
    "    return kwargs,a,args"
   ]
  },
  {
   "cell_type": "code",
   "execution_count": 88,
   "id": "ab8aedf0",
   "metadata": {},
   "outputs": [],
   "source": [
    "def test4(a, *args, **kwargs):\n",
    "    return a, args, kwargs"
   ]
  },
  {
   "cell_type": "code",
   "execution_count": 89,
   "id": "a92ec63f",
   "metadata": {},
   "outputs": [
    {
     "data": {
      "text/plain": [
       "(44, (222, 'aditya'), {'c': 124, 'b': [1, 2, 3]})"
      ]
     },
     "execution_count": 89,
     "metadata": {},
     "output_type": "execute_result"
    }
   ],
   "source": [
    "test4(44,222,\"aditya\",c = 124, b = [1,2,3])"
   ]
  },
  {
   "cell_type": "code",
   "execution_count": null,
   "id": "3aa4321e",
   "metadata": {},
   "outputs": [],
   "source": []
  }
 ],
 "metadata": {
  "kernelspec": {
   "display_name": "Python 3 (ipykernel)",
   "language": "python",
   "name": "python3"
  },
  "language_info": {
   "codemirror_mode": {
    "name": "ipython",
    "version": 3
   },
   "file_extension": ".py",
   "mimetype": "text/x-python",
   "name": "python",
   "nbconvert_exporter": "python",
   "pygments_lexer": "ipython3",
   "version": "3.9.13"
  }
 },
 "nbformat": 4,
 "nbformat_minor": 5
}
