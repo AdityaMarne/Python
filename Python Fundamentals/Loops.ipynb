{
 "cells": [
  {
   "cell_type": "markdown",
   "id": "548ead02",
   "metadata": {},
   "source": [
    "# Loops"
   ]
  },
  {
   "cell_type": "markdown",
   "id": "4a4e3d21",
   "metadata": {},
   "source": [
    "We can run a single statement or set of statements repeatedly using a loop command.\n",
    "\n",
    "types of lops:\n",
    "\n",
    "1] for loop\n",
    "2] while loop"
   ]
  },
  {
   "cell_type": "markdown",
   "id": "5b25cd25",
   "metadata": {},
   "source": [
    "# 1] for loop"
   ]
  },
  {
   "cell_type": "markdown",
   "id": "dcd01fc1",
   "metadata": {},
   "source": [
    "Python's for loop is designed to repeatedly execute a code block while iterating through a list, tuple, dictionary, or other iterable objects of Python. The process of traversing a sequence is known as iteration.\n",
    "\n",
    "Syntax of the for Loop\n",
    "\n",
    "for value in sequence:  \n",
    "    { code block }  \n",
    "    \n",
    "    \n",
    "Loop iterates until the final item of the sequence are reached."
   ]
  },
  {
   "cell_type": "code",
   "execution_count": 1,
   "id": "b429f6f2",
   "metadata": {},
   "outputs": [
    {
     "name": "stdout",
     "output_type": "stream",
     "text": [
      "1\n",
      "2\n",
      "3\n",
      "4\n",
      "5\n",
      "6\n",
      "7\n",
      "8\n",
      "9\n"
     ]
    }
   ],
   "source": [
    "l = [1,2,3,4,5,6,7,8,9]\n",
    "\n",
    "for i in l:\n",
    "    print(i) #Extract integers one by one from a list."
   ]
  },
  {
   "cell_type": "code",
   "execution_count": 2,
   "id": "73199f4f",
   "metadata": {},
   "outputs": [
    {
     "name": "stdout",
     "output_type": "stream",
     "text": [
      "A\n",
      "d\n",
      "i\n",
      "t\n",
      "y\n",
      "a\n"
     ]
    }
   ],
   "source": [
    "s = \"Aditya\"\n",
    "\n",
    "for i in s:\n",
    "    print(i) #Extract each character from string"
   ]
  },
  {
   "cell_type": "code",
   "execution_count": 3,
   "id": "aab751a4",
   "metadata": {},
   "outputs": [
    {
     "name": "stdout",
     "output_type": "stream",
     "text": [
      "1\n",
      "2\n",
      "2\n",
      "4\n",
      "5\n",
      "6\n",
      "8\n"
     ]
    }
   ],
   "source": [
    "t = (1,2,2,4,5,6,8)\n",
    "\n",
    "for i in t:\n",
    "    print(i) #Extract each integer from tuple"
   ]
  },
  {
   "cell_type": "code",
   "execution_count": 4,
   "id": "df94ceef",
   "metadata": {},
   "outputs": [
    {
     "name": "stdout",
     "output_type": "stream",
     "text": [
      "<class 'int'>\n",
      "<class 'int'>\n",
      "<class 'float'>\n",
      "<class 'complex'>\n",
      "<class 'str'>\n",
      "<class 'bool'>\n"
     ]
    }
   ],
   "source": [
    "l = [1, 4, 5.6, 4+6j, \"Aditya\", True]\n",
    "\n",
    "for i in l:\n",
    "    print(type(i)) #It prints datatype of each list element"
   ]
  },
  {
   "cell_type": "code",
   "execution_count": 5,
   "id": "4e0f7396",
   "metadata": {},
   "outputs": [
    {
     "name": "stdout",
     "output_type": "stream",
     "text": [
      "3\n",
      "6\n",
      "7.6\n"
     ]
    }
   ],
   "source": [
    "l = [1, 4, 5.6]\n",
    "\n",
    "for i in l:\n",
    "    print(i+2) #Add 2 in each element"
   ]
  },
  {
   "cell_type": "code",
   "execution_count": 6,
   "id": "e6cf2bb6",
   "metadata": {},
   "outputs": [
    {
     "data": {
      "text/plain": [
       "[2, 8, 11.2]"
      ]
     },
     "execution_count": 6,
     "metadata": {},
     "output_type": "execute_result"
    }
   ],
   "source": [
    "l1 = []\n",
    "\n",
    "for i in l:\n",
    "    l1.append(i*2) #It append each element of l + 2 \n",
    "\n",
    "l1"
   ]
  },
  {
   "cell_type": "code",
   "execution_count": 7,
   "id": "4f4782db",
   "metadata": {},
   "outputs": [
    {
     "name": "stdout",
     "output_type": "stream",
     "text": [
      "2\n",
      "45\n",
      "78\n",
      "12\n"
     ]
    }
   ],
   "source": [
    "#print all the integer elements from the list\n",
    "l2 = [2, 45, 78, 12, \"Aditya\", 6+7j,[56, 25, 78]]\n",
    "\n",
    "for i in l2:\n",
    "    if type(i) == int:\n",
    "        print(i)"
   ]
  },
  {
   "cell_type": "code",
   "execution_count": 8,
   "id": "cf2320f3",
   "metadata": {},
   "outputs": [
    {
     "name": "stdout",
     "output_type": "stream",
     "text": [
      "2\n",
      "45\n",
      "78\n",
      "12\n",
      "56\n",
      "25\n",
      "78\n"
     ]
    }
   ],
   "source": [
    "#print all the integer elements from the list if list have nested list.\n",
    "for i in l2:\n",
    "    if type(i) == int:\n",
    "        print(i)\n",
    "    elif type(i) == list:\n",
    "        for j in i:\n",
    "            if type(j) == int:\n",
    "                print(j)"
   ]
  },
  {
   "cell_type": "code",
   "execution_count": null,
   "id": "3c69ffef",
   "metadata": {},
   "outputs": [],
   "source": []
  },
  {
   "cell_type": "markdown",
   "id": "a1c283d0",
   "metadata": {},
   "source": [
    "l3 = [2, 45, 78, 12, \"Aditya\", 6+7j, [56, 67, 78, \"Marne\"]]\n",
    "\n",
    "Q1. Try to print index of all the elements.\n",
    "\n",
    "Q2. Try to extract all the list of char if element is string\n",
    "\n",
    "Q3. Try to return a list after doing a square of all the int element."
   ]
  },
  {
   "cell_type": "code",
   "execution_count": 9,
   "id": "504856a2",
   "metadata": {},
   "outputs": [],
   "source": [
    "l3 = [2, 45, 78, 12, \"Aditya\", 6+7j, [56, 67, 78, \"Marne\"]]"
   ]
  },
  {
   "cell_type": "code",
   "execution_count": 10,
   "id": "155a092a",
   "metadata": {},
   "outputs": [
    {
     "name": "stdout",
     "output_type": "stream",
     "text": [
      "Index  0 for an element 2\n",
      "Index  1 for an element 45\n",
      "Index  2 for an element 78\n",
      "Index  3 for an element 12\n",
      "Index  4 for an element Aditya\n",
      "Index  5 for an element (6+7j)\n",
      "Index  6 for an element [56, 67, 78, 'Marne']\n"
     ]
    }
   ],
   "source": [
    "#Q1. Try to print index of all the elements.\n",
    "for i in range(len(l3)):\n",
    "    print(\"Index \",i,\"for an element\",l3[i])"
   ]
  },
  {
   "cell_type": "code",
   "execution_count": 11,
   "id": "d19136ec",
   "metadata": {},
   "outputs": [
    {
     "name": "stdout",
     "output_type": "stream",
     "text": [
      "(0, 2)\n",
      "(1, 45)\n",
      "(2, 78)\n",
      "(3, 12)\n",
      "(4, 'Aditya')\n",
      "(5, (6+7j))\n",
      "(6, [56, 67, 78, 'Marne'])\n"
     ]
    }
   ],
   "source": [
    "for i in enumerate(l3):\n",
    "    print(i)"
   ]
  },
  {
   "cell_type": "code",
   "execution_count": 12,
   "id": "1063c45e",
   "metadata": {},
   "outputs": [
    {
     "data": {
      "text/plain": [
       "[2, 45, 78, 12, 'Aditya', (6+7j), [56, 67, 78, 'Marne']]"
      ]
     },
     "execution_count": 12,
     "metadata": {},
     "output_type": "execute_result"
    }
   ],
   "source": [
    "#Q2. Try to extract all the list of char if element is string\n",
    "l3"
   ]
  },
  {
   "cell_type": "code",
   "execution_count": 13,
   "id": "7a85d643",
   "metadata": {},
   "outputs": [
    {
     "data": {
      "text/plain": [
       "['A', 'd', 'i', 't', 'y', 'a', 'M', 'a', 'r', 'n', 'e']"
      ]
     },
     "execution_count": 13,
     "metadata": {},
     "output_type": "execute_result"
    }
   ],
   "source": [
    "l4 =[]\n",
    "for i in l3:\n",
    "    if type(i) == str:\n",
    "        for j in i:\n",
    "            l4.append(j)\n",
    "    elif type(i) == list:\n",
    "        for j in i:\n",
    "            if type(j) == str:\n",
    "                #l4.append(j)\n",
    "                for k in j:\n",
    "                    l4.append(k)\n",
    "            \n",
    "l4"
   ]
  },
  {
   "cell_type": "code",
   "execution_count": 14,
   "id": "81348403",
   "metadata": {},
   "outputs": [
    {
     "data": {
      "text/plain": [
       "[2, 45, 78, 12, 'Aditya', (6+7j), [56, 67, 78, 'Marne']]"
      ]
     },
     "execution_count": 14,
     "metadata": {},
     "output_type": "execute_result"
    }
   ],
   "source": [
    "#Q3. Try to return a list after doing a square of all the int element.\n",
    "l3"
   ]
  },
  {
   "cell_type": "code",
   "execution_count": 15,
   "id": "6daf66b9",
   "metadata": {},
   "outputs": [],
   "source": [
    "l5 = []"
   ]
  },
  {
   "cell_type": "code",
   "execution_count": 16,
   "id": "dbcbc9c1",
   "metadata": {},
   "outputs": [],
   "source": [
    "for i in l3:\n",
    "    #print(i)\n",
    "    if type(i) == int:\n",
    "        #print(i)\n",
    "        #print(i*i)\n",
    "        l5.append(i*i)\n",
    "    elif type(i) == list:\n",
    "        #print(i)\n",
    "        for j in i:\n",
    "            #print(j)\n",
    "            if type(j) == int:\n",
    "                #print(j)\n",
    "                l5.append(j*j)\n",
    " \n",
    "\n"
   ]
  },
  {
   "cell_type": "code",
   "execution_count": 17,
   "id": "5c38f806",
   "metadata": {},
   "outputs": [
    {
     "data": {
      "text/plain": [
       "[4, 2025, 6084, 144, 3136, 4489, 6084]"
      ]
     },
     "execution_count": 17,
     "metadata": {},
     "output_type": "execute_result"
    }
   ],
   "source": [
    "l5"
   ]
  },
  {
   "cell_type": "code",
   "execution_count": null,
   "id": "83564251",
   "metadata": {},
   "outputs": [],
   "source": []
  },
  {
   "cell_type": "markdown",
   "id": "1d00065e",
   "metadata": {},
   "source": [
    "# 2] for else"
   ]
  },
  {
   "cell_type": "markdown",
   "id": "9140c60e",
   "metadata": {},
   "source": [
    "If for is executed successfully then else block get executed.\n",
    "\n",
    "If for loop is not going to complete or it is interupted in that case iti is not going to \n",
    "execute else statement."
   ]
  },
  {
   "cell_type": "code",
   "execution_count": 18,
   "id": "0ebec421",
   "metadata": {},
   "outputs": [],
   "source": [
    "l7 = [\"name\", \"email\", \"phone no\", \"address\"]"
   ]
  },
  {
   "cell_type": "code",
   "execution_count": 19,
   "id": "c14604b7",
   "metadata": {},
   "outputs": [
    {
     "name": "stdout",
     "output_type": "stream",
     "text": [
      "name\n",
      "email\n",
      "phone no\n",
      "address\n",
      "If for loop is not going to complete itself then it will not come to else\n"
     ]
    }
   ],
   "source": [
    "for i in l7:\n",
    "    print(i)\n",
    "else:\n",
    "    print(\"If for loop is not going to complete itself then it will not come to else\")"
   ]
  },
  {
   "cell_type": "code",
   "execution_count": 20,
   "id": "7b2c4b7b",
   "metadata": {},
   "outputs": [
    {
     "name": "stdout",
     "output_type": "stream",
     "text": [
      "name\n"
     ]
    }
   ],
   "source": [
    "for i in l7:\n",
    "    if i == 'email':\n",
    "        break\n",
    "    print(i)\n",
    "else:\n",
    "    print(\"If for loop is not going to complete itself then it will not come to else\")"
   ]
  },
  {
   "cell_type": "code",
   "execution_count": null,
   "id": "6c4cee01",
   "metadata": {},
   "outputs": [],
   "source": []
  },
  {
   "cell_type": "markdown",
   "id": "2ba64624",
   "metadata": {},
   "source": [
    "# 3] While loop"
   ]
  },
  {
   "cell_type": "markdown",
   "id": "49c14d69",
   "metadata": {},
   "source": [
    "The python while loop iteration of a code block is executed as long as given condition is true.\n",
    "\n",
    "syntax:-\n",
    "\n",
    "while condition_expression:\n",
    "\n",
    "    code block for while\n",
    "    \n",
    "    \n",
    "If the conditional_expression gives a boolean value true, the while loop statement are executed\n",
    "\n",
    "The conditional_expression is verified again when the complete block is executed.\n",
    "\n",
    "This process repetedly occurs untill the condition expression return the boolean value false"
   ]
  },
  {
   "cell_type": "code",
   "execution_count": 21,
   "id": "becf0656",
   "metadata": {},
   "outputs": [
    {
     "name": "stdout",
     "output_type": "stream",
     "text": [
      "1\n",
      "2\n",
      "3\n",
      "4\n"
     ]
    }
   ],
   "source": [
    "i = 1\n",
    "\n",
    "while i < 5:\n",
    "    print(i)\n",
    "    i = i+1"
   ]
  },
  {
   "cell_type": "code",
   "execution_count": null,
   "id": "f6152991",
   "metadata": {},
   "outputs": [],
   "source": []
  },
  {
   "cell_type": "code",
   "execution_count": 22,
   "id": "454db375",
   "metadata": {},
   "outputs": [
    {
     "name": "stdout",
     "output_type": "stream",
     "text": [
      "* \n",
      "* * \n",
      "* * * \n",
      "* * * * \n",
      "* * * * * \n"
     ]
    }
   ],
   "source": [
    "#Q1. print pattern\n",
    "'''\n",
    "*\n",
    "**\n",
    "***\n",
    "****\n",
    "*****\n",
    "'''\n",
    "\n",
    "for i in range(0,5):\n",
    "    for j in range(0, i+1):\n",
    "        print(\"*\",end=\" \")\n",
    "    print(\"\")"
   ]
  },
  {
   "cell_type": "code",
   "execution_count": 23,
   "id": "b26898d2",
   "metadata": {},
   "outputs": [
    {
     "name": "stdout",
     "output_type": "stream",
     "text": [
      "7\n",
      "7\n",
      "6\n",
      "5\n",
      "4\n",
      "4\n"
     ]
    }
   ],
   "source": [
    "#Q2. Print tuple in reverse order\n",
    "t = (3, 4, 4, 5, 6, 7, 7)\n",
    "\n",
    "for i in range(len(t)-1, 0, -1):\n",
    "    print(t[i])"
   ]
  },
  {
   "cell_type": "code",
   "execution_count": null,
   "id": "5ef6f710",
   "metadata": {},
   "outputs": [],
   "source": []
  },
  {
   "cell_type": "code",
   "execution_count": 26,
   "id": "820e9713",
   "metadata": {},
   "outputs": [
    {
     "name": "stdout",
     "output_type": "stream",
     "text": [
      "a fsds\n",
      "b fsds\n",
      "c [1,2,3]\n",
      "d (4, 5, 6, 7)\n",
      "e sudh\n"
     ]
    }
   ],
   "source": [
    "#Q3. Print keys and values from dictionanry\n",
    "d = {\"a\" : \"fsds\", \"b\" : \"fsds\", \"c\" : \"[1,2,3]\", \"d\" : (4,5,6,7), \"e\" : \"sudh\"}\n",
    "\n",
    "for i in d:\n",
    "    print(i,d[i])"
   ]
  },
  {
   "cell_type": "code",
   "execution_count": 29,
   "id": "65294aea",
   "metadata": {},
   "outputs": [
    {
     "name": "stdout",
     "output_type": "stream",
     "text": [
      "('a', 'fsds')\n",
      "('b', 'fsds')\n",
      "('c', '[1,2,3]')\n",
      "('d', (4, 5, 6, 7))\n",
      "('e', 'sudh')\n"
     ]
    }
   ],
   "source": [
    "for i in d.items():\n",
    "    print(i)"
   ]
  },
  {
   "cell_type": "code",
   "execution_count": null,
   "id": "579fa4d5",
   "metadata": {},
   "outputs": [],
   "source": []
  },
  {
   "cell_type": "code",
   "execution_count": 1,
   "id": "33dc63e8",
   "metadata": {},
   "outputs": [],
   "source": [
    "#Q4.Count no of letters in string\n",
    "s = \"Aditya\""
   ]
  },
  {
   "cell_type": "code",
   "execution_count": 2,
   "id": "48838db7",
   "metadata": {},
   "outputs": [
    {
     "data": {
      "text/plain": [
       "6"
      ]
     },
     "execution_count": 2,
     "metadata": {},
     "output_type": "execute_result"
    }
   ],
   "source": [
    "len(s)"
   ]
  },
  {
   "cell_type": "code",
   "execution_count": 3,
   "id": "3962c12c",
   "metadata": {},
   "outputs": [
    {
     "data": {
      "text/plain": [
       "6"
      ]
     },
     "execution_count": 3,
     "metadata": {},
     "output_type": "execute_result"
    }
   ],
   "source": [
    "count = 0\n",
    "for i in s:\n",
    "    count = count + 1\n",
    "\n",
    "count"
   ]
  },
  {
   "cell_type": "code",
   "execution_count": null,
   "id": "14bedc9d",
   "metadata": {},
   "outputs": [],
   "source": []
  },
  {
   "cell_type": "code",
   "execution_count": 4,
   "id": "f51d0825",
   "metadata": {},
   "outputs": [],
   "source": [
    "#Q5. Print string in reverse order\n",
    "s = \"Aditya\""
   ]
  },
  {
   "cell_type": "code",
   "execution_count": 5,
   "id": "762a0fbb",
   "metadata": {},
   "outputs": [
    {
     "data": {
      "text/plain": [
       "'aytidA'"
      ]
     },
     "execution_count": 5,
     "metadata": {},
     "output_type": "execute_result"
    }
   ],
   "source": [
    "s[::-1]"
   ]
  },
  {
   "cell_type": "code",
   "execution_count": 12,
   "id": "bb24ca18",
   "metadata": {},
   "outputs": [
    {
     "name": "stdout",
     "output_type": "stream",
     "text": [
      "a\n",
      "y\n",
      "t\n",
      "i\n",
      "d\n",
      "A\n"
     ]
    }
   ],
   "source": [
    "for i in range(len(s)-1, -1, -1):\n",
    "    print(s[i])"
   ]
  },
  {
   "cell_type": "code",
   "execution_count": null,
   "id": "49b2b5e4",
   "metadata": {},
   "outputs": [],
   "source": []
  },
  {
   "cell_type": "code",
   "execution_count": 21,
   "id": "c9aaa1b5",
   "metadata": {},
   "outputs": [
    {
     "name": "stdout",
     "output_type": "stream",
     "text": [
      "vowel A\n",
      "No vowel d\n",
      "vowel i\n",
      "No vowel t\n",
      "No vowel y\n",
      "vowel a\n"
     ]
    }
   ],
   "source": [
    "#Q6. Find which are vowel and which are not.\n",
    "s = \"Aditya\"\n",
    "v = \"AaEeIiOoUu\"\n",
    "\n",
    "for i in s:\n",
    "    if i in v:\n",
    "        print(\"vowel\",i)\n",
    "    else:\n",
    "        print(\"No vowel\",i)\n",
    "            "
   ]
  },
  {
   "cell_type": "code",
   "execution_count": null,
   "id": "f88a8367",
   "metadata": {},
   "outputs": [],
   "source": []
  },
  {
   "cell_type": "code",
   "execution_count": 22,
   "id": "c3830c0b",
   "metadata": {},
   "outputs": [
    {
     "name": "stdout",
     "output_type": "stream",
     "text": [
      "Palindrome\n"
     ]
    }
   ],
   "source": [
    "#Q7. Palindrome \n",
    "s = \"maam\"\n",
    "v = s[::-1]\n",
    "\n",
    "if s == v:\n",
    "    print(\"Palindrome\")\n",
    "else:\n",
    "    print(\"Not palindrome\")"
   ]
  },
  {
   "cell_type": "code",
   "execution_count": 25,
   "id": "cd10a5f3",
   "metadata": {},
   "outputs": [
    {
     "name": "stdout",
     "output_type": "stream",
     "text": [
      "aditya\n",
      "Not palindrome\n"
     ]
    }
   ],
   "source": [
    "word = input()\n",
    "for i in range(len(word)):\n",
    "    if word[i] != word[len(word)-i-1]:\n",
    "        print(\"Not palindrome\")\n",
    "        break\n",
    "else:\n",
    "    print(\"Palindrome\")"
   ]
  },
  {
   "cell_type": "code",
   "execution_count": 27,
   "id": "1de4077d",
   "metadata": {},
   "outputs": [
    {
     "name": "stdout",
     "output_type": "stream",
     "text": [
      "palindrome\n"
     ]
    }
   ],
   "source": [
    "l = len(s)\n",
    "flag = 0\n",
    "\n",
    "for i in range(l):\n",
    "    if s[i] == s[l-i-1]:\n",
    "        continue\n",
    "    else:\n",
    "        print(\"Not palindrome\")\n",
    "        flag = 1\n",
    "        break\n",
    "        \n",
    "if flag == 0:\n",
    "    print(\"palindrome\")"
   ]
  },
  {
   "cell_type": "code",
   "execution_count": null,
   "id": "5f6a4b02",
   "metadata": {},
   "outputs": [],
   "source": []
  },
  {
   "cell_type": "code",
   "execution_count": 53,
   "id": "73152944",
   "metadata": {},
   "outputs": [],
   "source": [
    "#Q8. Find key greater than 5 and less tha 5.\n",
    "d ={\n",
    "    \"India\" : \"IN\",\n",
    "    \"United State\" : \"US\",\n",
    "    \"Canada\" : \"CN\",\n",
    "    \"China\" : \"CH\"\n",
    "}\n",
    "L_greater = []\n",
    "L_smaller = []\n",
    "\n",
    "for i in d:\n",
    "    #print(i)\n",
    "    if len(i) > 5:\n",
    "        L_greater.append(i)\n",
    "    else:\n",
    "        L_smaller.append(i)\n",
    "        "
   ]
  },
  {
   "cell_type": "code",
   "execution_count": 54,
   "id": "4cb547ea",
   "metadata": {},
   "outputs": [
    {
     "data": {
      "text/plain": [
       "['United State', 'Canada']"
      ]
     },
     "execution_count": 54,
     "metadata": {},
     "output_type": "execute_result"
    }
   ],
   "source": [
    "L_greater"
   ]
  },
  {
   "cell_type": "code",
   "execution_count": 55,
   "id": "63684975",
   "metadata": {},
   "outputs": [
    {
     "data": {
      "text/plain": [
       "['India', 'China']"
      ]
     },
     "execution_count": 55,
     "metadata": {},
     "output_type": "execute_result"
    }
   ],
   "source": [
    "L_smaller"
   ]
  },
  {
   "cell_type": "code",
   "execution_count": null,
   "id": "8b6382fc",
   "metadata": {},
   "outputs": [],
   "source": []
  },
  {
   "cell_type": "code",
   "execution_count": 1,
   "id": "2e56f0c3",
   "metadata": {},
   "outputs": [],
   "source": [
    "#Q9. Find max from ineuron and course\n",
    "d_1 = {\n",
    "    \"ineuron\" : {\n",
    "        \"a\" : 14,\n",
    "        \"b\" : 10,\n",
    "        \"c\" : 4\n",
    "    },\n",
    "    \"course\" : {\n",
    "        \"d\" : 45,\n",
    "        \"e\" :35,\n",
    "        \"f\" : 1\n",
    "    }\n",
    "}"
   ]
  },
  {
   "cell_type": "code",
   "execution_count": 2,
   "id": "c80fd86e",
   "metadata": {},
   "outputs": [
    {
     "name": "stdout",
     "output_type": "stream",
     "text": [
      "14\n",
      "45\n"
     ]
    }
   ],
   "source": [
    "lst = []\n",
    "\n",
    "for i in d_1.values():\n",
    "    #print(i)\n",
    "    for j in i.values():\n",
    "        #print(j)\n",
    "        lst.append(j)\n",
    "    print(max(lst))"
   ]
  },
  {
   "cell_type": "code",
   "execution_count": 7,
   "id": "65550b98",
   "metadata": {},
   "outputs": [
    {
     "name": "stdout",
     "output_type": "stream",
     "text": [
      "14\n",
      "45\n"
     ]
    }
   ],
   "source": [
    "for i in d_1.values():\n",
    "    #print(i)\n",
    "    mx = 0\n",
    "    for j in i.values():\n",
    "        #print(j)\n",
    "        if mx < j:\n",
    "            mx = j\n",
    "    print(mx)"
   ]
  },
  {
   "cell_type": "code",
   "execution_count": 8,
   "id": "88ba0d94",
   "metadata": {},
   "outputs": [
    {
     "name": "stdout",
     "output_type": "stream",
     "text": [
      "14\n",
      "45\n"
     ]
    }
   ],
   "source": [
    "for i in d_1.values():\n",
    "    print(max(i.values()))"
   ]
  },
  {
   "cell_type": "code",
   "execution_count": 12,
   "id": "28acdcfe",
   "metadata": {},
   "outputs": [
    {
     "name": "stdout",
     "output_type": "stream",
     "text": [
      "14\n",
      "45\n"
     ]
    }
   ],
   "source": [
    "for i in d_1.keys():\n",
    "    #print(i)\n",
    "    #print(d_1[i])\n",
    "    #print(d_1[i].values())\n",
    "    print(max(d_1[i].values()))"
   ]
  },
  {
   "cell_type": "code",
   "execution_count": null,
   "id": "cc422c5a",
   "metadata": {},
   "outputs": [],
   "source": []
  },
  {
   "cell_type": "code",
   "execution_count": 13,
   "id": "97cec9aa",
   "metadata": {},
   "outputs": [],
   "source": [
    "d_2 = {\n",
    "    \"ineuron\" : {\"a\" : 14, \"b\" : 10, \"c\" :4},\n",
    "    \"course\"  : {\"d\" : 45, \"e\" : 34, \"f\" : 1},\n",
    "    \"g\" : 34,\n",
    "    \"h\" : [45,67,8,9,3],\n",
    "    \"i\" : (45,34,2),\n",
    "    \"k\" : \"sudh\"\n",
    "}"
   ]
  },
  {
   "cell_type": "code",
   "execution_count": 23,
   "id": "7628dfe3",
   "metadata": {},
   "outputs": [],
   "source": [
    "l1 = []"
   ]
  },
  {
   "cell_type": "code",
   "execution_count": 24,
   "id": "1fb8ba5d",
   "metadata": {},
   "outputs": [
    {
     "name": "stdout",
     "output_type": "stream",
     "text": [
      "[14, 10, 4, 45, 34, 1, 34, 45, 67, 8, 9, 3, 45, 34, 2]\n"
     ]
    }
   ],
   "source": [
    "for i in d_2.values():\n",
    "    #print(i)\n",
    "    if type(i) == dict:\n",
    "        #print(i)\n",
    "        for j in i.values():\n",
    "            l1.append(j)\n",
    "    if type(i) == int:\n",
    "        l1.append(i)\n",
    "    if type(i) == list:\n",
    "        for j in i:\n",
    "            #print(j)\n",
    "            if type(j) == int:\n",
    "                l1.append(j)\n",
    "    if type(i) == tuple:\n",
    "        for j in i:\n",
    "            #print(j)\n",
    "            if type(j) == int:\n",
    "                l1.append(j)\n",
    "            \n",
    "print(l1)"
   ]
  },
  {
   "cell_type": "code",
   "execution_count": 25,
   "id": "d27cea0d",
   "metadata": {},
   "outputs": [
    {
     "data": {
      "text/plain": [
       "67"
      ]
     },
     "execution_count": 25,
     "metadata": {},
     "output_type": "execute_result"
    }
   ],
   "source": [
    "max(l1)"
   ]
  },
  {
   "cell_type": "code",
   "execution_count": 32,
   "id": "fe3615e6",
   "metadata": {},
   "outputs": [],
   "source": [
    "l2 = []"
   ]
  },
  {
   "cell_type": "code",
   "execution_count": 33,
   "id": "86591a65",
   "metadata": {},
   "outputs": [
    {
     "name": "stdout",
     "output_type": "stream",
     "text": [
      "[{'a': 14, 'b': 10, 'c': 4}, {'d': 45, 'e': 34, 'f': 1}, 34, [45, 67, 8, 9, 3], (45, 34, 2), 'sudh']\n"
     ]
    }
   ],
   "source": [
    "for i in d_2:\n",
    "    #print(i)\n",
    "    if type(d_2[i] == int):\n",
    "        l2.append(d_2[i])\n",
    "    elif type(d_2[i] == str):\n",
    "        continue\n",
    "    elif type(d_2[i] == dict):\n",
    "        l2.append(list(d_2[i].values()))\n",
    "    else:\n",
    "        l2.extend(list(d_2[i]))\n",
    "        \n",
    "print(l2)"
   ]
  },
  {
   "cell_type": "code",
   "execution_count": 34,
   "id": "d9956708",
   "metadata": {},
   "outputs": [
    {
     "name": "stdout",
     "output_type": "stream",
     "text": [
      "67\n"
     ]
    }
   ],
   "source": [
    "print(max(l1))"
   ]
  },
  {
   "cell_type": "code",
   "execution_count": null,
   "id": "5a2ecb65",
   "metadata": {},
   "outputs": [],
   "source": []
  }
 ],
 "metadata": {
  "kernelspec": {
   "display_name": "Python 3 (ipykernel)",
   "language": "python",
   "name": "python3"
  },
  "language_info": {
   "codemirror_mode": {
    "name": "ipython",
    "version": 3
   },
   "file_extension": ".py",
   "mimetype": "text/x-python",
   "name": "python",
   "nbconvert_exporter": "python",
   "pygments_lexer": "ipython3",
   "version": "3.9.13"
  }
 },
 "nbformat": 4,
 "nbformat_minor": 5
}
