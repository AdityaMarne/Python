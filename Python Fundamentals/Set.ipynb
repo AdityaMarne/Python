{
 "cells": [
  {
   "cell_type": "markdown",
   "id": "a9affe63",
   "metadata": {},
   "source": [
    "# Set"
   ]
  },
  {
   "cell_type": "markdown",
   "id": "415b5839",
   "metadata": {},
   "source": [
    "set is the collection of the unordered items.\n",
    "Each element in the set must be unique, immutable.\n",
    "set removes the duplicate elements.\n",
    "sets are mutable which means we can modify it after its creation.\n",
    "There is no index attached to the elements of the set i.e we cannot directly access any element of the set by the index.\n",
    "set can be created by enclosing the comma separated immutable items with the curly braces {}."
   ]
  },
  {
   "cell_type": "code",
   "execution_count": 1,
   "id": "f8041d4d",
   "metadata": {},
   "outputs": [],
   "source": [
    "l = [1,2,3,4,5,6,7,6,5,5,5,5,5,5,5,5,5,3,3,3,4,4,4,4]"
   ]
  },
  {
   "cell_type": "code",
   "execution_count": 2,
   "id": "6d4f620b",
   "metadata": {},
   "outputs": [
    {
     "data": {
      "text/plain": [
       "{1, 2, 3, 4, 5, 6, 7}"
      ]
     },
     "execution_count": 2,
     "metadata": {},
     "output_type": "execute_result"
    }
   ],
   "source": [
    "set(l)"
   ]
  },
  {
   "cell_type": "code",
   "execution_count": 3,
   "id": "3eca852b",
   "metadata": {},
   "outputs": [],
   "source": [
    "s = {} #If you not define any element inside the curly brace it consider it as dictionry"
   ]
  },
  {
   "cell_type": "code",
   "execution_count": 4,
   "id": "d4dd75aa",
   "metadata": {},
   "outputs": [
    {
     "data": {
      "text/plain": [
       "dict"
      ]
     },
     "execution_count": 4,
     "metadata": {},
     "output_type": "execute_result"
    }
   ],
   "source": [
    "type(s)"
   ]
  },
  {
   "cell_type": "code",
   "execution_count": 5,
   "id": "ba84630e",
   "metadata": {},
   "outputs": [],
   "source": [
    "s1 = {2,3,4}"
   ]
  },
  {
   "cell_type": "code",
   "execution_count": 6,
   "id": "d87affc8",
   "metadata": {},
   "outputs": [
    {
     "data": {
      "text/plain": [
       "set"
      ]
     },
     "execution_count": 6,
     "metadata": {},
     "output_type": "execute_result"
    }
   ],
   "source": [
    "type(s1)"
   ]
  },
  {
   "cell_type": "markdown",
   "id": "a7e536a6",
   "metadata": {},
   "source": [
    "# Set remove duplicate elements"
   ]
  },
  {
   "cell_type": "code",
   "execution_count": 7,
   "id": "12008205",
   "metadata": {},
   "outputs": [],
   "source": [
    "s2 = {1,1,1,1,1,1,2,2,2,2,2,3,3,3,3,3}"
   ]
  },
  {
   "cell_type": "code",
   "execution_count": 8,
   "id": "ef9b6148",
   "metadata": {},
   "outputs": [
    {
     "data": {
      "text/plain": [
       "{1, 2, 3}"
      ]
     },
     "execution_count": 8,
     "metadata": {},
     "output_type": "execute_result"
    }
   ],
   "source": [
    "s2"
   ]
  },
  {
   "cell_type": "markdown",
   "id": "729aca68",
   "metadata": {},
   "source": [
    "# Set does not support indexing"
   ]
  },
  {
   "cell_type": "code",
   "execution_count": 9,
   "id": "c6b09962",
   "metadata": {},
   "outputs": [
    {
     "data": {
      "text/plain": [
       "{1, 2, 3}"
      ]
     },
     "execution_count": 9,
     "metadata": {},
     "output_type": "execute_result"
    }
   ],
   "source": [
    "s2"
   ]
  },
  {
   "cell_type": "code",
   "execution_count": 10,
   "id": "9fe5e8de",
   "metadata": {},
   "outputs": [
    {
     "ename": "TypeError",
     "evalue": "'set' object is not subscriptable",
     "output_type": "error",
     "traceback": [
      "\u001b[1;31m---------------------------------------------------------------------------\u001b[0m",
      "\u001b[1;31mTypeError\u001b[0m                                 Traceback (most recent call last)",
      "\u001b[1;32m~\\AppData\\Local\\Temp\\ipykernel_12240\\2344841457.py\u001b[0m in \u001b[0;36m<module>\u001b[1;34m\u001b[0m\n\u001b[1;32m----> 1\u001b[1;33m \u001b[0ms2\u001b[0m\u001b[1;33m[\u001b[0m\u001b[1;36m0\u001b[0m\u001b[1;33m]\u001b[0m\u001b[1;33m\u001b[0m\u001b[1;33m\u001b[0m\u001b[0m\n\u001b[0m",
      "\u001b[1;31mTypeError\u001b[0m: 'set' object is not subscriptable"
     ]
    }
   ],
   "source": [
    "s2[0]"
   ]
  },
  {
   "cell_type": "markdown",
   "id": "d88667f6",
   "metadata": {},
   "source": [
    "# Hoe to acces set elements"
   ]
  },
  {
   "cell_type": "markdown",
   "id": "e4e68a36",
   "metadata": {},
   "source": [
    "First convert set into list by explicitly"
   ]
  },
  {
   "cell_type": "code",
   "execution_count": 11,
   "id": "1272b3ca",
   "metadata": {},
   "outputs": [
    {
     "data": {
      "text/plain": [
       "{1, 2, 3}"
      ]
     },
     "execution_count": 11,
     "metadata": {},
     "output_type": "execute_result"
    }
   ],
   "source": [
    "s2"
   ]
  },
  {
   "cell_type": "code",
   "execution_count": 12,
   "id": "119009a6",
   "metadata": {},
   "outputs": [],
   "source": [
    "s3 = list(s2)"
   ]
  },
  {
   "cell_type": "code",
   "execution_count": 13,
   "id": "fe9fd3e3",
   "metadata": {},
   "outputs": [
    {
     "data": {
      "text/plain": [
       "list"
      ]
     },
     "execution_count": 13,
     "metadata": {},
     "output_type": "execute_result"
    }
   ],
   "source": [
    "type(s3)"
   ]
  },
  {
   "cell_type": "code",
   "execution_count": 14,
   "id": "fd9ddbff",
   "metadata": {},
   "outputs": [
    {
     "data": {
      "text/plain": [
       "1"
      ]
     },
     "execution_count": 14,
     "metadata": {},
     "output_type": "execute_result"
    }
   ],
   "source": [
    "s3[0]"
   ]
  },
  {
   "cell_type": "markdown",
   "id": "59e7fa50",
   "metadata": {},
   "source": [
    "# IN-BUILT Function of set"
   ]
  },
  {
   "cell_type": "code",
   "execution_count": 15,
   "id": "c1db98eb",
   "metadata": {},
   "outputs": [
    {
     "data": {
      "text/plain": [
       "{1, 2, 3}"
      ]
     },
     "execution_count": 15,
     "metadata": {},
     "output_type": "execute_result"
    }
   ],
   "source": [
    "s2"
   ]
  },
  {
   "cell_type": "code",
   "execution_count": 16,
   "id": "d747c61c",
   "metadata": {},
   "outputs": [],
   "source": [
    "s2.add(89777) #It add data last  "
   ]
  },
  {
   "cell_type": "code",
   "execution_count": 17,
   "id": "154f092c",
   "metadata": {},
   "outputs": [
    {
     "data": {
      "text/plain": [
       "{1, 2, 3, 89777}"
      ]
     },
     "execution_count": 17,
     "metadata": {},
     "output_type": "execute_result"
    }
   ],
   "source": [
    "s2"
   ]
  },
  {
   "cell_type": "code",
   "execution_count": 18,
   "id": "f55d9f98",
   "metadata": {},
   "outputs": [],
   "source": [
    "s2.add(\"Aditya\")"
   ]
  },
  {
   "cell_type": "code",
   "execution_count": 19,
   "id": "b0fd9f89",
   "metadata": {},
   "outputs": [
    {
     "data": {
      "text/plain": [
       "{1, 2, 3, 89777, 'Aditya'}"
      ]
     },
     "execution_count": 19,
     "metadata": {},
     "output_type": "execute_result"
    }
   ],
   "source": [
    "s2"
   ]
  },
  {
   "cell_type": "code",
   "execution_count": 20,
   "id": "fee7cf75",
   "metadata": {},
   "outputs": [
    {
     "ename": "TypeError",
     "evalue": "unhashable type: 'list'",
     "output_type": "error",
     "traceback": [
      "\u001b[1;31m---------------------------------------------------------------------------\u001b[0m",
      "\u001b[1;31mTypeError\u001b[0m                                 Traceback (most recent call last)",
      "\u001b[1;32m~\\AppData\\Local\\Temp\\ipykernel_12240\\1438694745.py\u001b[0m in \u001b[0;36m<module>\u001b[1;34m\u001b[0m\n\u001b[0;32m      4\u001b[0m \u001b[0mallow\u001b[0m \u001b[0mthis\u001b[0m \u001b[0moperation\u001b[0m\u001b[1;33m\u001b[0m\u001b[1;33m\u001b[0m\u001b[0m\n\u001b[0;32m      5\u001b[0m '''\n\u001b[1;32m----> 6\u001b[1;33m \u001b[0ms2\u001b[0m\u001b[1;33m.\u001b[0m\u001b[0madd\u001b[0m\u001b[1;33m(\u001b[0m\u001b[1;33m[\u001b[0m\u001b[1;36m3\u001b[0m\u001b[1;33m,\u001b[0m\u001b[1;36m4\u001b[0m\u001b[1;33m,\u001b[0m\u001b[1;36m5\u001b[0m\u001b[1;33m]\u001b[0m\u001b[1;33m)\u001b[0m\u001b[1;33m\u001b[0m\u001b[1;33m\u001b[0m\u001b[0m\n\u001b[0m",
      "\u001b[1;31mTypeError\u001b[0m: unhashable type: 'list'"
     ]
    }
   ],
   "source": [
    "'''\n",
    "set always holds unordered collection of unique elements it try to find \n",
    "uniqueness in primitive type not in collection item thats why it not\n",
    "allow this operation\n",
    "'''\n",
    "s2.add([3,4,5])"
   ]
  },
  {
   "cell_type": "code",
   "execution_count": 21,
   "id": "252c7320",
   "metadata": {},
   "outputs": [],
   "source": [
    "'''\n",
    "In case of tuple it allows collection item because it is not going to\n",
    "allow hold any item that is mutable inside a set.\n",
    "If item are immutable it allows thats why it support tuple not List\n",
    "'''\n",
    "s2.add((3,4,5,6))"
   ]
  },
  {
   "cell_type": "code",
   "execution_count": 22,
   "id": "725c20d3",
   "metadata": {},
   "outputs": [
    {
     "data": {
      "text/plain": [
       "{(3, 4, 5, 6), 1, 2, 3, 89777, 'Aditya'}"
      ]
     },
     "execution_count": 22,
     "metadata": {},
     "output_type": "execute_result"
    }
   ],
   "source": [
    "s2"
   ]
  },
  {
   "cell_type": "code",
   "execution_count": 23,
   "id": "9408f406",
   "metadata": {},
   "outputs": [],
   "source": [
    "'''set allows only unique elements'''\n",
    "s3 = {(3,4,5),(3,4,5),3,4,5,4,5}"
   ]
  },
  {
   "cell_type": "code",
   "execution_count": 24,
   "id": "ac584fb6",
   "metadata": {},
   "outputs": [
    {
     "data": {
      "text/plain": [
       "{(3, 4, 5), 3, 4, 5}"
      ]
     },
     "execution_count": 24,
     "metadata": {},
     "output_type": "execute_result"
    }
   ],
   "source": [
    "s3"
   ]
  },
  {
   "cell_type": "code",
   "execution_count": 25,
   "id": "2ce14bc6",
   "metadata": {},
   "outputs": [],
   "source": [
    "s3.remove(4) #It removes the given element from set"
   ]
  },
  {
   "cell_type": "code",
   "execution_count": 26,
   "id": "ab0dfac4",
   "metadata": {},
   "outputs": [
    {
     "data": {
      "text/plain": [
       "{(3, 4, 5), 3, 5}"
      ]
     },
     "execution_count": 26,
     "metadata": {},
     "output_type": "execute_result"
    }
   ],
   "source": [
    "s3"
   ]
  },
  {
   "cell_type": "code",
   "execution_count": 27,
   "id": "c182b56c",
   "metadata": {},
   "outputs": [],
   "source": [
    "s3.discard(5)  #It removes the given element from set"
   ]
  },
  {
   "cell_type": "code",
   "execution_count": 28,
   "id": "8e326b0a",
   "metadata": {},
   "outputs": [
    {
     "data": {
      "text/plain": [
       "{(3, 4, 5), 3}"
      ]
     },
     "execution_count": 28,
     "metadata": {},
     "output_type": "execute_result"
    }
   ],
   "source": [
    "s3"
   ]
  },
  {
   "cell_type": "code",
   "execution_count": 29,
   "id": "ca38553d",
   "metadata": {},
   "outputs": [
    {
     "data": {
      "text/plain": [
       "'\\nDifference between remove and discard\\n'"
      ]
     },
     "execution_count": 29,
     "metadata": {},
     "output_type": "execute_result"
    }
   ],
   "source": [
    "'''\n",
    "Difference between remove and discard\n",
    "'''"
   ]
  },
  {
   "cell_type": "code",
   "execution_count": 31,
   "id": "06e2771a",
   "metadata": {},
   "outputs": [
    {
     "ename": "KeyError",
     "evalue": "45",
     "output_type": "error",
     "traceback": [
      "\u001b[1;31m---------------------------------------------------------------------------\u001b[0m",
      "\u001b[1;31mKeyError\u001b[0m                                  Traceback (most recent call last)",
      "\u001b[1;32m~\\AppData\\Local\\Temp\\ipykernel_12240\\4105610601.py\u001b[0m in \u001b[0;36m<module>\u001b[1;34m\u001b[0m\n\u001b[1;32m----> 1\u001b[1;33m \u001b[0ms3\u001b[0m\u001b[1;33m.\u001b[0m\u001b[0mremove\u001b[0m\u001b[1;33m(\u001b[0m\u001b[1;36m45\u001b[0m\u001b[1;33m)\u001b[0m  \u001b[1;31m#It throws an error if element not present in the set\u001b[0m\u001b[1;33m\u001b[0m\u001b[1;33m\u001b[0m\u001b[0m\n\u001b[0m",
      "\u001b[1;31mKeyError\u001b[0m: 45"
     ]
    }
   ],
   "source": [
    "s3.remove(45)  #It throws an error if element not present in the set"
   ]
  },
  {
   "cell_type": "code",
   "execution_count": 32,
   "id": "21c1e17c",
   "metadata": {},
   "outputs": [],
   "source": [
    "s3.discard(45)   #if element not present in the set, do nothing"
   ]
  },
  {
   "cell_type": "markdown",
   "id": "2f902669",
   "metadata": {},
   "source": [
    "# Set are case-sensitive"
   ]
  },
  {
   "cell_type": "code",
   "execution_count": 33,
   "id": "911ee9ea",
   "metadata": {},
   "outputs": [],
   "source": [
    "s4 = {\"Aditya\",\"aditya\",\"aDitya\",\"AdITya\"}"
   ]
  },
  {
   "cell_type": "code",
   "execution_count": 34,
   "id": "40f05291",
   "metadata": {},
   "outputs": [
    {
     "data": {
      "text/plain": [
       "{'AdITya', 'Aditya', 'aDitya', 'aditya'}"
      ]
     },
     "execution_count": 34,
     "metadata": {},
     "output_type": "execute_result"
    }
   ],
   "source": [
    "s4"
   ]
  },
  {
   "cell_type": "code",
   "execution_count": null,
   "id": "314338cb",
   "metadata": {},
   "outputs": [],
   "source": []
  }
 ],
 "metadata": {
  "kernelspec": {
   "display_name": "Python 3 (ipykernel)",
   "language": "python",
   "name": "python3"
  },
  "language_info": {
   "codemirror_mode": {
    "name": "ipython",
    "version": 3
   },
   "file_extension": ".py",
   "mimetype": "text/x-python",
   "name": "python",
   "nbconvert_exporter": "python",
   "pygments_lexer": "ipython3",
   "version": "3.9.13"
  }
 },
 "nbformat": 4,
 "nbformat_minor": 5
}
