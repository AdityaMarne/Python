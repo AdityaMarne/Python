{
 "cells": [
  {
   "cell_type": "markdown",
   "id": "84122815",
   "metadata": {},
   "source": [
    "Polymorphism is a programming term that refers to the use of the same function name,\n",
    "but with different signatures, for multiple types."
   ]
  },
  {
   "cell_type": "code",
   "execution_count": 1,
   "id": "9ba61be0",
   "metadata": {},
   "outputs": [],
   "source": [
    "# Python program for demonstrating the poly-morphic functions  \n",
    "def poly(a,b):\n",
    "    return a + b"
   ]
  },
  {
   "cell_type": "code",
   "execution_count": 2,
   "id": "4d967975",
   "metadata": {},
   "outputs": [
    {
     "data": {
      "text/plain": [
       "3"
      ]
     },
     "execution_count": 2,
     "metadata": {},
     "output_type": "execute_result"
    }
   ],
   "source": [
    "poly(1,2)"
   ]
  },
  {
   "cell_type": "code",
   "execution_count": 3,
   "id": "861ffddd",
   "metadata": {},
   "outputs": [
    {
     "data": {
      "text/plain": [
       "'AdityaMarne'"
      ]
     },
     "execution_count": 3,
     "metadata": {},
     "output_type": "execute_result"
    }
   ],
   "source": [
    "poly(\"Aditya\",\"Marne\")"
   ]
  },
  {
   "cell_type": "markdown",
   "id": "e07a1da5",
   "metadata": {},
   "source": [
    "When we are passing differrnt kind of data based on that it will give a different result\n",
    "means sometimes it gives addition and sometime it gives concatinatio"
   ]
  },
  {
   "cell_type": "code",
   "execution_count": 4,
   "id": "2a25168f",
   "metadata": {},
   "outputs": [
    {
     "name": "stdout",
     "output_type": "stream",
     "text": [
      "10\n",
      "4\n"
     ]
    }
   ],
   "source": [
    "# Python program for demonstrating the in-built poly-morphic functions  \n",
    "  \n",
    "# len() function is used for a string  \n",
    "print (len(\"Javatpoint\"))  \n",
    "  \n",
    "# len() function is used for a list  \n",
    "print (len([110, 210, 130, 321]))  "
   ]
  },
  {
   "cell_type": "code",
   "execution_count": 5,
   "id": "641a748d",
   "metadata": {},
   "outputs": [],
   "source": [
    "#Polymorphism with class methods\n",
    "class xyz:\n",
    "    def websites(self):\n",
    "        print(\"xyz Website available on net\")\n",
    "        \n",
    "    def topics(self):\n",
    "        print(\"Python is topic on website\")\n",
    "    \n",
    "class PQR:\n",
    "    def websites(self):\n",
    "        print(\"zyx Website available on net\")\n",
    "    \n",
    "    def topics(self):\n",
    "        print(\"Java is topic on website\")"
   ]
  },
  {
   "cell_type": "code",
   "execution_count": 6,
   "id": "d790a3a8",
   "metadata": {},
   "outputs": [],
   "source": [
    "x = xyz()"
   ]
  },
  {
   "cell_type": "code",
   "execution_count": 7,
   "id": "010a7931",
   "metadata": {},
   "outputs": [],
   "source": [
    "p = PQR()"
   ]
  },
  {
   "cell_type": "code",
   "execution_count": 8,
   "id": "36119c6b",
   "metadata": {},
   "outputs": [
    {
     "name": "stdout",
     "output_type": "stream",
     "text": [
      "xyz Website available on net\n",
      "Python is topic on website\n",
      "zyx Website available on net\n",
      "Java is topic on website\n"
     ]
    }
   ],
   "source": [
    "for i in (x,p):\n",
    "    i.websites()\n",
    "    i.topics()"
   ]
  },
  {
   "cell_type": "code",
   "execution_count": 9,
   "id": "135a9758",
   "metadata": {},
   "outputs": [],
   "source": [
    "#Polymorphism with Inheritance\n",
    "class Birds:\n",
    "    def intro1(self):\n",
    "        print(\"There are multiple types of birds\")\n",
    "    \n",
    "    def flight1(self):\n",
    "        print(\"Many of these can fly but some cannot\")\n",
    "        \n",
    "class sparrow(Birds):\n",
    "    def flight1(self):\n",
    "        print(\"Sparrow are bird which can fly\")\n",
    "        \n",
    "class ostrich(Birds):\n",
    "    def flight1(self):\n",
    "        print(\"Ostriches are bird which cannot fly\")"
   ]
  },
  {
   "cell_type": "code",
   "execution_count": 10,
   "id": "97988eb5",
   "metadata": {},
   "outputs": [],
   "source": [
    "b = Birds()\n",
    "s = sparrow()\n",
    "o = ostrich()"
   ]
  },
  {
   "cell_type": "code",
   "execution_count": 11,
   "id": "352c8dcd",
   "metadata": {},
   "outputs": [
    {
     "name": "stdout",
     "output_type": "stream",
     "text": [
      "There are multiple types of birds\n"
     ]
    }
   ],
   "source": [
    "b.intro1()"
   ]
  },
  {
   "cell_type": "code",
   "execution_count": 12,
   "id": "98ea35e8",
   "metadata": {},
   "outputs": [
    {
     "name": "stdout",
     "output_type": "stream",
     "text": [
      "Many of these can fly but some cannot\n"
     ]
    }
   ],
   "source": [
    "b.flight1()"
   ]
  },
  {
   "cell_type": "code",
   "execution_count": 13,
   "id": "e0a30125",
   "metadata": {},
   "outputs": [
    {
     "name": "stdout",
     "output_type": "stream",
     "text": [
      "There are multiple types of birds\n"
     ]
    }
   ],
   "source": [
    "s.intro1()"
   ]
  },
  {
   "cell_type": "code",
   "execution_count": 14,
   "id": "2fbf064f",
   "metadata": {},
   "outputs": [
    {
     "name": "stdout",
     "output_type": "stream",
     "text": [
      "Sparrow are bird which can fly\n"
     ]
    }
   ],
   "source": [
    "s.flight1()"
   ]
  },
  {
   "cell_type": "code",
   "execution_count": 15,
   "id": "f4b6fe9a",
   "metadata": {},
   "outputs": [
    {
     "name": "stdout",
     "output_type": "stream",
     "text": [
      "There are multiple types of birds\n"
     ]
    }
   ],
   "source": [
    "o.intro1()"
   ]
  },
  {
   "cell_type": "code",
   "execution_count": 16,
   "id": "1caccb91",
   "metadata": {},
   "outputs": [
    {
     "name": "stdout",
     "output_type": "stream",
     "text": [
      "Ostriches are bird which cannot fly\n"
     ]
    }
   ],
   "source": [
    "o.flight1()"
   ]
  },
  {
   "cell_type": "code",
   "execution_count": null,
   "id": "bb068d7d",
   "metadata": {},
   "outputs": [],
   "source": []
  },
  {
   "cell_type": "code",
   "execution_count": 17,
   "id": "b2ab6da3",
   "metadata": {},
   "outputs": [],
   "source": [
    "class Insta:\n",
    "    def share_stories(self):\n",
    "        print(\"This will share my insta story\")\n",
    "        \n",
    "class Facebook:\n",
    "    def share_stories(self):\n",
    "        print(\"This will share my facebook story\")"
   ]
  },
  {
   "cell_type": "code",
   "execution_count": 18,
   "id": "86189a01",
   "metadata": {},
   "outputs": [],
   "source": [
    "def sharestories(app):\n",
    "    app.share_stories()"
   ]
  },
  {
   "cell_type": "code",
   "execution_count": 19,
   "id": "b2ff96ea",
   "metadata": {},
   "outputs": [],
   "source": [
    "i = Insta()\n",
    "f = Facebook()"
   ]
  },
  {
   "cell_type": "code",
   "execution_count": 20,
   "id": "9a15c03a",
   "metadata": {},
   "outputs": [
    {
     "ename": "NameError",
     "evalue": "name 'share_stories' is not defined",
     "output_type": "error",
     "traceback": [
      "\u001b[1;31m---------------------------------------------------------------------------\u001b[0m",
      "\u001b[1;31mNameError\u001b[0m                                 Traceback (most recent call last)",
      "\u001b[1;32m~\\AppData\\Local\\Temp\\ipykernel_15800\\622025728.py\u001b[0m in \u001b[0;36m<module>\u001b[1;34m\u001b[0m\n\u001b[1;32m----> 1\u001b[1;33m \u001b[0mshare_stories\u001b[0m\u001b[1;33m(\u001b[0m\u001b[0mi\u001b[0m\u001b[1;33m)\u001b[0m\u001b[1;33m\u001b[0m\u001b[1;33m\u001b[0m\u001b[0m\n\u001b[0m",
      "\u001b[1;31mNameError\u001b[0m: name 'share_stories' is not defined"
     ]
    }
   ],
   "source": [
    "share_stories(i)"
   ]
  },
  {
   "cell_type": "code",
   "execution_count": null,
   "id": "f97fc248",
   "metadata": {},
   "outputs": [],
   "source": [
    "share_stories(f)"
   ]
  },
  {
   "cell_type": "code",
   "execution_count": null,
   "id": "6e76780f",
   "metadata": {},
   "outputs": [],
   "source": []
  }
 ],
 "metadata": {
  "kernelspec": {
   "display_name": "Python 3 (ipykernel)",
   "language": "python",
   "name": "python3"
  },
  "language_info": {
   "codemirror_mode": {
    "name": "ipython",
    "version": 3
   },
   "file_extension": ".py",
   "mimetype": "text/x-python",
   "name": "python",
   "nbconvert_exporter": "python",
   "pygments_lexer": "ipython3",
   "version": "3.9.13"
  }
 },
 "nbformat": 4,
 "nbformat_minor": 5
}
