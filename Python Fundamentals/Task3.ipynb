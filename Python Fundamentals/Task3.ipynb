{
 "cells": [
  {
   "cell_type": "markdown",
   "id": "8e722b22",
   "metadata": {},
   "source": [
    "## 🧾 Task: **Online Course Enrollment System**\n",
    "\n",
    "### 🎯 Objective:\n",
    "Design a system that allows students to enroll in online courses, tracks their progress, and allows instructors to manage course content.\n",
    "\n",
    "---\n",
    "\n",
    "### ✅ Key Features:\n",
    "\n",
    "#### 1. **User Roles**:\n",
    "- **Student**: Can enroll in courses, view progress, and complete modules.\n",
    "- **Instructor**: Can create courses, add modules, and track enrolled students.\n",
    "\n",
    "#### 2. **Courses**:\n",
    "- Each course has a title, description, list of modules, and an instructor.\n",
    "- Modules contain lessons with content and quizzes.\n",
    "\n",
    "#### 3. **Enrollments**:\n",
    "- Track which student is enrolled in which course.\n",
    "- Store progress per module and completion status.\n",
    "\n",
    "---\n",
    "\n",
    "### 🧱 OOP Concepts Mapped:\n",
    "\n",
    "| OOP Concept     | Application                                                                 |\n",
    "|-----------------|-------------------------------------------------------------------------------|\n",
    "| **Abstraction** | Abstract `User` class with `Student` and `Instructor` subclasses             |\n",
    "| **Encapsulation** | Private fields for user info, course content, and progress tracking         |\n",
    "| **Inheritance** | Inherit `Student` and `Instructor` from base `User`                          |\n",
    "| **Polymorphism** | Override `view_dashboard()` in both roles to show relevant information      |\n",
    "\n",
    "---\n",
    "\n",
    "### 💡 Bonus Features (Optional):\n",
    "- Certification after course completion\n",
    "- Quiz scoring and feedback\n",
    "- Course ratings and reviews"
   ]
  },
  {
   "cell_type": "markdown",
   "id": "7da50160",
   "metadata": {},
   "source": []
  }
 ],
 "metadata": {
  "language_info": {
   "name": "python"
  }
 },
 "nbformat": 4,
 "nbformat_minor": 5
}
