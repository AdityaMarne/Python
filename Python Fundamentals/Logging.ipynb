{
 "cells": [
  {
   "cell_type": "markdown",
   "id": "6f08f9c4",
   "metadata": {},
   "source": [
    "Logging is a means of tracking events that happen when some software runs. \n",
    "\n",
    "Logging is important for software developing, debugging, and running. \n",
    "\n",
    "If you don’t have any logging record and your program crashes, there are very few chances that you detect the cause of the problem. \n",
    "\n",
    "if you detect the cause, it will consume a lot of time. With logging, you can leave a trail of breadcrumbs so that if something goes wrong, we can determine the cause of the problem. \n",
    "\n",
    "There are five built-in levels of the log message.  \n",
    "\n",
    "Debug: These are used to give Detailed information, typically of interest only when diagnosing problems.\n",
    "\n",
    "Info: These are used to confirm that things are working as expected\n",
    "\n",
    "Warning: These are used as an indication that something unexpected happened, or is indicative of some problem in the near future\n",
    "\n",
    "Error: This tells that due to a more serious problem, the software has not been able to perform some function\n",
    "\n",
    "Critical: This tells serious error, indicating that the program itself may be unable to continue running"
   ]
  },
  {
   "cell_type": "code",
   "execution_count": 1,
   "id": "ee7c8186",
   "metadata": {},
   "outputs": [],
   "source": [
    "import logging"
   ]
  },
  {
   "cell_type": "code",
   "execution_count": 2,
   "id": "88c6a666",
   "metadata": {},
   "outputs": [],
   "source": [
    "logging.basicConfig(filename = \"test.log\")\n",
    "logging.info(\"This is my info log\")\n",
    "logging.warning(\"This is my warning log\")\n",
    "logging.error(\"This is my error log\")\n",
    "logging.shutdown()"
   ]
  },
  {
   "cell_type": "code",
   "execution_count": 2,
   "id": "252290ee",
   "metadata": {},
   "outputs": [],
   "source": [
    "logging.basicConfig(filename = \"test2.log\", level=logging.DEBUG, format=\"%(asctime)s %(message)s\")\n",
    "logging.info(\"This is my info log\")\n",
    "logging.warning(\"This is my warning log\")\n",
    "logging.error(\"This is my error log\")\n",
    "logging.shutdown()"
   ]
  },
  {
   "cell_type": "code",
   "execution_count": 4,
   "id": "7c603ba8",
   "metadata": {},
   "outputs": [],
   "source": [
    "logging.basicConfig(filename = \"test2.log\", level=logging.DEBUG, format=\"%(asctime)s %(levelname)s %(message)s\")\n",
    "logging.info(\"This is my info log\")\n",
    "logging.warning(\"This is my warning log\")\n",
    "logging.shutdown()"
   ]
  },
  {
   "cell_type": "code",
   "execution_count": null,
   "id": "e120d497",
   "metadata": {},
   "outputs": [],
   "source": []
  },
  {
   "cell_type": "code",
   "execution_count": 8,
   "id": "3d6f4ad3",
   "metadata": {},
   "outputs": [],
   "source": [
    "logging.basicConfig(filename=\"test3.log\",level=logging.DEBUG,format=\"%(asctime)s %(levelname)s %(message)s\")\n",
    "def divByZero(a,b):\n",
    "    logging.info(\"This is a start of code and I am try to enter %s & %s\",a,b)\n",
    "    try:\n",
    "        div = a/b\n",
    "        logging.info(\"Executed Successfully\")\n",
    "    except Exception as e:\n",
    "        logging.error(\"Error has happend\")\n",
    "        logging.exception(\"Exception occured\"+str(e))        "
   ]
  },
  {
   "cell_type": "code",
   "execution_count": 10,
   "id": "bfbee423",
   "metadata": {},
   "outputs": [],
   "source": [
    "divByZero(4,0)"
   ]
  },
  {
   "cell_type": "code",
   "execution_count": null,
   "id": "1e38cd1a",
   "metadata": {},
   "outputs": [],
   "source": []
  },
  {
   "cell_type": "code",
   "execution_count": 11,
   "id": "4351a958",
   "metadata": {},
   "outputs": [],
   "source": [
    "logging.basicConfig(filename=\"test2.log\",level=logging.DEBUG,format=\"%(asctime)s %(levelname)s %(message)s\")\n",
    "\n",
    "def perform_operation(value):\n",
    "    logging.info(\"Please enter a postistive value %s\",value)\n",
    "    try:\n",
    "        if(value > 0):\n",
    "            logging.info(\"Code get executed successfully\")\n",
    "    except:\n",
    "        raise ValueError(\"Invalid value: Value cannot be negative.\")\n",
    "        "
   ]
  },
  {
   "cell_type": "code",
   "execution_count": 12,
   "id": "2b4cafc6",
   "metadata": {},
   "outputs": [
    {
     "name": "stdout",
     "output_type": "stream",
     "text": [
      "Enter a postive value :10\n"
     ]
    }
   ],
   "source": [
    "input_value = int(input(\"Enter a postive value :\"))\n",
    "perform_operation(input_value)"
   ]
  },
  {
   "cell_type": "code",
   "execution_count": 13,
   "id": "9d284644",
   "metadata": {},
   "outputs": [
    {
     "name": "stdout",
     "output_type": "stream",
     "text": [
      "Enter a postive value :-1\n"
     ]
    }
   ],
   "source": [
    "input_value = int(input(\"Enter a postive value :\"))\n",
    "perform_operation(input_value)"
   ]
  },
  {
   "cell_type": "code",
   "execution_count": 14,
   "id": "5c7f5a44",
   "metadata": {},
   "outputs": [
    {
     "name": "stdout",
     "output_type": "stream",
     "text": [
      "Enter a postive value :-5\n"
     ]
    }
   ],
   "source": [
    "input_value = int(input(\"Enter a postive value :\"))\n",
    "perform_operation(input_value)"
   ]
  },
  {
   "cell_type": "code",
   "execution_count": null,
   "id": "d50f3ff6",
   "metadata": {},
   "outputs": [],
   "source": []
  }
 ],
 "metadata": {
  "kernelspec": {
   "display_name": "Python 3 (ipykernel)",
   "language": "python",
   "name": "python3"
  },
  "language_info": {
   "codemirror_mode": {
    "name": "ipython",
    "version": 3
   },
   "file_extension": ".py",
   "mimetype": "text/x-python",
   "name": "python",
   "nbconvert_exporter": "python",
   "pygments_lexer": "ipython3",
   "version": "3.9.13"
  }
 },
 "nbformat": 4,
 "nbformat_minor": 5
}
