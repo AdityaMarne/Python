{
 "cells": [
  {
   "cell_type": "markdown",
   "id": "815a1031",
   "metadata": {},
   "source": [
    "# Lambda Function"
   ]
  },
  {
   "cell_type": "markdown",
   "id": "003862d7",
   "metadata": {},
   "source": [
    "It is a kind of function which is called as anonymous function.\n",
    "\n",
    "Lambda is a reserve keyword.\n",
    "\n",
    "Function without a name."
   ]
  },
  {
   "cell_type": "code",
   "execution_count": 1,
   "id": "e582716f",
   "metadata": {},
   "outputs": [],
   "source": [
    "#here a,b are input and a*b is operation \n",
    "a = lambda a,b : a*b"
   ]
  },
  {
   "cell_type": "code",
   "execution_count": 2,
   "id": "fc829f8a",
   "metadata": {},
   "outputs": [
    {
     "data": {
      "text/plain": [
       "50"
      ]
     },
     "execution_count": 2,
     "metadata": {},
     "output_type": "execute_result"
    }
   ],
   "source": [
    "a(10,5)"
   ]
  },
  {
   "cell_type": "code",
   "execution_count": 3,
   "id": "3113b0f0",
   "metadata": {},
   "outputs": [],
   "source": [
    "#here *args take n. number of arguments and return that n. number of arguments\n",
    "b = lambda *args : args                   "
   ]
  },
  {
   "cell_type": "code",
   "execution_count": 4,
   "id": "e72ac540",
   "metadata": {},
   "outputs": [
    {
     "data": {
      "text/plain": [
       "(1, 23, 'Aditya', (4+5j), False)"
      ]
     },
     "execution_count": 4,
     "metadata": {},
     "output_type": "execute_result"
    }
   ],
   "source": [
    "b(1,23,\"Aditya\",4+5j,False)"
   ]
  },
  {
   "cell_type": "code",
   "execution_count": null,
   "id": "a6f8c692",
   "metadata": {},
   "outputs": [],
   "source": []
  },
  {
   "cell_type": "code",
   "execution_count": 5,
   "id": "98c6bd30",
   "metadata": {},
   "outputs": [],
   "source": [
    "#Write a function using lambda function that gives elements of list\n",
    "x = lambda l : [i for i in l]"
   ]
  },
  {
   "cell_type": "code",
   "execution_count": 6,
   "id": "61d93e11",
   "metadata": {},
   "outputs": [
    {
     "data": {
      "text/plain": [
       "[1, 2, 3, 4]"
      ]
     },
     "execution_count": 6,
     "metadata": {},
     "output_type": "execute_result"
    }
   ],
   "source": [
    "x([1,2,3,4])"
   ]
  },
  {
   "cell_type": "code",
   "execution_count": null,
   "id": "6e577e70",
   "metadata": {},
   "outputs": [],
   "source": []
  },
  {
   "cell_type": "code",
   "execution_count": 7,
   "id": "cb747534",
   "metadata": {},
   "outputs": [],
   "source": [
    "#Write a lambda function that takes any no. of key value pair and return those\n",
    "c = lambda **kwargs : kwargs"
   ]
  },
  {
   "cell_type": "code",
   "execution_count": 8,
   "id": "7f631e5e",
   "metadata": {},
   "outputs": [
    {
     "data": {
      "text/plain": [
       "{'a': 45, 'b': 'aditya', 'd': (4+7j)}"
      ]
     },
     "execution_count": 8,
     "metadata": {},
     "output_type": "execute_result"
    }
   ],
   "source": [
    "c(a=45,b=\"aditya\",d=4+7j)"
   ]
  },
  {
   "cell_type": "code",
   "execution_count": null,
   "id": "311137e4",
   "metadata": {},
   "outputs": [],
   "source": []
  },
  {
   "cell_type": "code",
   "execution_count": 9,
   "id": "8ce87523",
   "metadata": {},
   "outputs": [],
   "source": [
    "#Write a lambda function that take list as parameter and return element + 2\n",
    "d = lambda l : [i+2 for i in l]"
   ]
  },
  {
   "cell_type": "code",
   "execution_count": 10,
   "id": "77841479",
   "metadata": {},
   "outputs": [],
   "source": [
    "l = [1,2,3,4]"
   ]
  },
  {
   "cell_type": "code",
   "execution_count": 11,
   "id": "6cad7475",
   "metadata": {},
   "outputs": [
    {
     "data": {
      "text/plain": [
       "[3, 4, 5, 6]"
      ]
     },
     "execution_count": 11,
     "metadata": {},
     "output_type": "execute_result"
    }
   ],
   "source": [
    "d(l)"
   ]
  },
  {
   "cell_type": "code",
   "execution_count": null,
   "id": "1a3a5dd0",
   "metadata": {},
   "outputs": [],
   "source": []
  },
  {
   "cell_type": "code",
   "execution_count": 12,
   "id": "c603e31b",
   "metadata": {},
   "outputs": [],
   "source": [
    "a = lambda a : [(i**2,i+1)for i in l]"
   ]
  },
  {
   "cell_type": "code",
   "execution_count": 13,
   "id": "dc8377c5",
   "metadata": {},
   "outputs": [
    {
     "data": {
      "text/plain": [
       "[(1, 2), (4, 3), (9, 4), (16, 5)]"
      ]
     },
     "execution_count": 13,
     "metadata": {},
     "output_type": "execute_result"
    }
   ],
   "source": [
    "a(l)"
   ]
  },
  {
   "cell_type": "code",
   "execution_count": null,
   "id": "906217dc",
   "metadata": {},
   "outputs": [],
   "source": []
  },
  {
   "cell_type": "code",
   "execution_count": 14,
   "id": "20bd47b4",
   "metadata": {},
   "outputs": [],
   "source": [
    "a = lambda a : [(i**2,i+1)for i in l if i < 4]"
   ]
  },
  {
   "cell_type": "code",
   "execution_count": 15,
   "id": "724cd9c8",
   "metadata": {},
   "outputs": [
    {
     "data": {
      "text/plain": [
       "[(1, 2), (4, 3), (9, 4)]"
      ]
     },
     "execution_count": 15,
     "metadata": {},
     "output_type": "execute_result"
    }
   ],
   "source": [
    "a(l)"
   ]
  },
  {
   "cell_type": "code",
   "execution_count": 16,
   "id": "14f1df49",
   "metadata": {},
   "outputs": [],
   "source": [
    "a = lambda a : [(i**2,i+1)for i in l if i < 4 if i > 1]"
   ]
  },
  {
   "cell_type": "code",
   "execution_count": 17,
   "id": "c85f1971",
   "metadata": {},
   "outputs": [
    {
     "data": {
      "text/plain": [
       "[(4, 3), (9, 4)]"
      ]
     },
     "execution_count": 17,
     "metadata": {},
     "output_type": "execute_result"
    }
   ],
   "source": [
    "a(l)"
   ]
  },
  {
   "cell_type": "code",
   "execution_count": null,
   "id": "71a0a229",
   "metadata": {},
   "outputs": [],
   "source": []
  },
  {
   "cell_type": "markdown",
   "id": "c1d2dbb4",
   "metadata": {},
   "source": [
    "# Iterator"
   ]
  },
  {
   "cell_type": "markdown",
   "id": "b6e816d8",
   "metadata": {},
   "source": [
    "If an object is holding a value with the help of some sort of indexes and if you are able to access it one by one with the help of indexes that kind of object is called as iterable\n",
    "\n",
    "If an object are iterable then we are ableb to iterate overit and able to extract data one by one.\n",
    "\n",
    "with the help of iter() we are able to covert any kind of iterable into iterator and one by one with the help of next() we able to extract data.\n",
    "\n",
    "next() always remember what have extracted last time and based on that it will give data set.\n",
    "\n",
    "Unlesss an objects are not iterable you cann't make it as iterator."
   ]
  },
  {
   "cell_type": "code",
   "execution_count": 18,
   "id": "98fa39a2",
   "metadata": {},
   "outputs": [
    {
     "data": {
      "text/plain": [
       "'A'"
      ]
     },
     "execution_count": 18,
     "metadata": {},
     "output_type": "execute_result"
    }
   ],
   "source": [
    "a = \"Aditya\"\n",
    "a = iter(a)\n",
    "next(a)"
   ]
  },
  {
   "cell_type": "code",
   "execution_count": 19,
   "id": "cafd1c00",
   "metadata": {},
   "outputs": [
    {
     "data": {
      "text/plain": [
       "'d'"
      ]
     },
     "execution_count": 19,
     "metadata": {},
     "output_type": "execute_result"
    }
   ],
   "source": [
    "next(a)"
   ]
  },
  {
   "cell_type": "code",
   "execution_count": 20,
   "id": "18563c80",
   "metadata": {},
   "outputs": [
    {
     "data": {
      "text/plain": [
       "'i'"
      ]
     },
     "execution_count": 20,
     "metadata": {},
     "output_type": "execute_result"
    }
   ],
   "source": [
    "next(a)"
   ]
  },
  {
   "cell_type": "code",
   "execution_count": null,
   "id": "328514fd",
   "metadata": {},
   "outputs": [],
   "source": []
  },
  {
   "cell_type": "code",
   "execution_count": 21,
   "id": "282f86ae",
   "metadata": {},
   "outputs": [
    {
     "ename": "TypeError",
     "evalue": "'int' object is not an iterator",
     "output_type": "error",
     "traceback": [
      "\u001b[1;31m---------------------------------------------------------------------------\u001b[0m",
      "\u001b[1;31mTypeError\u001b[0m                                 Traceback (most recent call last)",
      "\u001b[1;32m~\\AppData\\Local\\Temp\\ipykernel_7584\\283391404.py\u001b[0m in \u001b[0;36m<module>\u001b[1;34m\u001b[0m\n\u001b[0;32m      1\u001b[0m \u001b[0ma\u001b[0m \u001b[1;33m=\u001b[0m \u001b[1;36m56\u001b[0m\u001b[1;33m\u001b[0m\u001b[1;33m\u001b[0m\u001b[0m\n\u001b[1;32m----> 2\u001b[1;33m \u001b[0mnext\u001b[0m\u001b[1;33m(\u001b[0m\u001b[0ma\u001b[0m\u001b[1;33m)\u001b[0m\u001b[1;33m\u001b[0m\u001b[1;33m\u001b[0m\u001b[0m\n\u001b[0m",
      "\u001b[1;31mTypeError\u001b[0m: 'int' object is not an iterator"
     ]
    }
   ],
   "source": [
    "a = 56\n",
    "next(a)"
   ]
  },
  {
   "cell_type": "code",
   "execution_count": 27,
   "id": "e8a489bd",
   "metadata": {},
   "outputs": [
    {
     "ename": "TypeError",
     "evalue": "'int' object is not iterable",
     "output_type": "error",
     "traceback": [
      "\u001b[1;31m---------------------------------------------------------------------------\u001b[0m",
      "\u001b[1;31mTypeError\u001b[0m                                 Traceback (most recent call last)",
      "\u001b[1;32m~\\AppData\\Local\\Temp\\ipykernel_7584\\767013278.py\u001b[0m in \u001b[0;36m<module>\u001b[1;34m\u001b[0m\n\u001b[1;32m----> 1\u001b[1;33m \u001b[0ma\u001b[0m \u001b[1;33m=\u001b[0m \u001b[0miter\u001b[0m\u001b[1;33m(\u001b[0m\u001b[0ma\u001b[0m\u001b[1;33m)\u001b[0m\u001b[1;33m\u001b[0m\u001b[1;33m\u001b[0m\u001b[0m\n\u001b[0m",
      "\u001b[1;31mTypeError\u001b[0m: 'int' object is not iterable"
     ]
    }
   ],
   "source": [
    "a = iter(a)"
   ]
  },
  {
   "cell_type": "code",
   "execution_count": null,
   "id": "41233fd9",
   "metadata": {},
   "outputs": [],
   "source": []
  },
  {
   "cell_type": "code",
   "execution_count": 22,
   "id": "8f0ba563",
   "metadata": {},
   "outputs": [
    {
     "ename": "TypeError",
     "evalue": "'tuple' object is not an iterator",
     "output_type": "error",
     "traceback": [
      "\u001b[1;31m---------------------------------------------------------------------------\u001b[0m",
      "\u001b[1;31mTypeError\u001b[0m                                 Traceback (most recent call last)",
      "\u001b[1;32m~\\AppData\\Local\\Temp\\ipykernel_7584\\3654743855.py\u001b[0m in \u001b[0;36m<module>\u001b[1;34m\u001b[0m\n\u001b[0;32m      1\u001b[0m \u001b[0mt\u001b[0m \u001b[1;33m=\u001b[0m \u001b[1;33m(\u001b[0m\u001b[1;36m5\u001b[0m\u001b[1;33m,\u001b[0m\u001b[1;36m6\u001b[0m\u001b[1;33m,\u001b[0m\u001b[1;36m4\u001b[0m\u001b[1;33m,\u001b[0m\u001b[1;36m7\u001b[0m\u001b[1;33m)\u001b[0m\u001b[1;33m\u001b[0m\u001b[1;33m\u001b[0m\u001b[0m\n\u001b[1;32m----> 2\u001b[1;33m \u001b[0mnext\u001b[0m\u001b[1;33m(\u001b[0m\u001b[0mt\u001b[0m\u001b[1;33m)\u001b[0m\u001b[1;33m\u001b[0m\u001b[1;33m\u001b[0m\u001b[0m\n\u001b[0m",
      "\u001b[1;31mTypeError\u001b[0m: 'tuple' object is not an iterator"
     ]
    }
   ],
   "source": [
    "t = (5,6,4,7)\n",
    "next(t)"
   ]
  },
  {
   "cell_type": "code",
   "execution_count": 24,
   "id": "f961c67b",
   "metadata": {},
   "outputs": [],
   "source": [
    "t = iter(t)"
   ]
  },
  {
   "cell_type": "code",
   "execution_count": 25,
   "id": "79b4265c",
   "metadata": {},
   "outputs": [
    {
     "data": {
      "text/plain": [
       "5"
      ]
     },
     "execution_count": 25,
     "metadata": {},
     "output_type": "execute_result"
    }
   ],
   "source": [
    "next(t)"
   ]
  },
  {
   "cell_type": "code",
   "execution_count": 26,
   "id": "715829af",
   "metadata": {},
   "outputs": [
    {
     "data": {
      "text/plain": [
       "6"
      ]
     },
     "execution_count": 26,
     "metadata": {},
     "output_type": "execute_result"
    }
   ],
   "source": [
    "next(t)"
   ]
  },
  {
   "cell_type": "code",
   "execution_count": null,
   "id": "25bfb12a",
   "metadata": {},
   "outputs": [],
   "source": []
  },
  {
   "cell_type": "code",
   "execution_count": 28,
   "id": "3bbfc726",
   "metadata": {},
   "outputs": [
    {
     "ename": "TypeError",
     "evalue": "'range' object is not an iterator",
     "output_type": "error",
     "traceback": [
      "\u001b[1;31m---------------------------------------------------------------------------\u001b[0m",
      "\u001b[1;31mTypeError\u001b[0m                                 Traceback (most recent call last)",
      "\u001b[1;32m~\\AppData\\Local\\Temp\\ipykernel_7584\\2562785477.py\u001b[0m in \u001b[0;36m<module>\u001b[1;34m\u001b[0m\n\u001b[0;32m      1\u001b[0m \u001b[0mr\u001b[0m \u001b[1;33m=\u001b[0m \u001b[0mrange\u001b[0m\u001b[1;33m(\u001b[0m\u001b[1;36m6\u001b[0m\u001b[1;33m)\u001b[0m\u001b[1;33m\u001b[0m\u001b[1;33m\u001b[0m\u001b[0m\n\u001b[1;32m----> 2\u001b[1;33m \u001b[0mnext\u001b[0m\u001b[1;33m(\u001b[0m\u001b[0mr\u001b[0m\u001b[1;33m)\u001b[0m\u001b[1;33m\u001b[0m\u001b[1;33m\u001b[0m\u001b[0m\n\u001b[0m",
      "\u001b[1;31mTypeError\u001b[0m: 'range' object is not an iterator"
     ]
    }
   ],
   "source": [
    "r = range(6)\n",
    "next(r)"
   ]
  },
  {
   "cell_type": "code",
   "execution_count": 29,
   "id": "e08dbe81",
   "metadata": {},
   "outputs": [],
   "source": [
    "r = iter(r)"
   ]
  },
  {
   "cell_type": "code",
   "execution_count": 30,
   "id": "a0893a7b",
   "metadata": {},
   "outputs": [
    {
     "data": {
      "text/plain": [
       "0"
      ]
     },
     "execution_count": 30,
     "metadata": {},
     "output_type": "execute_result"
    }
   ],
   "source": [
    "next(r)"
   ]
  },
  {
   "cell_type": "code",
   "execution_count": 31,
   "id": "c630447a",
   "metadata": {},
   "outputs": [
    {
     "data": {
      "text/plain": [
       "1"
      ]
     },
     "execution_count": 31,
     "metadata": {},
     "output_type": "execute_result"
    }
   ],
   "source": [
    "next(r)"
   ]
  },
  {
   "cell_type": "code",
   "execution_count": null,
   "id": "aa005688",
   "metadata": {},
   "outputs": [],
   "source": []
  },
  {
   "cell_type": "markdown",
   "id": "f266056d",
   "metadata": {},
   "source": [
    "# Generator"
   ]
  },
  {
   "cell_type": "markdown",
   "id": "b24ba41b",
   "metadata": {},
   "source": [
    "Generator is an object which allows you to hold an information about a previous dataset that you have generator \n",
    "and by logic which you have generated so that you will be able to generate next data."
   ]
  },
  {
   "cell_type": "code",
   "execution_count": 32,
   "id": "fd24cb2c",
   "metadata": {},
   "outputs": [],
   "source": [
    "def gencube(n):\n",
    "    l = []\n",
    "    for i in range(n):\n",
    "        l.append(i**3)\n",
    "    return l"
   ]
  },
  {
   "cell_type": "code",
   "execution_count": 33,
   "id": "8749730a",
   "metadata": {},
   "outputs": [],
   "source": [
    "def gencube(n):\n",
    "    for i in range(n):\n",
    "        yield i**3"
   ]
  },
  {
   "cell_type": "code",
   "execution_count": 34,
   "id": "9b9d71ae",
   "metadata": {},
   "outputs": [
    {
     "data": {
      "text/plain": [
       "<generator object gencube at 0x0000024E9D7C0350>"
      ]
     },
     "execution_count": 34,
     "metadata": {},
     "output_type": "execute_result"
    }
   ],
   "source": [
    "gencube(10)"
   ]
  },
  {
   "cell_type": "code",
   "execution_count": 35,
   "id": "5de4dc6d",
   "metadata": {},
   "outputs": [
    {
     "name": "stdout",
     "output_type": "stream",
     "text": [
      "0\n",
      "1\n",
      "8\n",
      "27\n",
      "64\n",
      "125\n",
      "216\n",
      "343\n",
      "512\n",
      "729\n"
     ]
    }
   ],
   "source": [
    "for i in gencube(10):\n",
    "    print(i)"
   ]
  },
  {
   "cell_type": "code",
   "execution_count": null,
   "id": "3c48be10",
   "metadata": {},
   "outputs": [],
   "source": []
  }
 ],
 "metadata": {
  "kernelspec": {
   "display_name": "Python 3 (ipykernel)",
   "language": "python",
   "name": "python3"
  },
  "language_info": {
   "codemirror_mode": {
    "name": "ipython",
    "version": 3
   },
   "file_extension": ".py",
   "mimetype": "text/x-python",
   "name": "python",
   "nbconvert_exporter": "python",
   "pygments_lexer": "ipython3",
   "version": "3.9.13"
  }
 },
 "nbformat": 4,
 "nbformat_minor": 5
}
