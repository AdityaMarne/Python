{
 "cells": [
  {
   "cell_type": "markdown",
   "id": "fbdc25e6",
   "metadata": {},
   "source": [
    "Abstraction is used to hide the internal functionality of the function from the users. The users only interact with the basic implementation of the function, but inner working is hidden. User is familiar with that \"what function does\" but they don't know \"how it does.\""
   ]
  },
  {
   "cell_type": "markdown",
   "id": "820a8cbe",
   "metadata": {},
   "source": [
    "In Python, abstraction can be achieved by using abstract classes and interfaces.A class that consists of one or more abstract method is called the abstract class. Abstract methods do not contain their implementation. Abstract class can be inherited by the subclass and abstract method gets its definition in the subclass. Abstraction classes are meant to be the blueprint of the other class."
   ]
  },
  {
   "cell_type": "code",
   "execution_count": 1,
   "id": "477f8a0c",
   "metadata": {},
   "outputs": [],
   "source": [
    "#abstract class\n",
    "class Car:\n",
    "    #abstarct method\n",
    "    def mileage(self):\n",
    "        pass"
   ]
  },
  {
   "cell_type": "code",
   "execution_count": 2,
   "id": "a4c1ffdc",
   "metadata": {},
   "outputs": [],
   "source": [
    "class Tesla(Car):\n",
    "    #implementation of abstarct method\n",
    "    def mileage(self):\n",
    "        print(\"The mileage is 30kmph\")"
   ]
  },
  {
   "cell_type": "code",
   "execution_count": 3,
   "id": "51f666bc",
   "metadata": {},
   "outputs": [],
   "source": [
    "T = Tesla()"
   ]
  },
  {
   "cell_type": "code",
   "execution_count": 4,
   "id": "2b71cca7",
   "metadata": {},
   "outputs": [
    {
     "name": "stdout",
     "output_type": "stream",
     "text": [
      "The mileage is 30kmph\n"
     ]
    }
   ],
   "source": [
    "T.mileage()"
   ]
  },
  {
   "cell_type": "code",
   "execution_count": 6,
   "id": "a93bd66c",
   "metadata": {},
   "outputs": [],
   "source": [
    "class Suzuki(Car):  \n",
    "    #implementation of abstarct method\n",
    "    def mileage(self):   \n",
    "        print(\"The mileage is 25kmph \") "
   ]
  },
  {
   "cell_type": "code",
   "execution_count": 7,
   "id": "bfb9fd01",
   "metadata": {},
   "outputs": [],
   "source": [
    "class Duster(Car):\n",
    "    #implementation of abstarct method\n",
    "     def mileage(self):\n",
    "        print(\"The mileage is 24kmph \")   "
   ]
  },
  {
   "cell_type": "code",
   "execution_count": 8,
   "id": "0c147328",
   "metadata": {},
   "outputs": [],
   "source": [
    "class Renault(Car):\n",
    "    #implementation of abstarct method\n",
    "    def mileage(self):   \n",
    "        print(\"The mileage is 27kmph \") "
   ]
  },
  {
   "cell_type": "code",
   "execution_count": 10,
   "id": "df729dc5",
   "metadata": {},
   "outputs": [],
   "source": [
    "s = Suzuki()"
   ]
  },
  {
   "cell_type": "code",
   "execution_count": 11,
   "id": "5b36966a",
   "metadata": {},
   "outputs": [
    {
     "name": "stdout",
     "output_type": "stream",
     "text": [
      "The mileage is 25kmph \n"
     ]
    }
   ],
   "source": [
    "s.mileage()"
   ]
  },
  {
   "cell_type": "code",
   "execution_count": 12,
   "id": "6f1daea5",
   "metadata": {},
   "outputs": [],
   "source": [
    "d = Duster()"
   ]
  },
  {
   "cell_type": "code",
   "execution_count": 13,
   "id": "14192833",
   "metadata": {},
   "outputs": [
    {
     "name": "stdout",
     "output_type": "stream",
     "text": [
      "The mileage is 24kmph \n"
     ]
    }
   ],
   "source": [
    "d.mileage()"
   ]
  },
  {
   "cell_type": "code",
   "execution_count": 14,
   "id": "7b1ec3eb",
   "metadata": {},
   "outputs": [],
   "source": [
    "r = Renault()"
   ]
  },
  {
   "cell_type": "code",
   "execution_count": 15,
   "id": "1cd10716",
   "metadata": {},
   "outputs": [
    {
     "name": "stdout",
     "output_type": "stream",
     "text": [
      "The mileage is 27kmph \n"
     ]
    }
   ],
   "source": [
    "r.mileage()"
   ]
  },
  {
   "cell_type": "code",
   "execution_count": null,
   "id": "a34534da",
   "metadata": {},
   "outputs": [],
   "source": []
  },
  {
   "cell_type": "code",
   "execution_count": 20,
   "id": "54ebe03a",
   "metadata": {},
   "outputs": [],
   "source": [
    "#Abstarct class\n",
    "class Polygon:\n",
    "    #abstarct method\n",
    "    def sides(self):\n",
    "        pass"
   ]
  },
  {
   "cell_type": "code",
   "execution_count": 21,
   "id": "673956c6",
   "metadata": {},
   "outputs": [],
   "source": [
    "class Triangle(Polygon):\n",
    "    #implementation of abstarct method\n",
    "    def sides(self):\n",
    "        print(\"Triangle has 3 sides\")"
   ]
  },
  {
   "cell_type": "code",
   "execution_count": 22,
   "id": "817d2162",
   "metadata": {},
   "outputs": [],
   "source": [
    "class Rectangle(Polygon):\n",
    "    #implementation of abstarct method\n",
    "    def sides(self):\n",
    "        print(\"Rectangle has 4 sides\")"
   ]
  },
  {
   "cell_type": "code",
   "execution_count": 24,
   "id": "0538458a",
   "metadata": {},
   "outputs": [],
   "source": [
    "t = Triangle()"
   ]
  },
  {
   "cell_type": "code",
   "execution_count": 25,
   "id": "84505160",
   "metadata": {},
   "outputs": [
    {
     "name": "stdout",
     "output_type": "stream",
     "text": [
      "Triangle has 3 sides\n"
     ]
    }
   ],
   "source": [
    "t.sides()"
   ]
  },
  {
   "cell_type": "markdown",
   "id": "75d7c30f",
   "metadata": {},
   "source": [
    "Note:\n",
    "1]An Abstract class can contain the both method normal and abstract method.\n",
    "2}An Abstract cannot be instantiated; we cannot create objects for the abstract class."
   ]
  },
  {
   "cell_type": "code",
   "execution_count": null,
   "id": "f71b9aba",
   "metadata": {},
   "outputs": [],
   "source": []
  }
 ],
 "metadata": {
  "kernelspec": {
   "display_name": "Python 3 (ipykernel)",
   "language": "python",
   "name": "python3"
  },
  "language_info": {
   "codemirror_mode": {
    "name": "ipython",
    "version": 3
   },
   "file_extension": ".py",
   "mimetype": "text/x-python",
   "name": "python",
   "nbconvert_exporter": "python",
   "pygments_lexer": "ipython3",
   "version": "3.9.13"
  }
 },
 "nbformat": 4,
 "nbformat_minor": 5
}
