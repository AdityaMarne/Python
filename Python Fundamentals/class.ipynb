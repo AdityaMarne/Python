{
 "cells": [
  {
   "cell_type": "markdown",
   "id": "417a33d0",
   "metadata": {},
   "source": [
    "The class can be defined as a collection of objects. \n",
    "\n",
    "It is a logical entity that has some specific attributes and methods.\n",
    "\n",
    "For example: if you have an employee class, then it should contain an attribute and method, i.e. an email id, name, age, salary, etc.\n",
    "\n",
    "Syntax :\n",
    "class ClassName:     \n",
    "        <statement-1>     \n",
    "        .     \n",
    "        .      \n",
    "        <statement-N>\n",
    "      \n",
    "   \n",
    "Objects :\n",
    "The object is an entity that has state and behavior.\n",
    "            \n",
    "Everything in Python is an object, and almost everything has attributes and methods."
   ]
  },
  {
   "cell_type": "code",
   "execution_count": 1,
   "id": "d3a4176c",
   "metadata": {},
   "outputs": [],
   "source": [
    "class car:\n",
    "    def __init__(self, body_type, engine, fuel_type):\n",
    "        self.body_type = body_type\n",
    "        self.engine = engine\n",
    "        self.fuel_type = fuel_type\n",
    "    \n",
    "    def test(self):\n",
    "        print(\"This is my first method in my car class\")"
   ]
  },
  {
   "cell_type": "code",
   "execution_count": 2,
   "id": "bb52e190",
   "metadata": {},
   "outputs": [
    {
     "ename": "TypeError",
     "evalue": "__init__() missing 3 required positional arguments: 'body_type', 'engine', and 'fuel_type'",
     "output_type": "error",
     "traceback": [
      "\u001b[1;31m---------------------------------------------------------------------------\u001b[0m",
      "\u001b[1;31mTypeError\u001b[0m                                 Traceback (most recent call last)",
      "\u001b[1;32m~\\AppData\\Local\\Temp\\ipykernel_21356\\2452137074.py\u001b[0m in \u001b[0;36m<module>\u001b[1;34m\u001b[0m\n\u001b[1;32m----> 1\u001b[1;33m \u001b[0mfortuner\u001b[0m \u001b[1;33m=\u001b[0m \u001b[0mcar\u001b[0m\u001b[1;33m(\u001b[0m\u001b[1;33m)\u001b[0m\u001b[1;33m\u001b[0m\u001b[1;33m\u001b[0m\u001b[0m\n\u001b[0m",
      "\u001b[1;31mTypeError\u001b[0m: __init__() missing 3 required positional arguments: 'body_type', 'engine', and 'fuel_type'"
     ]
    }
   ],
   "source": [
    "fortuner = car()"
   ]
  },
  {
   "cell_type": "code",
   "execution_count": 3,
   "id": "012acaef",
   "metadata": {},
   "outputs": [],
   "source": [
    "fortuner = car(\"SUV\",\"BS4\",\"Petrol\") #body_type = SUV, engine = BS4, fuel_type = Petrol"
   ]
  },
  {
   "cell_type": "code",
   "execution_count": 4,
   "id": "addc0afb",
   "metadata": {},
   "outputs": [
    {
     "data": {
      "text/plain": [
       "'SUV'"
      ]
     },
     "execution_count": 4,
     "metadata": {},
     "output_type": "execute_result"
    }
   ],
   "source": [
    "fortuner.body_type"
   ]
  },
  {
   "cell_type": "code",
   "execution_count": 5,
   "id": "05f58bb6",
   "metadata": {},
   "outputs": [
    {
     "data": {
      "text/plain": [
       "'BS4'"
      ]
     },
     "execution_count": 5,
     "metadata": {},
     "output_type": "execute_result"
    }
   ],
   "source": [
    "fortuner.engine"
   ]
  },
  {
   "cell_type": "code",
   "execution_count": 6,
   "id": "500395b2",
   "metadata": {},
   "outputs": [
    {
     "data": {
      "text/plain": [
       "'Petrol'"
      ]
     },
     "execution_count": 6,
     "metadata": {},
     "output_type": "execute_result"
    }
   ],
   "source": [
    "fortuner.fuel_type"
   ]
  },
  {
   "cell_type": "code",
   "execution_count": 7,
   "id": "9b034a79",
   "metadata": {},
   "outputs": [
    {
     "name": "stdout",
     "output_type": "stream",
     "text": [
      "This is my first method in my car class\n"
     ]
    }
   ],
   "source": [
    "fortuner.test()"
   ]
  },
  {
   "cell_type": "code",
   "execution_count": 8,
   "id": "d3e6eaf0",
   "metadata": {},
   "outputs": [],
   "source": [
    "nexon = car(\"SUV\",\"abc\",\"Petrol\")"
   ]
  },
  {
   "cell_type": "code",
   "execution_count": 9,
   "id": "2f35522f",
   "metadata": {},
   "outputs": [
    {
     "data": {
      "text/plain": [
       "'SUV'"
      ]
     },
     "execution_count": 9,
     "metadata": {},
     "output_type": "execute_result"
    }
   ],
   "source": [
    "nexon.body_type"
   ]
  },
  {
   "cell_type": "code",
   "execution_count": 10,
   "id": "1b73fa51",
   "metadata": {},
   "outputs": [
    {
     "data": {
      "text/plain": [
       "'abc'"
      ]
     },
     "execution_count": 10,
     "metadata": {},
     "output_type": "execute_result"
    }
   ],
   "source": [
    "nexon.engine"
   ]
  },
  {
   "cell_type": "code",
   "execution_count": 11,
   "id": "0bc300f4",
   "metadata": {},
   "outputs": [
    {
     "data": {
      "text/plain": [
       "'Petrol'"
      ]
     },
     "execution_count": 11,
     "metadata": {},
     "output_type": "execute_result"
    }
   ],
   "source": [
    "nexon.fuel_type"
   ]
  },
  {
   "cell_type": "code",
   "execution_count": null,
   "id": "015fce18",
   "metadata": {},
   "outputs": [],
   "source": []
  },
  {
   "cell_type": "code",
   "execution_count": 12,
   "id": "e0c292b4",
   "metadata": {},
   "outputs": [],
   "source": [
    "class car:\n",
    "    def __init__(self, body_type, engine, fuel_type):\n",
    "        self.body_type1 = body_type\n",
    "        self.engine = engine\n",
    "        self.fuel_type = fuel_type"
   ]
  },
  {
   "cell_type": "code",
   "execution_count": 13,
   "id": "aaab3882",
   "metadata": {},
   "outputs": [],
   "source": [
    "fortuner = car(\"SUV\",\"BS4\",\"Petrol\") #body_type1 = SUV, engine = BS4, fuel_type = Petrol"
   ]
  },
  {
   "cell_type": "code",
   "execution_count": 14,
   "id": "afa34575",
   "metadata": {},
   "outputs": [
    {
     "ename": "AttributeError",
     "evalue": "'car' object has no attribute 'body_type'",
     "output_type": "error",
     "traceback": [
      "\u001b[1;31m---------------------------------------------------------------------------\u001b[0m",
      "\u001b[1;31mAttributeError\u001b[0m                            Traceback (most recent call last)",
      "\u001b[1;32m~\\AppData\\Local\\Temp\\ipykernel_21356\\3138332200.py\u001b[0m in \u001b[0;36m<module>\u001b[1;34m\u001b[0m\n\u001b[1;32m----> 1\u001b[1;33m \u001b[0mfortuner\u001b[0m\u001b[1;33m.\u001b[0m\u001b[0mbody_type\u001b[0m\u001b[1;33m\u001b[0m\u001b[1;33m\u001b[0m\u001b[0m\n\u001b[0m",
      "\u001b[1;31mAttributeError\u001b[0m: 'car' object has no attribute 'body_type'"
     ]
    }
   ],
   "source": [
    "fortuner.body_type"
   ]
  },
  {
   "cell_type": "code",
   "execution_count": 15,
   "id": "2f71819c",
   "metadata": {},
   "outputs": [
    {
     "data": {
      "text/plain": [
       "'SUV'"
      ]
     },
     "execution_count": 15,
     "metadata": {},
     "output_type": "execute_result"
    }
   ],
   "source": [
    "fortuner.body_type1"
   ]
  },
  {
   "cell_type": "code",
   "execution_count": null,
   "id": "250e0663",
   "metadata": {},
   "outputs": [],
   "source": []
  },
  {
   "cell_type": "code",
   "execution_count": 16,
   "id": "6f5c6c98",
   "metadata": {},
   "outputs": [],
   "source": [
    "class car:\n",
    "    def __init__(self, body_type, engine, fuel_type):\n",
    "        self.a = body_type\n",
    "        self.b = engine\n",
    "        self.c = fuel_type"
   ]
  },
  {
   "cell_type": "code",
   "execution_count": 17,
   "id": "b4f9580a",
   "metadata": {},
   "outputs": [],
   "source": [
    "fortuner = car(\"SUV\",\"BS4\",\"Petrol\") #a = SUV, b = BS4, c = Petrol"
   ]
  },
  {
   "cell_type": "code",
   "execution_count": 18,
   "id": "b8badbbe",
   "metadata": {},
   "outputs": [
    {
     "data": {
      "text/plain": [
       "'SUV'"
      ]
     },
     "execution_count": 18,
     "metadata": {},
     "output_type": "execute_result"
    }
   ],
   "source": [
    "fortuner.a"
   ]
  },
  {
   "cell_type": "code",
   "execution_count": 19,
   "id": "0cb53e9c",
   "metadata": {},
   "outputs": [
    {
     "data": {
      "text/plain": [
       "'BS4'"
      ]
     },
     "execution_count": 19,
     "metadata": {},
     "output_type": "execute_result"
    }
   ],
   "source": [
    "fortuner.b"
   ]
  },
  {
   "cell_type": "code",
   "execution_count": 20,
   "id": "9c141670",
   "metadata": {},
   "outputs": [
    {
     "data": {
      "text/plain": [
       "'Petrol'"
      ]
     },
     "execution_count": 20,
     "metadata": {},
     "output_type": "execute_result"
    }
   ],
   "source": [
    "fortuner.c"
   ]
  },
  {
   "cell_type": "code",
   "execution_count": null,
   "id": "659812cb",
   "metadata": {},
   "outputs": [],
   "source": []
  },
  {
   "cell_type": "code",
   "execution_count": 21,
   "id": "03c2c74f",
   "metadata": {},
   "outputs": [],
   "source": [
    "#self is not keyword\n",
    "class car:\n",
    "    def __init__(aditya, body_type, engine, fuel_type):\n",
    "        aditya.a = body_type\n",
    "        aditya.b = engine\n",
    "        aditya.c = fuel_type"
   ]
  },
  {
   "cell_type": "code",
   "execution_count": 22,
   "id": "75b7809b",
   "metadata": {},
   "outputs": [],
   "source": [
    "fortuner = car(\"SUV\",\"BS4\",\"Petrol\") #a = SUV, b = BS4, c = Petrol"
   ]
  },
  {
   "cell_type": "code",
   "execution_count": 23,
   "id": "066aff1f",
   "metadata": {},
   "outputs": [
    {
     "data": {
      "text/plain": [
       "'SUV'"
      ]
     },
     "execution_count": 23,
     "metadata": {},
     "output_type": "execute_result"
    }
   ],
   "source": [
    "fortuner.a"
   ]
  },
  {
   "cell_type": "code",
   "execution_count": 24,
   "id": "11de32d7",
   "metadata": {},
   "outputs": [
    {
     "name": "stdout",
     "output_type": "stream",
     "text": [
      "<class '__main__.car'>\n"
     ]
    }
   ],
   "source": [
    "print(type(fortuner))"
   ]
  },
  {
   "cell_type": "code",
   "execution_count": null,
   "id": "f6748ba9",
   "metadata": {},
   "outputs": [],
   "source": []
  },
  {
   "cell_type": "code",
   "execution_count": 25,
   "id": "27e79b2a",
   "metadata": {},
   "outputs": [],
   "source": [
    "#without __init__method\n",
    "class car:\n",
    "    def test(self):\n",
    "        print(\"This is my first method in my car class\")"
   ]
  },
  {
   "cell_type": "code",
   "execution_count": 26,
   "id": "7838561d",
   "metadata": {},
   "outputs": [],
   "source": [
    "x = car()"
   ]
  },
  {
   "cell_type": "code",
   "execution_count": 27,
   "id": "fc036abc",
   "metadata": {},
   "outputs": [
    {
     "name": "stdout",
     "output_type": "stream",
     "text": [
      "This is my first method in my car class\n"
     ]
    }
   ],
   "source": [
    "x.test()"
   ]
  },
  {
   "cell_type": "code",
   "execution_count": 28,
   "id": "8d58a3e6",
   "metadata": {},
   "outputs": [
    {
     "name": "stdout",
     "output_type": "stream",
     "text": [
      "<class '__main__.car'>\n"
     ]
    }
   ],
   "source": [
    "print(type(x))"
   ]
  },
  {
   "cell_type": "code",
   "execution_count": null,
   "id": "42ce8392",
   "metadata": {},
   "outputs": [],
   "source": []
  },
  {
   "cell_type": "code",
   "execution_count": 29,
   "id": "ed8db1a7",
   "metadata": {},
   "outputs": [],
   "source": [
    "#Q1. Write a function  for parsing alist inside a class\n",
    "\n",
    "class list_parser:\n",
    "    def parser(self,a):\n",
    "        if type(a) == list:\n",
    "            for i in a:\n",
    "                print(i)"
   ]
  },
  {
   "cell_type": "code",
   "execution_count": 30,
   "id": "bf7c3f90",
   "metadata": {},
   "outputs": [],
   "source": [
    "x = list_parser()"
   ]
  },
  {
   "cell_type": "code",
   "execution_count": 31,
   "id": "f716b6ed",
   "metadata": {},
   "outputs": [
    {
     "name": "stdout",
     "output_type": "stream",
     "text": [
      "1\n",
      "2\n",
      "3\n",
      "4\n",
      "5\n"
     ]
    }
   ],
   "source": [
    "x.parser([1,2,3,4,5])"
   ]
  },
  {
   "cell_type": "code",
   "execution_count": 32,
   "id": "f2c3dcca",
   "metadata": {},
   "outputs": [],
   "source": [
    "class list_parser:\n",
    "    def __init__(self,lst):\n",
    "        self.lst = lst\n",
    "        \n",
    "    def parser(self):\n",
    "        if type(self.lst) == list:\n",
    "            for i in self.lst:\n",
    "                print(i)"
   ]
  },
  {
   "cell_type": "code",
   "execution_count": 33,
   "id": "48d44e41",
   "metadata": {},
   "outputs": [],
   "source": [
    "x = list_parser([1,2,3,4,5])"
   ]
  },
  {
   "cell_type": "code",
   "execution_count": 34,
   "id": "10f46d11",
   "metadata": {},
   "outputs": [
    {
     "data": {
      "text/plain": [
       "[1, 2, 3, 4, 5]"
      ]
     },
     "execution_count": 34,
     "metadata": {},
     "output_type": "execute_result"
    }
   ],
   "source": [
    "x.lst"
   ]
  },
  {
   "cell_type": "code",
   "execution_count": 35,
   "id": "490115d5",
   "metadata": {},
   "outputs": [
    {
     "name": "stdout",
     "output_type": "stream",
     "text": [
      "1\n",
      "2\n",
      "3\n",
      "4\n",
      "5\n"
     ]
    }
   ],
   "source": [
    "x.parser()"
   ]
  },
  {
   "cell_type": "code",
   "execution_count": null,
   "id": "ca7f44e1",
   "metadata": {},
   "outputs": [],
   "source": []
  },
  {
   "cell_type": "code",
   "execution_count": null,
   "id": "bc5d9d1f",
   "metadata": {},
   "outputs": [],
   "source": []
  },
  {
   "cell_type": "code",
   "execution_count": 36,
   "id": "a711dee1",
   "metadata": {},
   "outputs": [],
   "source": [
    "class list_parser:\n",
    "    def __init__(self,lst):\n",
    "        self.lst = lst\n",
    "        \n",
    "    def parser(self):\n",
    "        if type(self.lst) == list:\n",
    "            for i in self.lst:\n",
    "                print(i)\n",
    "    \n",
    "    def reverse_list(self):\n",
    "        if type(self.lst) == list:\n",
    "            return self.lst[::-1]"
   ]
  },
  {
   "cell_type": "code",
   "execution_count": 37,
   "id": "b05c1e07",
   "metadata": {},
   "outputs": [],
   "source": [
    "y = list_parser([1,2,3,4,5])"
   ]
  },
  {
   "cell_type": "code",
   "execution_count": 38,
   "id": "69f302a5",
   "metadata": {},
   "outputs": [
    {
     "data": {
      "text/plain": [
       "[1, 2, 3, 4, 5]"
      ]
     },
     "execution_count": 38,
     "metadata": {},
     "output_type": "execute_result"
    }
   ],
   "source": [
    "y.lst"
   ]
  },
  {
   "cell_type": "code",
   "execution_count": 39,
   "id": "aa928f0e",
   "metadata": {},
   "outputs": [
    {
     "name": "stdout",
     "output_type": "stream",
     "text": [
      "1\n",
      "2\n",
      "3\n",
      "4\n",
      "5\n"
     ]
    }
   ],
   "source": [
    "y.parser()"
   ]
  },
  {
   "cell_type": "code",
   "execution_count": 40,
   "id": "136fb396",
   "metadata": {},
   "outputs": [
    {
     "data": {
      "text/plain": [
       "[5, 4, 3, 2, 1]"
      ]
     },
     "execution_count": 40,
     "metadata": {},
     "output_type": "execute_result"
    }
   ],
   "source": [
    "y.reverse_list()"
   ]
  },
  {
   "cell_type": "code",
   "execution_count": null,
   "id": "ac16512d",
   "metadata": {},
   "outputs": [],
   "source": []
  },
  {
   "cell_type": "code",
   "execution_count": 41,
   "id": "b705f92b",
   "metadata": {},
   "outputs": [
    {
     "data": {
      "text/plain": [
       "'\\nQ2. Create a class for dictionary parsing\\n1. Write a function to give all the keys.\\n2. Write a function to give all the values.\\n3. Write a function to throw an error in case of input is not a dictionary.\\n4. Write a function for take user input and then parse a keys and values out of dictionary.\\n5. Write a function to linsert new key value parse into dictionary.\\n'"
      ]
     },
     "execution_count": 41,
     "metadata": {},
     "output_type": "execute_result"
    }
   ],
   "source": [
    "'''\n",
    "Q2. Create a class for dictionary parsing\n",
    "1. Write a function to give all the keys.\n",
    "2. Write a function to give all the values.\n",
    "3. Write a function to throw an error in case of input is not a dictionary.\n",
    "4. Write a function for take user input and then parse a keys and values out of dictionary.\n",
    "5. Write a function to linsert new key value parse into dictionary.\n",
    "'''"
   ]
  },
  {
   "cell_type": "code",
   "execution_count": 42,
   "id": "dbc4c897",
   "metadata": {},
   "outputs": [],
   "source": [
    "import logging"
   ]
  },
  {
   "cell_type": "code",
   "execution_count": 43,
   "id": "9daf1479",
   "metadata": {},
   "outputs": [],
   "source": [
    "logging.basicConfig(filename=\"test.log\", level=logging.DEBUG, format=\"%(asctime)s %(levelname)s %(message)s\")"
   ]
  },
  {
   "cell_type": "code",
   "execution_count": 44,
   "id": "795d6740",
   "metadata": {},
   "outputs": [],
   "source": [
    "class DictinaryParsing:\n",
    "    '''\n",
    "    This class is used for Dictionary parsing operations\n",
    "    '''\n",
    "    def __init__(self,dictionary):\n",
    "        self.dictionary = dictionary\n",
    "        try:\n",
    "            if type(self.dictionary) != dict:\n",
    "                logging.error(\"You have not enter a dictionary %s\",dictionary)\n",
    "        except:\n",
    "            logging.info(\"Something went wrrong while checking the dictionary\")\n",
    "    \n",
    "    def give_keys(self):\n",
    "        try:\n",
    "            logging.info(\"This are the keys of dictionary %s\",self.dictionary.keys())\n",
    "        except:\n",
    "            logging.info(\"Something went wrrong while extracting keys\")\n",
    "            \n",
    "    def give_values(self):\n",
    "        try:\n",
    "            logging.info(\"This are the values of the dictionary %s\",self.dictionary.values())\n",
    "        except:\n",
    "            logging.exception(\"You have not enter a dictionary so not able to extract values %s\",self.dictionary)\n",
    "            \n",
    "    def user_input(self):\n",
    "        try:\n",
    "            n = int(input(\"Enter how many keys are present in your dictionary\"))\n",
    "            if n < 0:\n",
    "                logging.error(\"You have enter a negative number %s\", n)\n",
    "            else:\n",
    "                dictionary = {}\n",
    "            \n",
    "                for i in range(n):\n",
    "                    key = input(\"Enter a key \")\n",
    "                    value = input(\"Enter a value \")\n",
    "                    dictionary[key] = value\n",
    "                \n",
    "                logging.info(\"This is the dictionary %s\", dictionary)\n",
    "                logging.info(\"This are the keys of dictionary %s\", dictionary.keys())\n",
    "                logging.info(\"This are the values of the dictionary %s\", dictionary.values())\n",
    "        except:\n",
    "            logging.exception(\"You have not enter a dictionary so not able to extract keys and values %s\",dictionary)\n",
    "            \n",
    "    def insertKeyVal(self):\n",
    "        try:\n",
    "            n = int(input(\"Enter how many keys are present in your dictionary\"))\n",
    "            if n < 0:\n",
    "                logging.error(\"You have enter a negative number %s\", n)\n",
    "            else:\n",
    "                for i in range(n):\n",
    "                    key = input(\"Enter a key \")\n",
    "                    value = input(\"Enter a value \")\n",
    "                    self.dictionary[key] = value\n",
    "                \n",
    "                logging.info(\"Dictionary %s\", self.dictionary)\n",
    "        except:\n",
    "            logging.exception(\"Not able to insert\")"
   ]
  },
  {
   "cell_type": "code",
   "execution_count": 45,
   "id": "130e9a8a",
   "metadata": {},
   "outputs": [],
   "source": [
    "c = DictinaryParsing({1:\"a\",2:\"b\",3:\"c\"})"
   ]
  },
  {
   "cell_type": "code",
   "execution_count": 46,
   "id": "671fd58b",
   "metadata": {},
   "outputs": [],
   "source": [
    "c.give_keys()"
   ]
  },
  {
   "cell_type": "code",
   "execution_count": 47,
   "id": "497bf32c",
   "metadata": {},
   "outputs": [],
   "source": [
    "c.give_values()"
   ]
  },
  {
   "cell_type": "code",
   "execution_count": 48,
   "id": "322cc950",
   "metadata": {},
   "outputs": [
    {
     "name": "stdout",
     "output_type": "stream",
     "text": [
      "Enter how many keys are present in your dictionary2\n",
      "Enter a key 1\n",
      "Enter a value a\n",
      "Enter a key 2\n",
      "Enter a value b\n"
     ]
    }
   ],
   "source": [
    "c.user_input()"
   ]
  },
  {
   "cell_type": "code",
   "execution_count": 49,
   "id": "d68de40b",
   "metadata": {},
   "outputs": [
    {
     "name": "stdout",
     "output_type": "stream",
     "text": [
      "Enter how many keys are present in your dictionary2\n",
      "Enter a key 1\n",
      "Enter a value a\n",
      "Enter a key 2\n",
      "Enter a value b\n"
     ]
    }
   ],
   "source": [
    "c.insertKeyVal()"
   ]
  },
  {
   "cell_type": "code",
   "execution_count": null,
   "id": "ee9414a6",
   "metadata": {},
   "outputs": [],
   "source": []
  },
  {
   "cell_type": "code",
   "execution_count": null,
   "id": "bf54b8b3",
   "metadata": {},
   "outputs": [],
   "source": [
    "#Q1. Create a class for custom list functions"
   ]
  },
  {
   "cell_type": "code",
   "execution_count": 19,
   "id": "3a9d7160",
   "metadata": {},
   "outputs": [],
   "source": [
    "import logging"
   ]
  },
  {
   "cell_type": "code",
   "execution_count": 20,
   "id": "f4ffb3f3",
   "metadata": {},
   "outputs": [],
   "source": [
    "logging.basicConfig(filename=\"test2.log\", level=logging.DEBUG, format=\"%(asctime)s %(levelname)s %(message)s\")"
   ]
  },
  {
   "cell_type": "code",
   "execution_count": 21,
   "id": "780a5941",
   "metadata": {},
   "outputs": [],
   "source": [
    "class CustomList:\n",
    "    '''\n",
    "    This is class for list functions  \n",
    "    '''\n",
    "    def __init__(self):\n",
    "        self.elements = []\n",
    "    \n",
    "    def append(self,element):\n",
    "        '''\n",
    "        This function is for apend operation \n",
    "        It takes one argumet as element\n",
    "        '''\n",
    "        try:\n",
    "            self.elements += [element]\n",
    "            logging.info(\"After append operation on list \"+str(self.elements))\n",
    "        except Exception as e:\n",
    "            logging.exception(\"Exception occured at append function \"+str(e))\n",
    "        \n",
    "    def clear(self):\n",
    "        '''\n",
    "        This fuction clears all the elements of list\n",
    "        It does not take any argument\n",
    "        '''\n",
    "        try:\n",
    "            self.elements = []\n",
    "            logging.info(\"After clear operation on list \"+str(self.elements))\n",
    "        except Exception as e:\n",
    "            logging.exception(\"Exception occured at clear function \"+str(e))\n",
    "    \n",
    "    def copy(self):\n",
    "        '''\n",
    "        This function makes the copy of list\n",
    "        Ti does not take any argument\n",
    "        '''\n",
    "        try:\n",
    "            self.elements = self.elements\n",
    "            logging.info(\"After copy operation on list \"+str(self.elements))\n",
    "        except Exception as e:\n",
    "            logging.exception(\"Exception occured at copy function \"+str(e))\n",
    "    \n",
    "    def extend(self,element):\n",
    "        '''\n",
    "        This function extend the list\n",
    "        It takes one argument as a parameter\n",
    "        '''\n",
    "        try:\n",
    "            self.element = element \n",
    "            self.elements += self.element\n",
    "            logging.info(\"After extend operation on list \"+str(self.elements))\n",
    "        except Exception as e:\n",
    "            logging.exception(\"Exception occured at extend function \"+str(e))\n",
    "    \n",
    "    def index(self,element):\n",
    "        '''\n",
    "        This function gives the first index occurance of given element\n",
    "        It takes one argument as a parameter\n",
    "        '''\n",
    "        try:\n",
    "            self.element = element\n",
    "            for i in range(0,len(self.elements)):\n",
    "                if self.element == self.elements[i]:\n",
    "                    logging.info(\"After index operation on list %d\",int(i))\n",
    "                    break\n",
    "        except Exception as e:\n",
    "            logging.exception(\"Exception occured at inedx function \"+str(e))\n",
    "               \n",
    "    def insert(self,index,element):\n",
    "        '''\n",
    "        This function insert the elemet at given index\n",
    "        It take 2 argument as a parameter 1 is index and 2 is element\n",
    "        '''\n",
    "        self.index = index\n",
    "        self.element = element\n",
    "        try:\n",
    "            self.elements = self.elements[:self.index]+[self.element]+self.elements[index:]\n",
    "            logging.info(\"After insert operation on list \"+str(self.elements))\n",
    "        except Exception as e:\n",
    "            logging.exception(\"Exception occured at insert function \"+str(e))\n",
    "                \n",
    "    def pop(self,index):\n",
    "        '''\n",
    "        This function pop out the index element from the list\n",
    "        It take index as a parameter\n",
    "        '''\n",
    "        try:\n",
    "            self.index = index\n",
    "            self.elements = self.elements[:self.index] + self.elements[self.index+1:]\n",
    "            logging.info(\"After pop operation on list \"+str(self.elements))\n",
    "        except Exception as e:\n",
    "            logging.exception(\"Exception occured at insert function \"+str(e))\n",
    "    \n",
    "    def reverse(self):\n",
    "        '''\n",
    "        This function return the reverse of list\n",
    "        It does not take any argument\n",
    "        '''\n",
    "        try:\n",
    "            lst = []\n",
    "            for i in self.elements[::-1]:\n",
    "                lst.append(i)\n",
    "            self.elements = lst\n",
    "            logging.info(\"After reverse operation on list \"+str(self.elements))\n",
    "        except Exception as e:\n",
    "            logging.exception(\"Exception occured at reverse function \"+str(e))"
   ]
  },
  {
   "cell_type": "code",
   "execution_count": 22,
   "id": "e2a40b77",
   "metadata": {},
   "outputs": [],
   "source": [
    "cl = CustomList()"
   ]
  },
  {
   "cell_type": "code",
   "execution_count": 23,
   "id": "253083d9",
   "metadata": {},
   "outputs": [],
   "source": [
    "cl.append(1)"
   ]
  },
  {
   "cell_type": "code",
   "execution_count": 24,
   "id": "d2962e54",
   "metadata": {},
   "outputs": [],
   "source": [
    "cl.clear()"
   ]
  },
  {
   "cell_type": "code",
   "execution_count": 25,
   "id": "6a2ceb00",
   "metadata": {},
   "outputs": [],
   "source": [
    "cl.append(1)"
   ]
  },
  {
   "cell_type": "code",
   "execution_count": 26,
   "id": "3d04c1ca",
   "metadata": {},
   "outputs": [],
   "source": [
    "cl.append([1,2,3])"
   ]
  },
  {
   "cell_type": "code",
   "execution_count": 27,
   "id": "0b72912c",
   "metadata": {},
   "outputs": [],
   "source": [
    "cl.append({1,2,3})"
   ]
  },
  {
   "cell_type": "code",
   "execution_count": 28,
   "id": "9dc73294",
   "metadata": {},
   "outputs": [],
   "source": [
    "cl.append({1:\"a\",2:\"b\"})"
   ]
  },
  {
   "cell_type": "code",
   "execution_count": 29,
   "id": "56d903f4",
   "metadata": {},
   "outputs": [],
   "source": [
    "cl.copy()"
   ]
  },
  {
   "cell_type": "code",
   "execution_count": 30,
   "id": "7ddace96",
   "metadata": {},
   "outputs": [
    {
     "data": {
      "text/plain": [
       "[1, [1, 2, 3], {1, 2, 3}, {1: 'a', 2: 'b'}]"
      ]
     },
     "execution_count": 30,
     "metadata": {},
     "output_type": "execute_result"
    }
   ],
   "source": [
    "cl.elements"
   ]
  },
  {
   "cell_type": "code",
   "execution_count": 31,
   "id": "e40819c1",
   "metadata": {},
   "outputs": [],
   "source": [
    "cl.extend(\"aditya\")"
   ]
  },
  {
   "cell_type": "code",
   "execution_count": 32,
   "id": "9d7ea9a0",
   "metadata": {},
   "outputs": [],
   "source": [
    "cl.index(1)"
   ]
  },
  {
   "cell_type": "code",
   "execution_count": 33,
   "id": "c3de1449",
   "metadata": {},
   "outputs": [],
   "source": [
    "cl.insert(1,1)"
   ]
  },
  {
   "cell_type": "code",
   "execution_count": 34,
   "id": "5057d281",
   "metadata": {},
   "outputs": [],
   "source": [
    "cl.pop(1)"
   ]
  },
  {
   "cell_type": "code",
   "execution_count": 35,
   "id": "1ff9d4f7",
   "metadata": {},
   "outputs": [],
   "source": [
    "cl.reverse()"
   ]
  },
  {
   "cell_type": "code",
   "execution_count": null,
   "id": "1b12c861",
   "metadata": {},
   "outputs": [],
   "source": []
  },
  {
   "cell_type": "code",
   "execution_count": 51,
   "id": "28aeb941",
   "metadata": {},
   "outputs": [],
   "source": [
    "class custom_tuple:\n",
    "    def __init__(self,tup):\n",
    "        try:\n",
    "            if type(tup) == tuple:\n",
    "                self.tup = tup\n",
    "        except:\n",
    "            print(\"The argument is not tuple\")"
   ]
  },
  {
   "cell_type": "code",
   "execution_count": null,
   "id": "bfc3556d",
   "metadata": {},
   "outputs": [],
   "source": []
  },
  {
   "cell_type": "code",
   "execution_count": null,
   "id": "4e177f73",
   "metadata": {},
   "outputs": [],
   "source": []
  },
  {
   "cell_type": "code",
   "execution_count": 36,
   "id": "d2534d1d",
   "metadata": {},
   "outputs": [],
   "source": [
    "t = (1,2,3)"
   ]
  },
  {
   "cell_type": "code",
   "execution_count": 37,
   "id": "9fc1a857",
   "metadata": {},
   "outputs": [
    {
     "data": {
      "text/plain": [
       "tuple"
      ]
     },
     "execution_count": 37,
     "metadata": {},
     "output_type": "execute_result"
    }
   ],
   "source": [
    "type(t)"
   ]
  },
  {
   "cell_type": "code",
   "execution_count": 41,
   "id": "78ac542f",
   "metadata": {},
   "outputs": [
    {
     "data": {
      "text/plain": [
       "1"
      ]
     },
     "execution_count": 41,
     "metadata": {},
     "output_type": "execute_result"
    }
   ],
   "source": [
    "t.count(1)"
   ]
  },
  {
   "cell_type": "code",
   "execution_count": 42,
   "id": "d9c36253",
   "metadata": {},
   "outputs": [
    {
     "data": {
      "text/plain": [
       "0"
      ]
     },
     "execution_count": 42,
     "metadata": {},
     "output_type": "execute_result"
    }
   ],
   "source": [
    "t.index(1)"
   ]
  },
  {
   "cell_type": "code",
   "execution_count": null,
   "id": "0653694a",
   "metadata": {},
   "outputs": [],
   "source": []
  }
 ],
 "metadata": {
  "kernelspec": {
   "display_name": "Python 3 (ipykernel)",
   "language": "python",
   "name": "python3"
  },
  "language_info": {
   "codemirror_mode": {
    "name": "ipython",
    "version": 3
   },
   "file_extension": ".py",
   "mimetype": "text/x-python",
   "name": "python",
   "nbconvert_exporter": "python",
   "pygments_lexer": "ipython3",
   "version": "3.9.13"
  }
 },
 "nbformat": 4,
 "nbformat_minor": 5
}
