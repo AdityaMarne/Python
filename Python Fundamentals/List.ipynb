{
 "cells": [
  {
   "cell_type": "markdown",
   "id": "4d435175",
   "metadata": {},
   "source": [
    "# LIST"
   ]
  },
  {
   "cell_type": "markdown",
   "id": "d3a9aadf",
   "metadata": {},
   "source": [
    "List is a collection of multiple heterogeneous or homogeneous data set."
   ]
  },
  {
   "cell_type": "code",
   "execution_count": 1,
   "id": "a036c494",
   "metadata": {},
   "outputs": [],
   "source": [
    "l = [\"Aditya\", \"Marne\", 3545, 4+6j, True, False, 345.56]"
   ]
  },
  {
   "cell_type": "code",
   "execution_count": 2,
   "id": "de0fbf32",
   "metadata": {},
   "outputs": [
    {
     "data": {
      "text/plain": [
       "list"
      ]
     },
     "execution_count": 2,
     "metadata": {},
     "output_type": "execute_result"
    }
   ],
   "source": [
    "type(l)"
   ]
  },
  {
   "cell_type": "markdown",
   "id": "361b0ca4",
   "metadata": {},
   "source": [
    "# Accessing Data from List"
   ]
  },
  {
   "cell_type": "markdown",
   "id": "bded818a",
   "metadata": {},
   "source": [
    "Index starts from 0 for forward direction accesing elements.\n",
    "Index starts from -1 for backward direction accessing elements."
   ]
  },
  {
   "cell_type": "code",
   "execution_count": 3,
   "id": "ab134748",
   "metadata": {},
   "outputs": [
    {
     "data": {
      "text/plain": [
       "'Aditya'"
      ]
     },
     "execution_count": 3,
     "metadata": {},
     "output_type": "execute_result"
    }
   ],
   "source": [
    "l[0]  #Forward accessing"
   ]
  },
  {
   "cell_type": "code",
   "execution_count": 4,
   "id": "8255d54f",
   "metadata": {},
   "outputs": [
    {
     "data": {
      "text/plain": [
       "'Marne'"
      ]
     },
     "execution_count": 4,
     "metadata": {},
     "output_type": "execute_result"
    }
   ],
   "source": [
    "l[1]"
   ]
  },
  {
   "cell_type": "code",
   "execution_count": 5,
   "id": "efd7aea3",
   "metadata": {},
   "outputs": [
    {
     "data": {
      "text/plain": [
       "3545"
      ]
     },
     "execution_count": 5,
     "metadata": {},
     "output_type": "execute_result"
    }
   ],
   "source": [
    "l[2]"
   ]
  },
  {
   "cell_type": "code",
   "execution_count": 6,
   "id": "a81343f2",
   "metadata": {},
   "outputs": [
    {
     "data": {
      "text/plain": [
       "(4+6j)"
      ]
     },
     "execution_count": 6,
     "metadata": {},
     "output_type": "execute_result"
    }
   ],
   "source": [
    "l[3]"
   ]
  },
  {
   "cell_type": "code",
   "execution_count": 7,
   "id": "75fd3765",
   "metadata": {},
   "outputs": [
    {
     "data": {
      "text/plain": [
       "True"
      ]
     },
     "execution_count": 7,
     "metadata": {},
     "output_type": "execute_result"
    }
   ],
   "source": [
    "l[4]"
   ]
  },
  {
   "cell_type": "code",
   "execution_count": 8,
   "id": "b16b0310",
   "metadata": {},
   "outputs": [
    {
     "data": {
      "text/plain": [
       "False"
      ]
     },
     "execution_count": 8,
     "metadata": {},
     "output_type": "execute_result"
    }
   ],
   "source": [
    "l[5]"
   ]
  },
  {
   "cell_type": "code",
   "execution_count": 9,
   "id": "d5c0b973",
   "metadata": {},
   "outputs": [
    {
     "data": {
      "text/plain": [
       "345.56"
      ]
     },
     "execution_count": 9,
     "metadata": {},
     "output_type": "execute_result"
    }
   ],
   "source": [
    "l[6]"
   ]
  },
  {
   "cell_type": "code",
   "execution_count": 10,
   "id": "dc982528",
   "metadata": {},
   "outputs": [
    {
     "ename": "IndexError",
     "evalue": "list index out of range",
     "output_type": "error",
     "traceback": [
      "\u001b[1;31m---------------------------------------------------------------------------\u001b[0m",
      "\u001b[1;31mIndexError\u001b[0m                                Traceback (most recent call last)",
      "\u001b[1;32m~\\AppData\\Local\\Temp\\ipykernel_2896\\482703711.py\u001b[0m in \u001b[0;36m<module>\u001b[1;34m\u001b[0m\n\u001b[1;32m----> 1\u001b[1;33m \u001b[0ml\u001b[0m\u001b[1;33m[\u001b[0m\u001b[1;36m7\u001b[0m\u001b[1;33m]\u001b[0m \u001b[1;31m#IndexError occurs when an attempt to access item in a list at an index which is out of bounds.\u001b[0m\u001b[1;33m\u001b[0m\u001b[1;33m\u001b[0m\u001b[0m\n\u001b[0m",
      "\u001b[1;31mIndexError\u001b[0m: list index out of range"
     ]
    }
   ],
   "source": [
    "l[7] #IndexError occurs when an attempt to access item in a list at an index which is out of bounds."
   ]
  },
  {
   "cell_type": "code",
   "execution_count": 11,
   "id": "a1be97a8",
   "metadata": {},
   "outputs": [
    {
     "data": {
      "text/plain": [
       "345.56"
      ]
     },
     "execution_count": 11,
     "metadata": {},
     "output_type": "execute_result"
    }
   ],
   "source": [
    "l[-1] #Backward Indexing"
   ]
  },
  {
   "cell_type": "code",
   "execution_count": 12,
   "id": "4e0a707d",
   "metadata": {},
   "outputs": [
    {
     "data": {
      "text/plain": [
       "False"
      ]
     },
     "execution_count": 12,
     "metadata": {},
     "output_type": "execute_result"
    }
   ],
   "source": [
    "l[-2]"
   ]
  },
  {
   "cell_type": "code",
   "execution_count": 13,
   "id": "b5a7339f",
   "metadata": {},
   "outputs": [
    {
     "data": {
      "text/plain": [
       "True"
      ]
     },
     "execution_count": 13,
     "metadata": {},
     "output_type": "execute_result"
    }
   ],
   "source": [
    "l[-3]"
   ]
  },
  {
   "cell_type": "code",
   "execution_count": 14,
   "id": "cf125179",
   "metadata": {},
   "outputs": [
    {
     "data": {
      "text/plain": [
       "(4+6j)"
      ]
     },
     "execution_count": 14,
     "metadata": {},
     "output_type": "execute_result"
    }
   ],
   "source": [
    "l[-4]"
   ]
  },
  {
   "cell_type": "code",
   "execution_count": 15,
   "id": "4fd87f14",
   "metadata": {},
   "outputs": [
    {
     "data": {
      "text/plain": [
       "3545"
      ]
     },
     "execution_count": 15,
     "metadata": {},
     "output_type": "execute_result"
    }
   ],
   "source": [
    "l[-5]"
   ]
  },
  {
   "cell_type": "code",
   "execution_count": 16,
   "id": "57ba1b7d",
   "metadata": {},
   "outputs": [
    {
     "data": {
      "text/plain": [
       "'Marne'"
      ]
     },
     "execution_count": 16,
     "metadata": {},
     "output_type": "execute_result"
    }
   ],
   "source": [
    "l[-6]"
   ]
  },
  {
   "cell_type": "code",
   "execution_count": 17,
   "id": "31a47f4c",
   "metadata": {},
   "outputs": [
    {
     "data": {
      "text/plain": [
       "'Aditya'"
      ]
     },
     "execution_count": 17,
     "metadata": {},
     "output_type": "execute_result"
    }
   ],
   "source": [
    "l[-7]"
   ]
  },
  {
   "cell_type": "code",
   "execution_count": 18,
   "id": "eb3b9745",
   "metadata": {},
   "outputs": [
    {
     "ename": "IndexError",
     "evalue": "list index out of range",
     "output_type": "error",
     "traceback": [
      "\u001b[1;31m---------------------------------------------------------------------------\u001b[0m",
      "\u001b[1;31mIndexError\u001b[0m                                Traceback (most recent call last)",
      "\u001b[1;32m~\\AppData\\Local\\Temp\\ipykernel_2896\\2836861567.py\u001b[0m in \u001b[0;36m<module>\u001b[1;34m\u001b[0m\n\u001b[1;32m----> 1\u001b[1;33m \u001b[0ml\u001b[0m\u001b[1;33m[\u001b[0m\u001b[1;33m-\u001b[0m\u001b[1;36m8\u001b[0m\u001b[1;33m]\u001b[0m  \u001b[1;31m#IndexError occurs when an attempt to access item in a list at an index which is out of bounds.\u001b[0m\u001b[1;33m\u001b[0m\u001b[1;33m\u001b[0m\u001b[0m\n\u001b[0m",
      "\u001b[1;31mIndexError\u001b[0m: list index out of range"
     ]
    }
   ],
   "source": [
    "l[-8]  #IndexError occurs when an attempt to access item in a list at an index which is out of bounds."
   ]
  },
  {
   "cell_type": "code",
   "execution_count": 19,
   "id": "1d349436",
   "metadata": {},
   "outputs": [
    {
     "data": {
      "text/plain": [
       "4.0"
      ]
     },
     "execution_count": 19,
     "metadata": {},
     "output_type": "execute_result"
    }
   ],
   "source": [
    "l[3].real  #TO get real part of complex number"
   ]
  },
  {
   "cell_type": "code",
   "execution_count": 20,
   "id": "04177a70",
   "metadata": {},
   "outputs": [
    {
     "data": {
      "text/plain": [
       "6.0"
      ]
     },
     "execution_count": 20,
     "metadata": {},
     "output_type": "execute_result"
    }
   ],
   "source": [
    "l[3].imag  #To get a imaginary part of complex number"
   ]
  },
  {
   "cell_type": "markdown",
   "id": "76c3319f",
   "metadata": {},
   "source": [
    "# List Slicing"
   ]
  },
  {
   "cell_type": "code",
   "execution_count": 21,
   "id": "cb449c9e",
   "metadata": {},
   "outputs": [
    {
     "data": {
      "text/plain": [
       "['Aditya', 'Marne', 3545, (4+6j), True, False, 345.56]"
      ]
     },
     "execution_count": 21,
     "metadata": {},
     "output_type": "execute_result"
    }
   ],
   "source": [
    "l[0:]  #0 is staring point"
   ]
  },
  {
   "cell_type": "code",
   "execution_count": 22,
   "id": "c19e1496",
   "metadata": {},
   "outputs": [
    {
     "data": {
      "text/plain": [
       "['Aditya', 'Marne', 3545, (4+6j), True]"
      ]
     },
     "execution_count": 22,
     "metadata": {},
     "output_type": "execute_result"
    }
   ],
   "source": [
    "l[:5]  #5 in last index position"
   ]
  },
  {
   "cell_type": "code",
   "execution_count": 23,
   "id": "97cf0bf6",
   "metadata": {},
   "outputs": [
    {
     "data": {
      "text/plain": [
       "['Aditya', 'Marne', 3545, (4+6j), True, False, 345.56]"
      ]
     },
     "execution_count": 23,
     "metadata": {},
     "output_type": "execute_result"
    }
   ],
   "source": [
    "l[::1]  #1 is jump size"
   ]
  },
  {
   "cell_type": "code",
   "execution_count": 24,
   "id": "3be8a5bf",
   "metadata": {},
   "outputs": [
    {
     "data": {
      "text/plain": [
       "['Aditya', 'Marne', 3545, (4+6j), True]"
      ]
     },
     "execution_count": 24,
     "metadata": {},
     "output_type": "execute_result"
    }
   ],
   "source": [
    "l[0:5:1]"
   ]
  },
  {
   "cell_type": "code",
   "execution_count": 25,
   "id": "5fdd9b98",
   "metadata": {},
   "outputs": [
    {
     "data": {
      "text/plain": [
       "['Aditya', 3545, True, 345.56]"
      ]
     },
     "execution_count": 25,
     "metadata": {},
     "output_type": "execute_result"
    }
   ],
   "source": [
    "l[0:7:2]"
   ]
  },
  {
   "cell_type": "markdown",
   "id": "dc439013",
   "metadata": {},
   "source": [
    "# List is Mutable"
   ]
  },
  {
   "cell_type": "markdown",
   "id": "24331354",
   "metadata": {},
   "source": [
    "Mutable is the ability of object to change their value"
   ]
  },
  {
   "cell_type": "code",
   "execution_count": 26,
   "id": "a67f02c7",
   "metadata": {},
   "outputs": [
    {
     "data": {
      "text/plain": [
       "['Aditya', 'Marne', 3545, (4+6j), True, False, 345.56]"
      ]
     },
     "execution_count": 26,
     "metadata": {},
     "output_type": "execute_result"
    }
   ],
   "source": [
    "l"
   ]
  },
  {
   "cell_type": "code",
   "execution_count": 27,
   "id": "2980d26d",
   "metadata": {},
   "outputs": [],
   "source": [
    "l[0] = \"Xyz\" #Values of index 0 is change is called mutable"
   ]
  },
  {
   "cell_type": "code",
   "execution_count": 28,
   "id": "d1fadee3",
   "metadata": {},
   "outputs": [
    {
     "data": {
      "text/plain": [
       "['Xyz', 'Marne', 3545, (4+6j), True, False, 345.56]"
      ]
     },
     "execution_count": 28,
     "metadata": {},
     "output_type": "execute_result"
    }
   ],
   "source": [
    "l"
   ]
  },
  {
   "cell_type": "code",
   "execution_count": 29,
   "id": "962ebdad",
   "metadata": {},
   "outputs": [],
   "source": [
    "l[1] = 1524"
   ]
  },
  {
   "cell_type": "code",
   "execution_count": 30,
   "id": "7ab595af",
   "metadata": {},
   "outputs": [
    {
     "data": {
      "text/plain": [
       "['Xyz', 1524, 3545, (4+6j), True, False, 345.56]"
      ]
     },
     "execution_count": 30,
     "metadata": {},
     "output_type": "execute_result"
    }
   ],
   "source": [
    "l"
   ]
  },
  {
   "cell_type": "code",
   "execution_count": 31,
   "id": "c0b2e9dd",
   "metadata": {},
   "outputs": [],
   "source": [
    "l[6] = 4+7j"
   ]
  },
  {
   "cell_type": "code",
   "execution_count": 32,
   "id": "3d34f2e0",
   "metadata": {},
   "outputs": [
    {
     "data": {
      "text/plain": [
       "['Xyz', 1524, 3545, (4+6j), True, False, (4+7j)]"
      ]
     },
     "execution_count": 32,
     "metadata": {},
     "output_type": "execute_result"
    }
   ],
   "source": [
    "l"
   ]
  },
  {
   "cell_type": "markdown",
   "id": "9ca730f3",
   "metadata": {},
   "source": [
    "# List Concatinaton"
   ]
  },
  {
   "cell_type": "markdown",
   "id": "1291c788",
   "metadata": {},
   "source": [
    "To list can be concatinated"
   ]
  },
  {
   "cell_type": "code",
   "execution_count": 33,
   "id": "9f784546",
   "metadata": {},
   "outputs": [],
   "source": [
    "l1 = [1,2,3]"
   ]
  },
  {
   "cell_type": "code",
   "execution_count": 34,
   "id": "bdc32945",
   "metadata": {},
   "outputs": [],
   "source": [
    "l2 = [4,5,6]"
   ]
  },
  {
   "cell_type": "code",
   "execution_count": 35,
   "id": "76c6d9c8",
   "metadata": {},
   "outputs": [
    {
     "data": {
      "text/plain": [
       "[1, 2, 3, 4, 5, 6]"
      ]
     },
     "execution_count": 35,
     "metadata": {},
     "output_type": "execute_result"
    }
   ],
   "source": [
    "l1+l2"
   ]
  },
  {
   "cell_type": "code",
   "execution_count": 36,
   "id": "39eb3349",
   "metadata": {},
   "outputs": [],
   "source": [
    "l3 = l1 + l2 #You can hold concatination in another variable"
   ]
  },
  {
   "cell_type": "code",
   "execution_count": 37,
   "id": "f5cfcba2",
   "metadata": {},
   "outputs": [
    {
     "data": {
      "text/plain": [
       "[1, 2, 3, 4, 5, 6]"
      ]
     },
     "execution_count": 37,
     "metadata": {},
     "output_type": "execute_result"
    }
   ],
   "source": [
    "l3"
   ]
  },
  {
   "cell_type": "markdown",
   "id": "47b755ed",
   "metadata": {},
   "source": [
    "# List Repetation"
   ]
  },
  {
   "cell_type": "markdown",
   "id": "b46bb1aa",
   "metadata": {},
   "source": [
    "List can be repeted given number of times"
   ]
  },
  {
   "cell_type": "code",
   "execution_count": 38,
   "id": "936171c7",
   "metadata": {},
   "outputs": [
    {
     "data": {
      "text/plain": [
       "[1, 2, 3]"
      ]
     },
     "execution_count": 38,
     "metadata": {},
     "output_type": "execute_result"
    }
   ],
   "source": [
    "l1"
   ]
  },
  {
   "cell_type": "code",
   "execution_count": 39,
   "id": "6de56a20",
   "metadata": {},
   "outputs": [
    {
     "data": {
      "text/plain": [
       "[1, 2, 3, 1, 2, 3, 1, 2, 3]"
      ]
     },
     "execution_count": 39,
     "metadata": {},
     "output_type": "execute_result"
    }
   ],
   "source": [
    "l1*3"
   ]
  },
  {
   "cell_type": "code",
   "execution_count": 40,
   "id": "ca8e9872",
   "metadata": {},
   "outputs": [
    {
     "data": {
      "text/plain": [
       "[1, 2, 3, 1, 2, 3, 1, 2, 3, 1, 2, 3]"
      ]
     },
     "execution_count": 40,
     "metadata": {},
     "output_type": "execute_result"
    }
   ],
   "source": [
    "l1*4"
   ]
  },
  {
   "cell_type": "markdown",
   "id": "8429a2c1",
   "metadata": {},
   "source": [
    "# List In-Built Functions"
   ]
  },
  {
   "cell_type": "code",
   "execution_count": 41,
   "id": "d865e398",
   "metadata": {},
   "outputs": [
    {
     "data": {
      "text/plain": [
       "[1, 2, 3]"
      ]
     },
     "execution_count": 41,
     "metadata": {},
     "output_type": "execute_result"
    }
   ],
   "source": [
    "l1"
   ]
  },
  {
   "cell_type": "code",
   "execution_count": 42,
   "id": "04e390bc",
   "metadata": {},
   "outputs": [
    {
     "data": {
      "text/plain": [
       "[4, 5, 6]"
      ]
     },
     "execution_count": 42,
     "metadata": {},
     "output_type": "execute_result"
    }
   ],
   "source": [
    "l2"
   ]
  },
  {
   "cell_type": "code",
   "execution_count": 43,
   "id": "68a8361d",
   "metadata": {},
   "outputs": [],
   "source": [
    "l1.append(\"Aditya\")  #As per defination of append we will pass data as a parameter and this data is appended at last position"
   ]
  },
  {
   "cell_type": "code",
   "execution_count": 44,
   "id": "0b1e356e",
   "metadata": {},
   "outputs": [
    {
     "data": {
      "text/plain": [
       "[1, 2, 3, 'Aditya']"
      ]
     },
     "execution_count": 44,
     "metadata": {},
     "output_type": "execute_result"
    }
   ],
   "source": [
    "l1"
   ]
  },
  {
   "cell_type": "code",
   "execution_count": 45,
   "id": "65b45c25",
   "metadata": {},
   "outputs": [],
   "source": [
    "l1.append(0)"
   ]
  },
  {
   "cell_type": "code",
   "execution_count": 46,
   "id": "7d572e31",
   "metadata": {},
   "outputs": [
    {
     "data": {
      "text/plain": [
       "[1, 2, 3, 'Aditya', 0]"
      ]
     },
     "execution_count": 46,
     "metadata": {},
     "output_type": "execute_result"
    }
   ],
   "source": [
    "l1"
   ]
  },
  {
   "cell_type": "code",
   "execution_count": 47,
   "id": "cefd254c",
   "metadata": {},
   "outputs": [],
   "source": [
    "l1.append(3+4j)"
   ]
  },
  {
   "cell_type": "code",
   "execution_count": 48,
   "id": "facbbde8",
   "metadata": {},
   "outputs": [
    {
     "data": {
      "text/plain": [
       "[1, 2, 3, 'Aditya', 0, (3+4j)]"
      ]
     },
     "execution_count": 48,
     "metadata": {},
     "output_type": "execute_result"
    }
   ],
   "source": [
    "l1"
   ]
  },
  {
   "cell_type": "code",
   "execution_count": 49,
   "id": "755f08e2",
   "metadata": {},
   "outputs": [
    {
     "data": {
      "text/plain": [
       "(3+4j)"
      ]
     },
     "execution_count": 49,
     "metadata": {},
     "output_type": "execute_result"
    }
   ],
   "source": [
    "l1.pop() #As per defination it will pop last index element"
   ]
  },
  {
   "cell_type": "code",
   "execution_count": 50,
   "id": "908e5e29",
   "metadata": {},
   "outputs": [
    {
     "data": {
      "text/plain": [
       "[1, 2, 3, 'Aditya', 0]"
      ]
     },
     "execution_count": 50,
     "metadata": {},
     "output_type": "execute_result"
    }
   ],
   "source": [
    "l1"
   ]
  },
  {
   "cell_type": "code",
   "execution_count": 51,
   "id": "53a17dd2",
   "metadata": {},
   "outputs": [
    {
     "data": {
      "text/plain": [
       "1"
      ]
     },
     "execution_count": 51,
     "metadata": {},
     "output_type": "execute_result"
    }
   ],
   "source": [
    "l1.pop(0) #We can pass index position as a parameter it will return element at that index"
   ]
  },
  {
   "cell_type": "code",
   "execution_count": 52,
   "id": "d1b71c34",
   "metadata": {},
   "outputs": [
    {
     "data": {
      "text/plain": [
       "[2, 3, 'Aditya', 0]"
      ]
     },
     "execution_count": 52,
     "metadata": {},
     "output_type": "execute_result"
    }
   ],
   "source": [
    "l1"
   ]
  },
  {
   "cell_type": "code",
   "execution_count": 53,
   "id": "7a481291",
   "metadata": {},
   "outputs": [],
   "source": [
    "l1.insert(0,1) #As per defination we will pass index position and element that we want to insert at that index position"
   ]
  },
  {
   "cell_type": "code",
   "execution_count": 54,
   "id": "09040c62",
   "metadata": {},
   "outputs": [
    {
     "data": {
      "text/plain": [
       "[1, 2, 3, 'Aditya', 0]"
      ]
     },
     "execution_count": 54,
     "metadata": {},
     "output_type": "execute_result"
    }
   ],
   "source": [
    "l1"
   ]
  },
  {
   "cell_type": "code",
   "execution_count": 55,
   "id": "ae2caaee",
   "metadata": {},
   "outputs": [],
   "source": [
    "l1.insert(2,\"gjgj\")"
   ]
  },
  {
   "cell_type": "code",
   "execution_count": 56,
   "id": "2882975c",
   "metadata": {},
   "outputs": [
    {
     "data": {
      "text/plain": [
       "[1, 2, 'gjgj', 3, 'Aditya', 0]"
      ]
     },
     "execution_count": 56,
     "metadata": {},
     "output_type": "execute_result"
    }
   ],
   "source": [
    "l1"
   ]
  },
  {
   "cell_type": "code",
   "execution_count": 58,
   "id": "ae4028f5",
   "metadata": {},
   "outputs": [],
   "source": [
    "l1.reverse() #It will reverse the element of list"
   ]
  },
  {
   "cell_type": "code",
   "execution_count": 59,
   "id": "9e45f96c",
   "metadata": {},
   "outputs": [
    {
     "data": {
      "text/plain": [
       "[0, 'Aditya', 3, 'gjgj', 2, 1]"
      ]
     },
     "execution_count": 59,
     "metadata": {},
     "output_type": "execute_result"
    }
   ],
   "source": [
    "l1"
   ]
  },
  {
   "cell_type": "code",
   "execution_count": null,
   "id": "cc57e297",
   "metadata": {},
   "outputs": [],
   "source": []
  }
 ],
 "metadata": {
  "kernelspec": {
   "display_name": "Python 3 (ipykernel)",
   "language": "python",
   "name": "python3"
  },
  "language_info": {
   "codemirror_mode": {
    "name": "ipython",
    "version": 3
   },
   "file_extension": ".py",
   "mimetype": "text/x-python",
   "name": "python",
   "nbconvert_exporter": "python",
   "pygments_lexer": "ipython3",
   "version": "3.9.13"
  }
 },
 "nbformat": 4,
 "nbformat_minor": 5
}
