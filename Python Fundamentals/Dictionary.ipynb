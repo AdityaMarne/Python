{
 "cells": [
  {
   "cell_type": "markdown",
   "id": "ca962776",
   "metadata": {},
   "source": [
    "# Dictionary"
   ]
  },
  {
   "cell_type": "markdown",
   "id": "913b4463",
   "metadata": {},
   "source": [
    "Data is stored as key-value pair using a python dictionary.\n",
    "This data structure is mutable.\n",
    "The components of dictionary made using keys and values.\n",
    "Keys must only have one component.\n",
    "Values can be of any type, including integer, list and tuples.\n",
    "Curly brackets used for python dictionary.\n",
    "colon(:) separating each key from its value"
   ]
  },
  {
   "cell_type": "code",
   "execution_count": 1,
   "id": "ca103ff2",
   "metadata": {},
   "outputs": [],
   "source": [
    "d = {}"
   ]
  },
  {
   "cell_type": "code",
   "execution_count": 2,
   "id": "fd109730",
   "metadata": {},
   "outputs": [
    {
     "data": {
      "text/plain": [
       "dict"
      ]
     },
     "execution_count": 2,
     "metadata": {},
     "output_type": "execute_result"
    }
   ],
   "source": [
    "type(d)"
   ]
  },
  {
   "cell_type": "code",
   "execution_count": 3,
   "id": "8ae9763f",
   "metadata": {},
   "outputs": [],
   "source": [
    "d = {4 : 'Aditya'}  #4 is Key and Aditya is value"
   ]
  },
  {
   "cell_type": "markdown",
   "id": "9804cfea",
   "metadata": {},
   "source": [
    "# Element accesing in Dictionary"
   ]
  },
  {
   "cell_type": "code",
   "execution_count": 4,
   "id": "162633b3",
   "metadata": {},
   "outputs": [],
   "source": [
    "d1 = {\"key1\" : 45512, \"key2\" : \"sudh\", 45 : [4,4,5,]}"
   ]
  },
  {
   "cell_type": "code",
   "execution_count": 5,
   "id": "dff3e7b5",
   "metadata": {},
   "outputs": [
    {
     "data": {
      "text/plain": [
       "45512"
      ]
     },
     "execution_count": 5,
     "metadata": {},
     "output_type": "execute_result"
    }
   ],
   "source": [
    "d1['key1'] #Value is access using key "
   ]
  },
  {
   "cell_type": "code",
   "execution_count": 6,
   "id": "0d9ac8b9",
   "metadata": {},
   "outputs": [
    {
     "data": {
      "text/plain": [
       "[4, 4, 5]"
      ]
     },
     "execution_count": 6,
     "metadata": {},
     "output_type": "execute_result"
    }
   ],
   "source": [
    "d1[45]"
   ]
  },
  {
   "cell_type": "code",
   "execution_count": 7,
   "id": "430e1f52",
   "metadata": {},
   "outputs": [],
   "source": [
    "d2 = {\"key1\" : [1,2,45], \"key2\" : \"Aditya\", \"key1\": 45}"
   ]
  },
  {
   "cell_type": "code",
   "execution_count": 8,
   "id": "fa71fe8d",
   "metadata": {},
   "outputs": [
    {
     "data": {
      "text/plain": [
       "45"
      ]
     },
     "execution_count": 8,
     "metadata": {},
     "output_type": "execute_result"
    }
   ],
   "source": [
    "d2['key1']  #system automaticaly update key value if new value come"
   ]
  },
  {
   "cell_type": "code",
   "execution_count": null,
   "id": "64a9dad9",
   "metadata": {},
   "outputs": [],
   "source": []
  },
  {
   "cell_type": "code",
   "execution_count": 9,
   "id": "a2d75178",
   "metadata": {},
   "outputs": [],
   "source": [
    "d3 = {\"name\" : \"Aditya\", \"mod_no\" : 122356789, \"mail_id\" : 'xys@gmail.com',\n",
    "     \"key1\" : [4,5,6,7], \"key2\" : (3,4,5,6), \"key3\" : {3,4,5}, \"key4\" : {1 : 5, 4 : 6}}"
   ]
  },
  {
   "cell_type": "code",
   "execution_count": 10,
   "id": "410714ec",
   "metadata": {},
   "outputs": [
    {
     "data": {
      "text/plain": [
       "6"
      ]
     },
     "execution_count": 10,
     "metadata": {},
     "output_type": "execute_result"
    }
   ],
   "source": [
    "d3['key4'][4]"
   ]
  },
  {
   "cell_type": "code",
   "execution_count": 11,
   "id": "d3b48bf0",
   "metadata": {},
   "outputs": [
    {
     "data": {
      "text/plain": [
       "dict_keys(['name', 'mod_no', 'mail_id', 'key1', 'key2', 'key3', 'key4'])"
      ]
     },
     "execution_count": 11,
     "metadata": {},
     "output_type": "execute_result"
    }
   ],
   "source": [
    "d3.keys()  #It gives all keys in dictionary"
   ]
  },
  {
   "cell_type": "code",
   "execution_count": 12,
   "id": "c931a39e",
   "metadata": {},
   "outputs": [
    {
     "data": {
      "text/plain": [
       "dict_keys"
      ]
     },
     "execution_count": 12,
     "metadata": {},
     "output_type": "execute_result"
    }
   ],
   "source": [
    "type(d3.keys())"
   ]
  },
  {
   "cell_type": "code",
   "execution_count": 13,
   "id": "f743c294",
   "metadata": {},
   "outputs": [
    {
     "data": {
      "text/plain": [
       "dict_values(['Aditya', 122356789, 'xys@gmail.com', [4, 5, 6, 7], (3, 4, 5, 6), {3, 4, 5}, {1: 5, 4: 6}])"
      ]
     },
     "execution_count": 13,
     "metadata": {},
     "output_type": "execute_result"
    }
   ],
   "source": [
    "d3.values() #It gives all values in dictionary"
   ]
  },
  {
   "cell_type": "code",
   "execution_count": 14,
   "id": "19ac4325",
   "metadata": {},
   "outputs": [
    {
     "data": {
      "text/plain": [
       "dict_values"
      ]
     },
     "execution_count": 14,
     "metadata": {},
     "output_type": "execute_result"
    }
   ],
   "source": [
    "type(d3.values())"
   ]
  },
  {
   "cell_type": "code",
   "execution_count": 15,
   "id": "b4bb2c1a",
   "metadata": {},
   "outputs": [
    {
     "data": {
      "text/plain": [
       "dict_items([('name', 'Aditya'), ('mod_no', 122356789), ('mail_id', 'xys@gmail.com'), ('key1', [4, 5, 6, 7]), ('key2', (3, 4, 5, 6)), ('key3', {3, 4, 5}), ('key4', {1: 5, 4: 6})])"
      ]
     },
     "execution_count": 15,
     "metadata": {},
     "output_type": "execute_result"
    }
   ],
   "source": [
    "d3.items()  #It gives pair of keys and values in dictionary"
   ]
  },
  {
   "cell_type": "code",
   "execution_count": 16,
   "id": "8ef84359",
   "metadata": {},
   "outputs": [
    {
     "data": {
      "text/plain": [
       "dict_items"
      ]
     },
     "execution_count": 16,
     "metadata": {},
     "output_type": "execute_result"
    }
   ],
   "source": [
    "type(d3.items())"
   ]
  },
  {
   "cell_type": "code",
   "execution_count": null,
   "id": "b96eed78",
   "metadata": {},
   "outputs": [],
   "source": []
  },
  {
   "cell_type": "code",
   "execution_count": 17,
   "id": "f7170af2",
   "metadata": {},
   "outputs": [],
   "source": [
    "d4 = {\"key1\" : \"Aditya\", \"key2\" : [1,2,3,4]}"
   ]
  },
  {
   "cell_type": "code",
   "execution_count": 18,
   "id": "835cb279",
   "metadata": {},
   "outputs": [],
   "source": [
    "#If key is not available in dictionay and you try to item reassignmnet operation then it will add into dictionary\n",
    "d4[\"key3\"] = \"Marne\" "
   ]
  },
  {
   "cell_type": "code",
   "execution_count": 19,
   "id": "b51692f0",
   "metadata": {},
   "outputs": [
    {
     "data": {
      "text/plain": [
       "{'key1': 'Aditya', 'key2': [1, 2, 3, 4], 'key3': 'Marne'}"
      ]
     },
     "execution_count": 19,
     "metadata": {},
     "output_type": "execute_result"
    }
   ],
   "source": [
    "d4"
   ]
  },
  {
   "cell_type": "code",
   "execution_count": null,
   "id": "b2c00432",
   "metadata": {},
   "outputs": [],
   "source": []
  },
  {
   "cell_type": "code",
   "execution_count": 20,
   "id": "7d0de89d",
   "metadata": {},
   "outputs": [],
   "source": [
    "#deleting key and value\n",
    "del d4[\"key1\"]"
   ]
  },
  {
   "cell_type": "code",
   "execution_count": 21,
   "id": "eee7e5d3",
   "metadata": {},
   "outputs": [
    {
     "data": {
      "text/plain": [
       "{'key2': [1, 2, 3, 4], 'key3': 'Marne'}"
      ]
     },
     "execution_count": 21,
     "metadata": {},
     "output_type": "execute_result"
    }
   ],
   "source": [
    "d4"
   ]
  },
  {
   "cell_type": "code",
   "execution_count": null,
   "id": "7eb68c04",
   "metadata": {},
   "outputs": [],
   "source": []
  },
  {
   "cell_type": "code",
   "execution_count": 22,
   "id": "8e2e6a18",
   "metadata": {},
   "outputs": [
    {
     "ename": "TypeError",
     "evalue": "unhashable type: 'list'",
     "output_type": "error",
     "traceback": [
      "\u001b[1;31m---------------------------------------------------------------------------\u001b[0m",
      "\u001b[1;31mTypeError\u001b[0m                                 Traceback (most recent call last)",
      "\u001b[1;32m~\\AppData\\Local\\Temp\\ipykernel_2100\\505704244.py\u001b[0m in \u001b[0;36m<module>\u001b[1;34m\u001b[0m\n\u001b[0;32m      1\u001b[0m \u001b[1;31m#This is not supported because list is mutable\u001b[0m\u001b[1;33m\u001b[0m\u001b[1;33m\u001b[0m\u001b[0m\n\u001b[1;32m----> 2\u001b[1;33m \u001b[0md4\u001b[0m\u001b[1;33m[\u001b[0m\u001b[1;33m[\u001b[0m\u001b[1;36m1\u001b[0m\u001b[1;33m,\u001b[0m\u001b[1;36m2\u001b[0m\u001b[1;33m,\u001b[0m\u001b[1;36m3\u001b[0m\u001b[1;33m]\u001b[0m\u001b[1;33m]\u001b[0m \u001b[1;33m=\u001b[0m \u001b[1;34m\"FSDS\"\u001b[0m\u001b[1;33m\u001b[0m\u001b[1;33m\u001b[0m\u001b[0m\n\u001b[0m",
      "\u001b[1;31mTypeError\u001b[0m: unhashable type: 'list'"
     ]
    }
   ],
   "source": [
    "#This is not supported because list is mutable\n",
    "d4[[1,2,3]] = \"FSDS\""
   ]
  },
  {
   "cell_type": "code",
   "execution_count": 23,
   "id": "a3a48305",
   "metadata": {},
   "outputs": [],
   "source": [
    "#This operation is supported because tuple is immutable\n",
    "d4[(1,2,3)] = \"FSDS\""
   ]
  },
  {
   "cell_type": "code",
   "execution_count": 24,
   "id": "9aa99082",
   "metadata": {},
   "outputs": [
    {
     "data": {
      "text/plain": [
       "{'key2': [1, 2, 3, 4], 'key3': 'Marne', (1, 2, 3): 'FSDS'}"
      ]
     },
     "execution_count": 24,
     "metadata": {},
     "output_type": "execute_result"
    }
   ],
   "source": [
    "d4"
   ]
  },
  {
   "cell_type": "markdown",
   "id": "a6fcb5af",
   "metadata": {},
   "source": [
    "# In-Built Functions"
   ]
  },
  {
   "cell_type": "code",
   "execution_count": 25,
   "id": "c23baedf",
   "metadata": {},
   "outputs": [
    {
     "data": {
      "text/plain": [
       "{'key2': [1, 2, 3, 4], 'key3': 'Marne', (1, 2, 3): 'FSDS'}"
      ]
     },
     "execution_count": 25,
     "metadata": {},
     "output_type": "execute_result"
    }
   ],
   "source": [
    "d4"
   ]
  },
  {
   "cell_type": "code",
   "execution_count": 26,
   "id": "9129dc7b",
   "metadata": {},
   "outputs": [
    {
     "data": {
      "text/plain": [
       "[1, 2, 3, 4]"
      ]
     },
     "execution_count": 26,
     "metadata": {},
     "output_type": "execute_result"
    }
   ],
   "source": [
    "#It gives value of given key\n",
    "d4.get('key2')"
   ]
  },
  {
   "cell_type": "code",
   "execution_count": 27,
   "id": "158ef4ba",
   "metadata": {},
   "outputs": [],
   "source": [
    "d4.get('key5') #If key is not present it does nothing"
   ]
  },
  {
   "cell_type": "code",
   "execution_count": null,
   "id": "77d12732",
   "metadata": {},
   "outputs": [],
   "source": []
  },
  {
   "cell_type": "code",
   "execution_count": 28,
   "id": "e40447f6",
   "metadata": {},
   "outputs": [],
   "source": [
    "d1 = {\"key1\" : \"vshd\", \"key2\" : \"FSDS\"}"
   ]
  },
  {
   "cell_type": "code",
   "execution_count": 29,
   "id": "d583991b",
   "metadata": {},
   "outputs": [],
   "source": [
    "d2 = {\"key3\" : 124, \"key4\" : [1,4,5]}"
   ]
  },
  {
   "cell_type": "code",
   "execution_count": 30,
   "id": "cf1cfdb8",
   "metadata": {},
   "outputs": [],
   "source": [
    "#It return merge of two dictionary in d1\n",
    "d1.update(d2)"
   ]
  },
  {
   "cell_type": "code",
   "execution_count": 31,
   "id": "4bbe7f1e",
   "metadata": {},
   "outputs": [
    {
     "data": {
      "text/plain": [
       "{'key1': 'vshd', 'key2': 'FSDS', 'key3': 124, 'key4': [1, 4, 5]}"
      ]
     },
     "execution_count": 31,
     "metadata": {},
     "output_type": "execute_result"
    }
   ],
   "source": [
    "d1"
   ]
  },
  {
   "cell_type": "code",
   "execution_count": null,
   "id": "85ac59ee",
   "metadata": {},
   "outputs": [],
   "source": []
  },
  {
   "cell_type": "code",
   "execution_count": 32,
   "id": "8f6e058a",
   "metadata": {},
   "outputs": [
    {
     "ename": "TypeError",
     "evalue": "unsupported operand type(s) for +: 'dict' and 'dict'",
     "output_type": "error",
     "traceback": [
      "\u001b[1;31m---------------------------------------------------------------------------\u001b[0m",
      "\u001b[1;31mTypeError\u001b[0m                                 Traceback (most recent call last)",
      "\u001b[1;32m~\\AppData\\Local\\Temp\\ipykernel_2100\\941737705.py\u001b[0m in \u001b[0;36m<module>\u001b[1;34m\u001b[0m\n\u001b[0;32m      1\u001b[0m \u001b[1;31m# dictionary concatination is not supported by dictionary\u001b[0m\u001b[1;33m\u001b[0m\u001b[1;33m\u001b[0m\u001b[0m\n\u001b[1;32m----> 2\u001b[1;33m \u001b[0md1\u001b[0m \u001b[1;33m+\u001b[0m \u001b[0md2\u001b[0m\u001b[1;33m\u001b[0m\u001b[1;33m\u001b[0m\u001b[0m\n\u001b[0m",
      "\u001b[1;31mTypeError\u001b[0m: unsupported operand type(s) for +: 'dict' and 'dict'"
     ]
    }
   ],
   "source": [
    "# dictionary concatination is not supported by dictionary\n",
    "d1 + d2"
   ]
  },
  {
   "cell_type": "code",
   "execution_count": 33,
   "id": "b03080a7",
   "metadata": {},
   "outputs": [
    {
     "data": {
      "text/plain": [
       "{'key1': 'vshd', 'key2': 'FSDS', 'key3': 124, 'key4': [1, 4, 5]}"
      ]
     },
     "execution_count": 33,
     "metadata": {},
     "output_type": "execute_result"
    }
   ],
   "source": [
    "d1"
   ]
  },
  {
   "cell_type": "code",
   "execution_count": 34,
   "id": "d6aae8af",
   "metadata": {},
   "outputs": [
    {
     "data": {
      "text/plain": [
       "[1, 4, 5]"
      ]
     },
     "execution_count": 34,
     "metadata": {},
     "output_type": "execute_result"
    }
   ],
   "source": [
    "#If return the value of passed key and delete key and value from dictionary\n",
    "d1.pop('key4')"
   ]
  },
  {
   "cell_type": "code",
   "execution_count": 35,
   "id": "a5b28ca3",
   "metadata": {},
   "outputs": [
    {
     "data": {
      "text/plain": [
       "{'key1': 'vshd', 'key2': 'FSDS', 'key3': 124}"
      ]
     },
     "execution_count": 35,
     "metadata": {},
     "output_type": "execute_result"
    }
   ],
   "source": [
    "d1"
   ]
  },
  {
   "cell_type": "code",
   "execution_count": null,
   "id": "4a4dc212",
   "metadata": {},
   "outputs": [],
   "source": [
    "\n"
   ]
  },
  {
   "cell_type": "code",
   "execution_count": 36,
   "id": "60982bbb",
   "metadata": {},
   "outputs": [
    {
     "ename": "TypeError",
     "evalue": "unsupported operand type(s) for *: 'dict' and 'int'",
     "output_type": "error",
     "traceback": [
      "\u001b[1;31m---------------------------------------------------------------------------\u001b[0m",
      "\u001b[1;31mTypeError\u001b[0m                                 Traceback (most recent call last)",
      "\u001b[1;32m~\\AppData\\Local\\Temp\\ipykernel_2100\\2969634992.py\u001b[0m in \u001b[0;36m<module>\u001b[1;34m\u001b[0m\n\u001b[0;32m      1\u001b[0m \u001b[1;31m#Dictionary does not support repetation operation\u001b[0m\u001b[1;33m\u001b[0m\u001b[1;33m\u001b[0m\u001b[0m\n\u001b[1;32m----> 2\u001b[1;33m \u001b[0md1\u001b[0m\u001b[1;33m*\u001b[0m\u001b[1;36m2\u001b[0m\u001b[1;33m\u001b[0m\u001b[1;33m\u001b[0m\u001b[0m\n\u001b[0m",
      "\u001b[1;31mTypeError\u001b[0m: unsupported operand type(s) for *: 'dict' and 'int'"
     ]
    }
   ],
   "source": [
    "#Dictionary does not support repetation operation\n",
    "d1*2"
   ]
  },
  {
   "cell_type": "code",
   "execution_count": null,
   "id": "3713e5ab",
   "metadata": {},
   "outputs": [],
   "source": []
  }
 ],
 "metadata": {
  "kernelspec": {
   "display_name": "Python 3 (ipykernel)",
   "language": "python",
   "name": "python3"
  },
  "language_info": {
   "codemirror_mode": {
    "name": "ipython",
    "version": 3
   },
   "file_extension": ".py",
   "mimetype": "text/x-python",
   "name": "python",
   "nbconvert_exporter": "python",
   "pygments_lexer": "ipython3",
   "version": "3.9.13"
  }
 },
 "nbformat": 4,
 "nbformat_minor": 5
}
