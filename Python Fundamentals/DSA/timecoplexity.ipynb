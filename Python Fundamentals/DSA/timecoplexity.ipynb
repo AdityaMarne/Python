{
 "cells": [
  {
   "cell_type": "code",
   "execution_count": 2,
   "metadata": {},
   "outputs": [
    {
     "name": "stdout",
     "output_type": "stream",
     "text": [
      "5\n",
      "Even\n"
     ]
    }
   ],
   "source": [
    "'''1. Constant Time Complexity (O(1))\n",
    "Write code snippets or explain why the following operations have constant time complexity:\n",
    "\n",
    "Fetching the last element of an array.\n",
    "Checking if a number is even or odd.'''\n",
    "lst = [1,2,3,4,5]\n",
    "print(lst[len(lst)-1])\n",
    "\n",
    "if 2 % 2 ==0:\n",
    "    print(\"Even\")\n",
    "else:\n",
    "    print(\"Odd\")"
   ]
  },
  {
   "cell_type": "code",
   "execution_count": 11,
   "metadata": {},
   "outputs": [
    {
     "data": {
      "text/plain": [
       "{1: 2, 2: 3, 3: 4}"
      ]
     },
     "execution_count": 11,
     "metadata": {},
     "output_type": "execute_result"
    }
   ],
   "source": [
    "'''\n",
    "2. Linear Time Complexity (O(n))\n",
    "Analyze the time complexity for these operations:\n",
    " 3. Reversing an array. \n",
    " 4. Counting the frequency of each element in an array.\n",
    "'''\n",
    "lst = [1,2,3,4,5]\n",
    "i = 0\n",
    "j = len(lst)-1\n",
    "while i < j:\n",
    "    temp = lst[i]\n",
    "    lst[i] = lst[j]\n",
    "    lst[j] = temp\n",
    "    i += 1\n",
    "    j -= 1\n",
    "lst\n",
    "\n",
    "lst = [1,1,2,2,2,3,3,3,3]\n",
    "freq = {}\n",
    "for i in range(len(lst)):\n",
    "    if lst[i] not in freq:\n",
    "        freq[lst[i]] = 1\n",
    "    else:\n",
    "        freq[lst[i]] += 1\n",
    "freq"
   ]
  },
  {
   "cell_type": "code",
   "execution_count": 2,
   "metadata": {},
   "outputs": [
    {
     "data": {
      "text/plain": [
       "[[1, 2, 3, 4, 5], [2, 3, 4, 5], [3, 4, 5], [4, 5], [5]]"
      ]
     },
     "execution_count": 2,
     "metadata": {},
     "output_type": "execute_result"
    }
   ],
   "source": [
    "'''\n",
    "3. Quadratic Time Complexity (O(n²))\n",
    "Write a program to print all possible pairs in an array of size n.\n",
    "Modify the program above to calculate the sum of all pairs.\n",
    "'''\n",
    "lst = [1,2,3,4,5]\n",
    "pair = []\n",
    "new = []\n",
    "for i in range(len(lst)):\n",
    "    for j in range(i, len(lst)):\n",
    "        new.append(lst[j])\n",
    "        # print(new)\n",
    "    pair.append(new)\n",
    "    new = []\n",
    "pair"
   ]
  },
  {
   "cell_type": "code",
   "execution_count": 3,
   "metadata": {},
   "outputs": [
    {
     "data": {
      "text/plain": [
       "[15, 14, 12, 9, 5]"
      ]
     },
     "execution_count": 3,
     "metadata": {},
     "output_type": "execute_result"
    }
   ],
   "source": [
    "lst = [1,2,3,4,5]\n",
    "pair = []\n",
    "for i in range(len(lst)):\n",
    "    sum = 0\n",
    "    for j in range(i, len(lst)):\n",
    "        sum += lst[j]\n",
    "    pair.append(sum)\n",
    "pair"
   ]
  },
  {
   "cell_type": "code",
   "execution_count": null,
   "metadata": {},
   "outputs": [],
   "source": [
    "'''\n",
    "4. Logarithmic Time Complexity (O(log n))\n",
    "Explain why the following has logarithmic time complexity:\n",
    "Binary search on a sorted array.\n",
    "Finding the largest power of 2 less than or equal to a given number n.\n",
    "'''"
   ]
  },
  {
   "cell_type": "code",
   "execution_count": null,
   "metadata": {},
   "outputs": [],
   "source": [
    "#4.1 Binary search on a sorted array.\n",
    "lst = [1,2,3,4,5,6,7,8,9,10]\n",
    "\n",
    "def binary_search(lst,element):\n",
    "    low = 0\n",
    "    high = len(lst)-1\n",
    "    while low < high:\n",
    "        mid = int((low + high) / 2)\n",
    "        if element == lst[low]:\n",
    "            return low+1\n",
    "        elif element == lst[high]:\n",
    "            return high+1\n",
    "        elif element == lst[mid]:\n",
    "            return mid+1\n",
    "        if element < lst[mid]:\n",
    "            high = mid\n",
    "        if element > lst[mid]:\n",
    "            low = mid\n",
    "    return \"Element not found\" "
   ]
  },
  {
   "cell_type": "code",
   "execution_count": 31,
   "metadata": {},
   "outputs": [
    {
     "data": {
      "text/plain": [
       "9"
      ]
     },
     "execution_count": 31,
     "metadata": {},
     "output_type": "execute_result"
    }
   ],
   "source": [
    "binary_search(lst,9)"
   ]
  },
  {
   "cell_type": "code",
   "execution_count": null,
   "metadata": {},
   "outputs": [],
   "source": [
    "#4.2 Finding the largest power of 2 less than or equal to a given number n.\n"
   ]
  }
 ],
 "metadata": {
  "kernelspec": {
   "display_name": "Python 3",
   "language": "python",
   "name": "python3"
  },
  "language_info": {
   "codemirror_mode": {
    "name": "ipython",
    "version": 3
   },
   "file_extension": ".py",
   "mimetype": "text/x-python",
   "name": "python",
   "nbconvert_exporter": "python",
   "pygments_lexer": "ipython3",
   "version": "3.10.10"
  }
 },
 "nbformat": 4,
 "nbformat_minor": 2
}
