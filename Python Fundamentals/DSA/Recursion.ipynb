{
 "cells": [
  {
   "cell_type": "markdown",
   "metadata": {},
   "source": [
    "1. What is Recursion?\n",
    "Recursion is a programming technique where a function calls itself to solve smaller subproblems of the original problem. It consists of:\n",
    "\n",
    "Base Case: The condition that stops the recursion.\n",
    "Recursive Case: The part where the function calls itself with a reduced problem size."
   ]
  },
  {
   "cell_type": "markdown",
   "metadata": {},
   "source": [
    "Key Concepts\n",
    "\n",
    "Recursive Stack: Each recursive call is pushed onto a stack until the base case is reached. Then, the calls are resolved in reverse order (stack unwinding).\n",
    "\n",
    "Tail Recursion: The recursive call is the last operation in the function, making it easier to optimize.\n",
    "\n",
    "Head Recursion: The recursive call happens before performing any operations."
   ]
  },
  {
   "cell_type": "markdown",
   "metadata": {},
   "source": [
    "Advantages of Recursion\n",
    "\n",
    "\n",
    "Simplifies code for problems like tree traversal, permutations, or divide-and-conquer algorithms (e.g., merge sort)."
   ]
  },
  {
   "cell_type": "code",
   "execution_count": 1,
   "metadata": {},
   "outputs": [
    {
     "name": "stdout",
     "output_type": "stream",
     "text": [
      "120\n"
     ]
    }
   ],
   "source": [
    "#Factorial of a Number\n",
    "def factorial(n):\n",
    "    if n == 0 or n ==1:\n",
    "        return 1\n",
    "    return n * factorial(n-1)\n",
    "\n",
    "print(factorial(5))"
   ]
  },
  {
   "cell_type": "code",
   "execution_count": 4,
   "metadata": {},
   "outputs": [
    {
     "name": "stdout",
     "output_type": "stream",
     "text": [
      "0 1 1 2 3 5 8 13 21 34 "
     ]
    }
   ],
   "source": [
    "#Fibonacci Series\n",
    "def fibonacci(n):\n",
    "    if n <= 1:\n",
    "        return n\n",
    "    return fibonacci(n-1) + fibonacci(n - 2)\n",
    "\n",
    "for i in range(10):\n",
    "    print(fibonacci(i), end=\" \")"
   ]
  },
  {
   "cell_type": "code",
   "execution_count": 5,
   "metadata": {},
   "outputs": [
    {
     "name": "stdout",
     "output_type": "stream",
     "text": [
      "Move disk 1 from A to C\n",
      "Move disk 2 from A to B\n",
      "Move disk 1 from C to B\n",
      "Move disk 3 from A to C\n",
      "Move disk 1 from B to A\n",
      "Move disk 2 from B to C\n",
      "Move disk 1 from A to C\n"
     ]
    }
   ],
   "source": [
    "#Tower of Hanoi\n",
    "def tower_of_hanoi(n, source, target, auxiliary):\n",
    "    if n==1:\n",
    "        print(f\"Move disk 1 from {source} to {target}\")\n",
    "        return\n",
    "    tower_of_hanoi(n-1, source, auxiliary, target)\n",
    "    print(f\"Move disk {n} from {source} to {target}\")\n",
    "    tower_of_hanoi(n - 1, auxiliary, target, source)\n",
    "\n",
    "tower_of_hanoi(3, 'A', 'C', 'B')"
   ]
  },
  {
   "cell_type": "code",
   "execution_count": 20,
   "metadata": {},
   "outputs": [],
   "source": [
    "#Write a recursive function to calculate the sum of the first n natural numbers.\n",
    "def sum_of_num(n):\n",
    "    if n <= 1:\n",
    "        return n\n",
    "    return n + sum_of_num(n-1)"
   ]
  },
  {
   "cell_type": "code",
   "execution_count": 21,
   "metadata": {},
   "outputs": [
    {
     "data": {
      "text/plain": [
       "15"
      ]
     },
     "execution_count": 21,
     "metadata": {},
     "output_type": "execute_result"
    }
   ],
   "source": [
    "sum_of_num(5)"
   ]
  },
  {
   "cell_type": "code",
   "execution_count": null,
   "metadata": {},
   "outputs": [
    {
     "ename": "",
     "evalue": "",
     "output_type": "error",
     "traceback": [
      "\u001b[1;31mThe Kernel crashed while executing code in the current cell or a previous cell. \n",
      "\u001b[1;31mPlease review the code in the cell(s) to identify a possible cause of the failure. \n",
      "\u001b[1;31mClick <a href='https://aka.ms/vscodeJupyterKernelCrash'>here</a> for more info. \n",
      "\u001b[1;31mView Jupyter <a href='command:jupyter.viewOutput'>log</a> for further details."
     ]
    }
   ],
   "source": [
    "#Write a recursive function to print all elements of an array.\n",
    "def array_ele(lst, index):\n",
    "    if index < len(lst):\n",
    "        print(lst[index],end=\" \")\n",
    "    return array_ele(lst, index+1)\n",
    "\n",
    "array_ele([1,2,3,4,5],0)"
   ]
  },
  {
   "cell_type": "code",
   "execution_count": 1,
   "metadata": {},
   "outputs": [
    {
     "name": "stdout",
     "output_type": "stream",
     "text": [
      "The GCD of 48 and 18 is : 6\n"
     ]
    }
   ],
   "source": [
    "#Find the GCD of two numbers using recursion.\n",
    "def gcd(num1,num2):\n",
    "    if num2 == 0:\n",
    "        return num1\n",
    "    return gcd(num2, num1 % num2)\n",
    "num1 = 48\n",
    "num2 = 18\n",
    "print(f\"The GCD of {num1} and {num2} is : {gcd(num1,num2)}\")"
   ]
  },
  {
   "cell_type": "code",
   "execution_count": 2,
   "metadata": {},
   "outputs": [
    {
     "name": "stdout",
     "output_type": "stream",
     "text": [
      "[[], [1], [1, 2], [1, 2, 3], [1, 3], [2], [2, 3], [3]]\n"
     ]
    }
   ],
   "source": [
    "#Generate all subsets of a given set (e.g., [1, 2, 3]).\n",
    "def generate_subsets(arr):\n",
    "    def backtrack(start,path):\n",
    "        subsets.append(path)\n",
    "        for i in range(start, len(arr)):\n",
    "            backtrack(i+1, path +[arr[i]])\n",
    "    subsets = []\n",
    "    backtrack(0 ,[])\n",
    "    return subsets\n",
    "\n",
    "arr = [1, 2, 3] \n",
    "all_subsets = generate_subsets(arr) \n",
    "print(all_subsets)"
   ]
  },
  {
   "cell_type": "code",
   "execution_count": 1,
   "metadata": {},
   "outputs": [
    {
     "name": "stdout",
     "output_type": "stream",
     "text": [
      "2^10 = 1024\n"
     ]
    }
   ],
   "source": [
    "#Calculating a^b using divide and conquer\n",
    "def power(a, b):\n",
    "    #base case\n",
    "    if b==0:\n",
    "        return 1\n",
    "    #Recursive case for evenb\n",
    "    if b % 2 == 0:\n",
    "        half_power = power(a, b // 2)\n",
    "        return half_power * half_power\n",
    "    #recursive case for odd b\n",
    "    else:\n",
    "        return a * power(a, b-1)\n",
    "    \n",
    "a = 2\n",
    "b = 10\n",
    "print(f\"{a}^{b} = {power(a, b)}\")"
   ]
  },
  {
   "cell_type": "code",
   "execution_count": null,
   "metadata": {},
   "outputs": [],
   "source": []
  }
 ],
 "metadata": {
  "kernelspec": {
   "display_name": "Python 3",
   "language": "python",
   "name": "python3"
  },
  "language_info": {
   "codemirror_mode": {
    "name": "ipython",
    "version": 3
   },
   "file_extension": ".py",
   "mimetype": "text/x-python",
   "name": "python",
   "nbconvert_exporter": "python",
   "pygments_lexer": "ipython3",
   "version": "3.10.10"
  }
 },
 "nbformat": 4,
 "nbformat_minor": 2
}
