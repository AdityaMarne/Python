{
 "cells": [
  {
   "cell_type": "code",
   "execution_count": null,
   "metadata": {},
   "outputs": [],
   "source": [
    "#Q1. Inserting an element in an array.\n",
    "class Array:\n",
    "\n",
    "    def __init__(self,size):\n",
    "        self.size = size\n",
    "        self.lst = [0] * size  # Preallocate the list with zeros\n",
    "        self.length = 0        # Track the number of elements added\n",
    "\n",
    "    def add(self,element):\n",
    "        if self.length < self.size:  # Ensure there's room to add an element\n",
    "            self.lst[self.length] = element\n",
    "            self.length += 1\n",
    "        else:\n",
    "            print(\"Array is full. Cannot add more elements.\")\n",
    "\n",
    "    def arr_elements(self):\n",
    "        return self.lst[:self.length]  # Return only the filled elements"
   ]
  },
  {
   "cell_type": "code",
   "execution_count": 3,
   "metadata": {},
   "outputs": [],
   "source": [
    "arr = Array(5)"
   ]
  },
  {
   "cell_type": "code",
   "execution_count": 4,
   "metadata": {},
   "outputs": [],
   "source": [
    "arr.add(1)"
   ]
  },
  {
   "cell_type": "code",
   "execution_count": 5,
   "metadata": {},
   "outputs": [
    {
     "data": {
      "text/plain": [
       "[1]"
      ]
     },
     "execution_count": 5,
     "metadata": {},
     "output_type": "execute_result"
    }
   ],
   "source": [
    "arr.arr_elements()"
   ]
  },
  {
   "cell_type": "code",
   "execution_count": 1,
   "metadata": {},
   "outputs": [],
   "source": [
    "#Q2. Deleting an element for an array.\n",
    "class Array1:\n",
    "\n",
    "    def __init__(self,size):\n",
    "        self.size = size\n",
    "        self.lst = [0] * size\n",
    "        self.length = 0\n",
    "\n",
    "    def add(self,element):\n",
    "        if self.length < self.size:\n",
    "            self.lst[self.length] = element\n",
    "            self.length += 1\n",
    "        else:\n",
    "            print(\"Array is full you can't add element.\")\n",
    "\n",
    "    def insert(self,element,index):\n",
    "        if index < 0 or index > self.length:\n",
    "            print(\"Invaid index, cannot insert element\")\n",
    "            pass\n",
    "\n",
    "        if self.length < self.size:\n",
    "            for i in range(self.length, index, -1):\n",
    "                self.lst[i] = self.lst[i-1]\n",
    "            self.lst[index] = element\n",
    "            self.length += 1\n",
    "        else:\n",
    "            print(\"Array is full. Cannot insert element.\")\n",
    "\n",
    "    def delete(self, index):\n",
    "        if index < 0 or index >= self.length:\n",
    "            print(\"Invalid index, cannot delete an element\")\n",
    "            return\n",
    "        \n",
    "        for i in range(index, self.length):\n",
    "            self.lst[i] = self.lst[i+1]\n",
    "        self.length -= 1\n",
    "\n",
    "    def arr_element(self):\n",
    "        return self.lst[:self.length]"
   ]
  },
  {
   "cell_type": "code",
   "execution_count": 2,
   "metadata": {},
   "outputs": [],
   "source": [
    "arr1 = Array1(5)"
   ]
  },
  {
   "cell_type": "code",
   "execution_count": 3,
   "metadata": {},
   "outputs": [],
   "source": [
    "arr1.add(1)\n",
    "arr1.add(2)\n",
    "arr1.add(3)"
   ]
  },
  {
   "cell_type": "code",
   "execution_count": 4,
   "metadata": {},
   "outputs": [
    {
     "data": {
      "text/plain": [
       "[1, 2, 3]"
      ]
     },
     "execution_count": 4,
     "metadata": {},
     "output_type": "execute_result"
    }
   ],
   "source": [
    "arr1.arr_element()"
   ]
  },
  {
   "cell_type": "code",
   "execution_count": 5,
   "metadata": {},
   "outputs": [],
   "source": [
    "arr1.insert(4,2)"
   ]
  },
  {
   "cell_type": "code",
   "execution_count": 6,
   "metadata": {},
   "outputs": [
    {
     "data": {
      "text/plain": [
       "[1, 2, 4, 3]"
      ]
     },
     "execution_count": 6,
     "metadata": {},
     "output_type": "execute_result"
    }
   ],
   "source": [
    "arr1.arr_element()"
   ]
  },
  {
   "cell_type": "code",
   "execution_count": 7,
   "metadata": {},
   "outputs": [],
   "source": [
    "arr1.delete(3)"
   ]
  },
  {
   "cell_type": "code",
   "execution_count": 8,
   "metadata": {},
   "outputs": [
    {
     "data": {
      "text/plain": [
       "[1, 2, 4]"
      ]
     },
     "execution_count": 8,
     "metadata": {},
     "output_type": "execute_result"
    }
   ],
   "source": [
    "arr1.arr_element()"
   ]
  },
  {
   "cell_type": "code",
   "execution_count": 35,
   "metadata": {},
   "outputs": [],
   "source": [
    "#Q3 Linear search and binary search in array\n",
    "class Array2:\n",
    "    def __init__(self, size):\n",
    "        self.size = size\n",
    "        self.lst = [0] * size\n",
    "        self.length = 0\n",
    "\n",
    "    def add(self, element):\n",
    "        if self.length < self.size:\n",
    "            self.lst[self.length] = element\n",
    "            self.length += 1\n",
    "        else:\n",
    "            print(\"Array is full.\")\n",
    "\n",
    "    def insert(self, index, element):\n",
    "        if index < 0 or index > self.size:\n",
    "            print(\"Invalid index.\")\n",
    "\n",
    "        if self.length < self.size:\n",
    "            for i in range(self.length, index-1, -1):\n",
    "                self.lst[i] = self.lst[i-1]\n",
    "            self.lst[index-1] = element\n",
    "            self.length += 1\n",
    "        else:\n",
    "            print(\"Array is full.\")\n",
    "\n",
    "    def linear_search(self,element):\n",
    "        for i in range(0,self.length):\n",
    "            #print(self.lst[i])\n",
    "            if element == self.lst[i]:\n",
    "                #print(element, self.lst[i])\n",
    "                return i+1\n",
    "        return \"Element not found\"\n",
    "    \n",
    "    def binary_search(self,element):\n",
    "        low = 0\n",
    "        high = self.length-1\n",
    "        self.lst.sort()\n",
    "\n",
    "        while(low < high):\n",
    "            mid = int((low+high)/2)\n",
    "            if element == self.lst[mid] or element == self.lst[low] or element == self.lst[high]:\n",
    "                if element == self.lst[mid]:\n",
    "                    return mid\n",
    "                elif element == self.lst[low]:\n",
    "                    return low\n",
    "                elif element == self.lst[high]:\n",
    "                    return high\n",
    "            elif element < self.lst[mid]:\n",
    "                high = mid-1\n",
    "            else:\n",
    "                low = mid+1\n",
    "        return -1\n",
    "            \n",
    "    def arr_element(self):\n",
    "        return self.lst[:self.length]"
   ]
  },
  {
   "cell_type": "code",
   "execution_count": 36,
   "metadata": {},
   "outputs": [],
   "source": [
    "arr2 = Array2(5)\n",
    "arr2.add(1)\n",
    "arr2.add(2)\n",
    "arr2.add(3)"
   ]
  },
  {
   "cell_type": "code",
   "execution_count": 37,
   "metadata": {},
   "outputs": [
    {
     "data": {
      "text/plain": [
       "[1, 2, 3]"
      ]
     },
     "execution_count": 37,
     "metadata": {},
     "output_type": "execute_result"
    }
   ],
   "source": [
    "arr2.arr_element()"
   ]
  },
  {
   "cell_type": "code",
   "execution_count": 38,
   "metadata": {},
   "outputs": [],
   "source": [
    "arr2.insert(2,4)"
   ]
  },
  {
   "cell_type": "code",
   "execution_count": 39,
   "metadata": {},
   "outputs": [
    {
     "data": {
      "text/plain": [
       "[1, 4, 2, 3]"
      ]
     },
     "execution_count": 39,
     "metadata": {},
     "output_type": "execute_result"
    }
   ],
   "source": [
    "arr2.arr_element()"
   ]
  },
  {
   "cell_type": "code",
   "execution_count": 40,
   "metadata": {},
   "outputs": [],
   "source": [
    "arr2.insert(4,5)"
   ]
  },
  {
   "cell_type": "code",
   "execution_count": 41,
   "metadata": {},
   "outputs": [
    {
     "data": {
      "text/plain": [
       "[1, 4, 2, 5, 3]"
      ]
     },
     "execution_count": 41,
     "metadata": {},
     "output_type": "execute_result"
    }
   ],
   "source": [
    "arr2.arr_element()"
   ]
  },
  {
   "cell_type": "code",
   "execution_count": 42,
   "metadata": {},
   "outputs": [
    {
     "data": {
      "text/plain": [
       "2"
      ]
     },
     "execution_count": 42,
     "metadata": {},
     "output_type": "execute_result"
    }
   ],
   "source": [
    "arr2.linear_search(4)"
   ]
  },
  {
   "cell_type": "code",
   "execution_count": 43,
   "metadata": {},
   "outputs": [
    {
     "data": {
      "text/plain": [
       "1"
      ]
     },
     "execution_count": 43,
     "metadata": {},
     "output_type": "execute_result"
    }
   ],
   "source": [
    "arr2.binary_search(2)"
   ]
  },
  {
   "cell_type": "code",
   "execution_count": 7,
   "metadata": {},
   "outputs": [],
   "source": [
    "##Revrese an array by auxillary method(Second array) and pointer method.\n",
    "class Array3:\n",
    "\n",
    "    def __init__(self,size):\n",
    "        self.size = size\n",
    "        self.lst = [0] * size\n",
    "        self.length = 0\n",
    "\n",
    "    def add(self,element):\n",
    "        if self.length < self.size:\n",
    "            self.lst[self.length] = element\n",
    "            self.length += 1\n",
    "        else:\n",
    "            print(\"Array is full.\")\n",
    "\n",
    "    def reverse_aux(self):\n",
    "        self.lst2 = []\n",
    "        for i in range(len(self.lst)-1,-1,-1):\n",
    "            self.lst2.append(self.lst[i])\n",
    "        return self.lst2\n",
    "    \n",
    "    def reverse_poi(self):\n",
    "        i, j = 0, len(self.lst) - 1\n",
    "        while i < j:\n",
    "            # Swap elements at indices i and j\n",
    "            self.lst[i], self.lst[j] = self.lst[j], self.lst[i]\n",
    "            i += 1\n",
    "            j -= 1\n",
    "        return self.lst\n",
    "    \n",
    "    def arr_element(self):\n",
    "        return self.lst[:self.length]"
   ]
  },
  {
   "cell_type": "code",
   "execution_count": 8,
   "metadata": {},
   "outputs": [],
   "source": [
    "arr3 = Array3(5)"
   ]
  },
  {
   "cell_type": "code",
   "execution_count": 9,
   "metadata": {},
   "outputs": [],
   "source": [
    "arr3.add(1)\n",
    "arr3.add(2)\n",
    "arr3.add(3)\n",
    "arr3.add(4)\n",
    "arr3.add(5)"
   ]
  },
  {
   "cell_type": "code",
   "execution_count": 10,
   "metadata": {},
   "outputs": [
    {
     "data": {
      "text/plain": [
       "[1, 2, 3, 4, 5]"
      ]
     },
     "execution_count": 10,
     "metadata": {},
     "output_type": "execute_result"
    }
   ],
   "source": [
    "arr3.arr_element()"
   ]
  },
  {
   "cell_type": "code",
   "execution_count": 11,
   "metadata": {},
   "outputs": [
    {
     "data": {
      "text/plain": [
       "[5, 4, 3, 2, 1]"
      ]
     },
     "execution_count": 11,
     "metadata": {},
     "output_type": "execute_result"
    }
   ],
   "source": [
    "arr3.reverse_aux()"
   ]
  },
  {
   "cell_type": "code",
   "execution_count": 12,
   "metadata": {},
   "outputs": [
    {
     "data": {
      "text/plain": [
       "[5, 4, 3, 2, 1]"
      ]
     },
     "execution_count": 12,
     "metadata": {},
     "output_type": "execute_result"
    }
   ],
   "source": [
    "arr3.reverse_poi()"
   ]
  },
  {
   "cell_type": "code",
   "execution_count": 1,
   "metadata": {},
   "outputs": [],
   "source": [
    "#Check array is sorted.\n",
    "class Array4:\n",
    "\n",
    "    def __init__(self,size):\n",
    "        self.size = size\n",
    "        self.lst = [0]*size\n",
    "        self.length = 0\n",
    "\n",
    "    def add(self,element):\n",
    "        if self.length == self.size-1:\n",
    "            print(\"Array is full\")\n",
    "\n",
    "        self.lst[self.length] = element\n",
    "        self.length += 1\n",
    "\n",
    "    def isSorted(self,lst):\n",
    "        for i in range(len(lst)):\n",
    "            if lst[i] > lst[i+1]:\n",
    "                return False\n",
    "        return True\n",
    "    "
   ]
  },
  {
   "cell_type": "code",
   "execution_count": 3,
   "metadata": {},
   "outputs": [],
   "source": [
    "arr4 = Array4(5)"
   ]
  },
  {
   "cell_type": "code",
   "execution_count": 4,
   "metadata": {},
   "outputs": [
    {
     "data": {
      "text/plain": [
       "False"
      ]
     },
     "execution_count": 4,
     "metadata": {},
     "output_type": "execute_result"
    }
   ],
   "source": [
    "arr4.isSorted([4,8,13,26,20,25,28,33])"
   ]
  },
  {
   "cell_type": "code",
   "execution_count": 13,
   "metadata": {},
   "outputs": [],
   "source": [
    "#-ve on left and +ve on rigt side array.\n",
    "class Array5:\n",
    "\n",
    "    def negpos(self,lst):\n",
    "        i,j=0,len(lst)-1\n",
    "        while i < j:\n",
    "            while lst[i] < 0:\n",
    "                i += 1\n",
    "            while lst[j] >= 0:\n",
    "                j -= 1\n",
    "            if i < j:\n",
    "                self.swap(lst,i,j)\n",
    "        return lst\n",
    "\n",
    "    def swap(self,lst,a,b):\n",
    "        temp = lst[a]\n",
    "        lst[a] = lst[b]\n",
    "        lst[b] = temp\n"
   ]
  },
  {
   "cell_type": "code",
   "execution_count": 14,
   "metadata": {},
   "outputs": [],
   "source": [
    "arr5 = Array5()"
   ]
  },
  {
   "cell_type": "code",
   "execution_count": 15,
   "metadata": {},
   "outputs": [
    {
     "data": {
      "text/plain": [
       "[-6, -4, -8, -9, -7, 5, 10, 12, 3, 2]"
      ]
     },
     "execution_count": 15,
     "metadata": {},
     "output_type": "execute_result"
    }
   ],
   "source": [
    "arr5.negpos([-6,3,-8,10,5,-7,-9,12,-4,2])"
   ]
  },
  {
   "cell_type": "code",
   "execution_count": 7,
   "metadata": {},
   "outputs": [],
   "source": [
    "#Merging array elements\n",
    "class MergeArray:\n",
    "\n",
    "    def __init__(self,lst1,lst2):\n",
    "        self.lst1 = lst1\n",
    "        self.lst2 = lst2\n",
    "        self.lst3 = [0]*len(lst1)+[0]*len(lst2)\n",
    "        self.length = 0\n",
    "\n",
    "    def initial_val(self):\n",
    "        print(self.lst1)\n",
    "        print(self.lst2)\n",
    "        print(self.lst3)\n",
    "        print(self.length)\n",
    "\n",
    "    def merge(self):\n",
    "        for i in range(len(self.lst1)):\n",
    "            self.lst3[self.length] = self.lst1[i]\n",
    "            self.length += 1\n",
    "        for i in range(len(self.lst2)):\n",
    "            self.lst3[self.length] = self.lst2[i]\n",
    "            self.length += 1\n",
    "        return self.lst3\n"
   ]
  },
  {
   "cell_type": "code",
   "execution_count": 8,
   "metadata": {},
   "outputs": [],
   "source": [
    "m = MergeArray([1,2,3],[4,5,6])"
   ]
  },
  {
   "cell_type": "code",
   "execution_count": 9,
   "metadata": {},
   "outputs": [
    {
     "name": "stdout",
     "output_type": "stream",
     "text": [
      "[1, 2, 3]\n",
      "[4, 5, 6]\n",
      "[0, 0, 0, 0, 0, 0]\n",
      "0\n"
     ]
    }
   ],
   "source": [
    "m.initial_val()"
   ]
  },
  {
   "cell_type": "code",
   "execution_count": 10,
   "metadata": {},
   "outputs": [
    {
     "data": {
      "text/plain": [
       "[1, 2, 3, 4, 5, 6]"
      ]
     },
     "execution_count": 10,
     "metadata": {},
     "output_type": "execute_result"
    }
   ],
   "source": [
    "m.merge()"
   ]
  },
  {
   "cell_type": "code",
   "execution_count": null,
   "metadata": {},
   "outputs": [],
   "source": [
    "class MergeArray2:\n",
    "    \n",
    "    def __init__(self, lst1, lst2):\n",
    "        self.lst1 = lst1\n",
    "        self.lst2 = lst2\n",
    "        self.lst3 = [0]*self.lst1 + [0]*self.lst2\n",
    "\n",
    "    def initial_val(self):\n",
    "        print(self.lst1)\n",
    "        print(self.lst2)\n",
    "        print(self.lst3)\n",
    "        print(self.length)\n",
    "\n",
    "    def merge(self):\n",
    "        \n",
    "        "
   ]
  },
  {
   "cell_type": "code",
   "execution_count": 2,
   "metadata": {},
   "outputs": [
    {
     "name": "stdout",
     "output_type": "stream",
     "text": [
      "Array elements :\n",
      "1\n",
      "2\n",
      "3\n",
      "4\n",
      "5\n"
     ]
    }
   ],
   "source": [
    "#Traversing an Array\n",
    "arr = [1,2,3,4,5]\n",
    "print(\"Array elements :\")\n",
    "for i in range(len(arr)):\n",
    "    print(arr[i])"
   ]
  },
  {
   "cell_type": "code",
   "execution_count": 4,
   "metadata": {},
   "outputs": [
    {
     "name": "stdout",
     "output_type": "stream",
     "text": [
      "Original arr: [1, 2, 4, 5]\n",
      "After insertion: [1, 2, 3, 4, 5]\n"
     ]
    }
   ],
   "source": [
    "#Inserting an Element\n",
    "def insert_element(arr, element, position):\n",
    "    arr.insert(position, element)\n",
    "    return arr\n",
    "\n",
    "arr = [1,2,4,5]\n",
    "print(\"Original arr:\", arr)\n",
    "arr = insert_element(arr,3,2)\n",
    "print(\"After insertion:\",arr)\n"
   ]
  },
  {
   "cell_type": "code",
   "execution_count": 5,
   "metadata": {},
   "outputs": [
    {
     "name": "stdout",
     "output_type": "stream",
     "text": [
      "Original Array: [1, 2, 3, 4, 5]\n",
      "Array after deletion: [1, 2, 4, 5]\n"
     ]
    }
   ],
   "source": [
    "#Deleting an element\n",
    "def delete_element(arr, position):\n",
    "    if position < len(arr):\n",
    "        arr.pop(position)\n",
    "    return arr\n",
    "\n",
    "arr = [1, 2, 3, 4, 5]\n",
    "print(\"Original Array:\", arr)\n",
    "arr = delete_element(arr, 2)  # Delete element at position 2\n",
    "print(\"Array after deletion:\", arr)"
   ]
  },
  {
   "cell_type": "code",
   "execution_count": 6,
   "metadata": {},
   "outputs": [
    {
     "name": "stdout",
     "output_type": "stream",
     "text": [
      "Element 30 found at index 2\n"
     ]
    }
   ],
   "source": [
    "#Searching for an Element\n",
    "def search_element(arr, target):\n",
    "    for i in range(len(arr)):\n",
    "        if arr[i] == target:\n",
    "            return i\n",
    "    return -1\n",
    "\n",
    "arr = [10, 20, 30, 40, 50]\n",
    "target = 30\n",
    "index = search_element(arr, target)\n",
    "if index != -1:\n",
    "    print(f\"Element {target} found at index {index}\")\n",
    "else:\n",
    "    print(f\"Element {target} not found\")"
   ]
  },
  {
   "cell_type": "code",
   "execution_count": null,
   "metadata": {},
   "outputs": [
    {
     "name": "stdout",
     "output_type": "stream",
     "text": [
      "2\n",
      "50\n"
     ]
    }
   ],
   "source": [
    "#Find the largest and smallest elements in an array.\n",
    "arr = [10,2,4,6,50]\n",
    "minimum = arr[0]\n",
    "maximum = arr[0]\n",
    "for i in range(1,len(arr)):\n",
    "    if arr[i] < minimum:\n",
    "        minimum = arr[i]\n",
    "    if arr[i] > maximum:\n",
    "        maximum = arr[i]\n",
    "\n",
    "print(f\"Smallest element: {minimum}\")\n",
    "print(f\"Largest element: {maximum}\")"
   ]
  },
  {
   "cell_type": "code",
   "execution_count": 2,
   "metadata": {},
   "outputs": [
    {
     "data": {
      "text/plain": [
       "[6, 50, 10, 2, 4]"
      ]
     },
     "execution_count": 2,
     "metadata": {},
     "output_type": "execute_result"
    }
   ],
   "source": [
    "#Rotate an array by k position\n",
    "arr = [10,2,4,6,50]\n",
    "\n",
    "def rotate_by_k_pos(arr, k):\n",
    "    #normalize k to handle cases where k > len(arr)\n",
    "    k = k % len(arr)\n",
    "\n",
    "    return arr[k:] + arr[:k]\n",
    "\n",
    "rotate_by_k_pos(arr, 3)"
   ]
  },
  {
   "cell_type": "code",
   "execution_count": null,
   "metadata": {},
   "outputs": [
    {
     "name": "stdout",
     "output_type": "stream",
     "text": [
      "[50, 6, 4, 2, 10]\n"
     ]
    }
   ],
   "source": [
    "#Reverse an array\n",
    "arr = [10,2,4,6,50]\n",
    "\n",
    "i = 0\n",
    "j = len(arr)-1\n",
    "\n",
    "while i < j:\n",
    "    arr[i], arr[j] = arr[j], arr[i]\n",
    "    i += 1\n",
    "    j -= 1\n",
    "print(arr)"
   ]
  },
  {
   "cell_type": "code",
   "execution_count": 22,
   "metadata": {},
   "outputs": [
    {
     "name": "stdout",
     "output_type": "stream",
     "text": [
      "Max Current :1, Max Global :-2\n",
      "max_current : 1 >  max_global : -2\n",
      "Max Global :1\n",
      "Max Current :-2, Max Global :1\n",
      "Max Current :4, Max Global :1\n",
      "max_current : 4 >  max_global : 1\n",
      "Max Global :4\n",
      "Max Current :3, Max Global :4\n",
      "Max Current :5, Max Global :4\n",
      "max_current : 5 >  max_global : 4\n",
      "Max Global :5\n",
      "Max Current :6, Max Global :5\n",
      "max_current : 6 >  max_global : 5\n",
      "Max Global :6\n",
      "Max Current :1, Max Global :6\n",
      "Max Current :5, Max Global :6\n",
      "Max Current :1, Max Global :-2\n",
      "max_current : 1 >  max_global : -2\n",
      "Max Global :1\n",
      "Max Current :-2, Max Global :1\n",
      "Max Current :4, Max Global :1\n",
      "max_current : 4 >  max_global : 1\n",
      "Max Global :4\n",
      "Max Current :3, Max Global :4\n",
      "Max Current :5, Max Global :4\n",
      "max_current : 5 >  max_global : 4\n",
      "Max Global :5\n",
      "Max Current :6, Max Global :5\n",
      "max_current : 6 >  max_global : 5\n",
      "Max Global :6\n",
      "Max Current :1, Max Global :6\n",
      "Max Current :5, Max Global :6\n",
      "Maximum subarray sum: 6\n"
     ]
    }
   ],
   "source": [
    "#1. Kadane's Algorithm\n",
    "'''\n",
    "Find the maximum sum of a contiguous subarray.\n",
    "Problem Statement: Given an integer array nums, find the contiguous subarray with the largest sum, and return the sum.\n",
    "'''\n",
    "nums = [-2, 1, -3, 4, -1, 2, 1, -5, 4]\n",
    "\n",
    "def max_subarray_sum(nums):\n",
    "    max_current = nums[0]\n",
    "    max_global = nums[0]\n",
    "\n",
    "    for i in range(1, len(nums)):\n",
    "        max_current = max(nums[i], max_current + nums[i])\n",
    "        print(f\"Max Current :{max_current}, Max Global :{max_global}\")\n",
    "        if max_current > max_global:\n",
    "            print(f\"max_current : {max_current} >  max_global : {max_global}\")\n",
    "            max_global = max_current\n",
    "            print(f\"Max Global :{max_global}\")\n",
    "\n",
    "    return max_global\n",
    "max_subarray_sum(nums)\n",
    "print(f\"Maximum subarray sum: {max_subarray_sum(nums)}\")"
   ]
  },
  {
   "cell_type": "code",
   "execution_count": 26,
   "metadata": {},
   "outputs": [
    {
     "name": "stdout",
     "output_type": "stream",
     "text": [
      "num :1\n",
      "complement : 5\n",
      "seen :{1}\n",
      "num :5\n",
      "complement : 1\n",
      "seen :{1, 5}\n",
      "num :7\n",
      "complement : -1\n",
      "seen :{1, 5, 7}\n",
      "num :-1\n",
      "complement : 7\n",
      "seen :{1, 5, -1, 7}\n",
      "num :5\n",
      "complement : 1\n",
      "seen :{1, 5, -1, 7}\n",
      "Pairs with sum 6: [(1, 5), (-1, 7), (1, 5)]\n"
     ]
    }
   ],
   "source": [
    "#2. Find all pairs with a given sum.\n",
    "'''\n",
    " Given an array and a target sum, find all unique pairs of elements that add up to the target.\n",
    "'''\n",
    "\n",
    "def find_pairs_with_sum(arr, target):\n",
    "    pair = []\n",
    "    seen = set()\n",
    "\n",
    "    for num in arr:\n",
    "        print(f\"num :{num}\")\n",
    "        complement = target - num\n",
    "        print(f\"complement : {complement}\")\n",
    "        if complement in seen:\n",
    "            pair.append((min(num,complement),max(num,complement)))\n",
    "\n",
    "        seen.add(num)\n",
    "        print(f\"seen :{seen}\")\n",
    "    return pair\n",
    "\n",
    "arr = [1, 5, 7, -1, 5]\n",
    "target = 6\n",
    "print(f\"Pairs with sum {target}: {find_pairs_with_sum(arr, target)}\")\n"
   ]
  },
  {
   "cell_type": "code",
   "execution_count": 3,
   "metadata": {},
   "outputs": [
    {
     "name": "stdout",
     "output_type": "stream",
     "text": [
      "Max Left : [0, 1, 1, 2, 2, 2, 2, 3, 3, 3, 3, 3]\n",
      "Max right :[3, 3, 3, 3, 3, 3, 3, 3, 2, 2, 2, 1]\n",
      "Trapped water: 6\n"
     ]
    }
   ],
   "source": [
    "#3 Trapping Rainwater\n",
    "'''\n",
    "Given an array height representing the elevation map, calculate how much water can be trapped after rain.\n",
    "'''\n",
    "def trap_rainwater(height):\n",
    "    n = len(height)\n",
    "\n",
    "    if n == 0:\n",
    "        return 0\n",
    "    \n",
    "    max_left = [0] * n\n",
    "    max_right = [0] * n\n",
    "    water = 0\n",
    "\n",
    "    #Fill max_left\n",
    "    max_left[0] = height[0]\n",
    "    for i in range(1, n):\n",
    "        max_left[i] = max(max_left[i - 1], height[i])\n",
    "    print(f\"Max Left : {max_left}\")\n",
    "\n",
    "    #Fill max_right\n",
    "    max_right[n-1] = height[n-1]\n",
    "    for i in range(n-2, -1, -1):\n",
    "        max_right[i] = max(max_right[i+1], height[i])\n",
    "    print(f\"Max right :{max_right}\")\n",
    "\n",
    "    #Calculate tratted water\n",
    "    for i in range(n):\n",
    "        water += min(max_left[i], max_right[i]) - height[i]\n",
    "\n",
    "    return  water\n",
    "\n",
    "height = [0, 1, 0, 2, 1, 0, 1, 3, 2, 1, 2, 1]\n",
    "print(f\"Trapped water: {trap_rainwater(height)}\")\n",
    "    "
   ]
  },
  {
   "cell_type": "code",
   "execution_count": 27,
   "metadata": {},
   "outputs": [
    {
     "name": "stdout",
     "output_type": "stream",
     "text": [
      "1\n",
      "3\n",
      "6\n",
      "(1, 2)\n",
      "1\n",
      "3\n",
      "6\n",
      "13\n",
      "Subarray with given sum 12: (1, 3)\n"
     ]
    }
   ],
   "source": [
    "#Subarray with a Given Sum : Find a subarray that adds up to a given sum (positive integers only).\n",
    "def subarray_give_sum(arr, target):\n",
    "    start = 0\n",
    "    current_sum = 0\n",
    "\n",
    "    for end in range(len(arr)):\n",
    "        current_sum += arr[end]\n",
    "        print(current_sum)\n",
    "\n",
    "        while current_sum > target:\n",
    "            current_sum -= arr[start]\n",
    "            start += 1\n",
    "\n",
    "        if current_sum == target:\n",
    "            return (start, end)\n",
    "        \n",
    "    return \"No subarray found\"\n",
    "\n",
    "arr = [1,2,3,4,5]\n",
    "target = 5\n",
    "print(subarray_give_sum(arr,target))\n",
    "\n",
    "arr = [1, 2, 3, 7, 5]\n",
    "target = 12\n",
    "result = subarray_give_sum(arr, target)\n",
    "print(f\"Subarray with given sum {target}: {result}\")\n",
    "            "
   ]
  },
  {
   "cell_type": "code",
   "execution_count": 23,
   "metadata": {},
   "outputs": [
    {
     "name": "stdout",
     "output_type": "stream",
     "text": [
      "1 + 4 = 5\n",
      "Subarray with given sum 12: 7 + 5 = 12\n"
     ]
    }
   ],
   "source": [
    "def subarray_give_sum(arr, target):\n",
    "    i,j = 0, len(arr)-1\n",
    "\n",
    "    while i < j:\n",
    "        if arr[i] + arr[j] == target:\n",
    "            return f\"{arr[i]} + {arr[j]} = {target}\"\n",
    "        elif arr[i] + arr[j] < target:\n",
    "            i += 1\n",
    "        elif arr[i] + arr[j] > target:\n",
    "            j -= 1\n",
    "    \n",
    "    return \"No subarray found\"\n",
    "\n",
    "arr = [1,2,3,4,5]\n",
    "target = 5\n",
    "print(subarray_give_sum(arr,target))\n",
    "\n",
    "arr = [1, 2, 3, 7, 5]\n",
    "target = 12\n",
    "result = subarray_give_sum(arr, target)\n",
    "print(f\"Subarray with given sum {target}: {result}\")"
   ]
  },
  {
   "cell_type": "code",
   "execution_count": null,
   "metadata": {},
   "outputs": [],
   "source": [
    "# Merge Two Sorted Arrays: Merge two sorted arrays into one sorted array without extra space.\n"
   ]
  },
  {
   "cell_type": "code",
   "execution_count": null,
   "metadata": {},
   "outputs": [],
   "source": [
    "# Find the Majority Element: An element appears more than \n",
    "# 𝑛\n",
    "# /\n",
    "# 2\n",
    "# # n/2 times in an array."
   ]
  }
 ],
 "metadata": {
  "kernelspec": {
   "display_name": "Python 3",
   "language": "python",
   "name": "python3"
  },
  "language_info": {
   "codemirror_mode": {
    "name": "ipython",
    "version": 3
   },
   "file_extension": ".py",
   "mimetype": "text/x-python",
   "name": "python",
   "nbconvert_exporter": "python",
   "pygments_lexer": "ipython3",
   "version": "3.10.10"
  }
 },
 "nbformat": 4,
 "nbformat_minor": 2
}
