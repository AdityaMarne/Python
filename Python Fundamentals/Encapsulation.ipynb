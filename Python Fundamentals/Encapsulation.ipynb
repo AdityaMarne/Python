{
 "cells": [
  {
   "cell_type": "markdown",
   "id": "4ec12933",
   "metadata": {},
   "source": [
    "It is used to restrict access to methods and variables. \n",
    "In encapsulation, code and data are wrapped together within a single unit from being modified by accident.\n",
    "\n",
    "In python there is no keyword public, private, protected like java and other programming language.\n",
    "In python we use notations. "
   ]
  },
  {
   "cell_type": "markdown",
   "id": "b7682d86",
   "metadata": {},
   "source": [
    "1] Protected :-\n",
    " Whenever you create a variable with single underscore(_) it will be treated as a protected variable.\n",
    " protected variables are access inside the class and outside a subclass(inherited)."
   ]
  },
  {
   "cell_type": "code",
   "execution_count": 10,
   "id": "c604d7b2",
   "metadata": {},
   "outputs": [],
   "source": [
    "class test:\n",
    "    def __init__(self):\n",
    "        self._b = 4   #protected variable\n",
    "        \n",
    "class test1(test):\n",
    "    def __init__(self):\n",
    "        self._a = 7"
   ]
  },
  {
   "cell_type": "code",
   "execution_count": 11,
   "id": "5cbf37b0",
   "metadata": {},
   "outputs": [],
   "source": [
    "u = test()"
   ]
  },
  {
   "cell_type": "code",
   "execution_count": 12,
   "id": "d9486f45",
   "metadata": {},
   "outputs": [
    {
     "data": {
      "text/plain": [
       "4"
      ]
     },
     "execution_count": 12,
     "metadata": {},
     "output_type": "execute_result"
    }
   ],
   "source": [
    "u._b"
   ]
  },
  {
   "cell_type": "code",
   "execution_count": 13,
   "id": "a8820dcd",
   "metadata": {},
   "outputs": [],
   "source": [
    "u = test1()"
   ]
  },
  {
   "cell_type": "code",
   "execution_count": 14,
   "id": "75029b80",
   "metadata": {},
   "outputs": [
    {
     "data": {
      "text/plain": [
       "7"
      ]
     },
     "execution_count": 14,
     "metadata": {},
     "output_type": "execute_result"
    }
   ],
   "source": [
    "u._a"
   ]
  },
  {
   "cell_type": "code",
   "execution_count": 16,
   "id": "83af3519",
   "metadata": {},
   "outputs": [],
   "source": [
    "class test:\n",
    "    _b = 4   #protected variable\n",
    "        \n",
    "class test1(test):\n",
    "    def __init__(self):\n",
    "        self._a = 7"
   ]
  },
  {
   "cell_type": "code",
   "execution_count": 17,
   "id": "f2f22948",
   "metadata": {},
   "outputs": [],
   "source": [
    "u = test1()"
   ]
  },
  {
   "cell_type": "code",
   "execution_count": 18,
   "id": "e0ec994e",
   "metadata": {},
   "outputs": [
    {
     "data": {
      "text/plain": [
       "4"
      ]
     },
     "execution_count": 18,
     "metadata": {},
     "output_type": "execute_result"
    }
   ],
   "source": [
    "u._b"
   ]
  },
  {
   "cell_type": "code",
   "execution_count": 19,
   "id": "fff227b3",
   "metadata": {},
   "outputs": [
    {
     "data": {
      "text/plain": [
       "7"
      ]
     },
     "execution_count": 19,
     "metadata": {},
     "output_type": "execute_result"
    }
   ],
   "source": [
    "u._a"
   ]
  },
  {
   "cell_type": "code",
   "execution_count": 24,
   "id": "22651bc2",
   "metadata": {},
   "outputs": [],
   "source": [
    "class test:\n",
    "    def _pro_meth(self):\n",
    "        print(\"This is a protected method\")\n",
    "        \n",
    "class test1(test):\n",
    "    def __init__(self):\n",
    "        self._a = 7"
   ]
  },
  {
   "cell_type": "code",
   "execution_count": 25,
   "id": "a5bfc00d",
   "metadata": {},
   "outputs": [],
   "source": [
    "u = test1()"
   ]
  },
  {
   "cell_type": "code",
   "execution_count": 26,
   "id": "8d1c6e88",
   "metadata": {},
   "outputs": [
    {
     "name": "stdout",
     "output_type": "stream",
     "text": [
      "This is a protected method\n"
     ]
    }
   ],
   "source": [
    "u._pro_meth()"
   ]
  },
  {
   "cell_type": "code",
   "execution_count": null,
   "id": "650da30e",
   "metadata": {},
   "outputs": [],
   "source": []
  },
  {
   "cell_type": "markdown",
   "id": "32b5c8ee",
   "metadata": {},
   "source": [
    "2] Private :-\n",
    "Whwnerev you create a variable with double underscore (__) it will be treated as private variable.\n",
    "\n",
    "Private variables are not allowd to inherit inside subclass but only access inside the main class."
   ]
  },
  {
   "cell_type": "code",
   "execution_count": 30,
   "id": "c691644b",
   "metadata": {},
   "outputs": [],
   "source": [
    "class test:\n",
    "    def __init__(self):\n",
    "        self.__b = 4   #private variable\n",
    "        \n",
    "class test1(test):\n",
    "    def __init__(self):\n",
    "        self.__a = 7"
   ]
  },
  {
   "cell_type": "code",
   "execution_count": 31,
   "id": "f2c76777",
   "metadata": {},
   "outputs": [],
   "source": [
    "u = test1()"
   ]
  },
  {
   "cell_type": "code",
   "execution_count": 32,
   "id": "54d77907",
   "metadata": {},
   "outputs": [
    {
     "ename": "AttributeError",
     "evalue": "'test1' object has no attribute '__b'",
     "output_type": "error",
     "traceback": [
      "\u001b[1;31m---------------------------------------------------------------------------\u001b[0m",
      "\u001b[1;31mAttributeError\u001b[0m                            Traceback (most recent call last)",
      "\u001b[1;32m~\\AppData\\Local\\Temp\\ipykernel_2256\\341573333.py\u001b[0m in \u001b[0;36m<module>\u001b[1;34m\u001b[0m\n\u001b[1;32m----> 1\u001b[1;33m \u001b[0mu\u001b[0m\u001b[1;33m.\u001b[0m\u001b[0m__b\u001b[0m\u001b[1;33m\u001b[0m\u001b[1;33m\u001b[0m\u001b[0m\n\u001b[0m",
      "\u001b[1;31mAttributeError\u001b[0m: 'test1' object has no attribute '__b'"
     ]
    }
   ],
   "source": [
    "u.__b"
   ]
  },
  {
   "cell_type": "code",
   "execution_count": 33,
   "id": "cd705fab",
   "metadata": {},
   "outputs": [
    {
     "ename": "AttributeError",
     "evalue": "'test1' object has no attribute '__a'",
     "output_type": "error",
     "traceback": [
      "\u001b[1;31m---------------------------------------------------------------------------\u001b[0m",
      "\u001b[1;31mAttributeError\u001b[0m                            Traceback (most recent call last)",
      "\u001b[1;32m~\\AppData\\Local\\Temp\\ipykernel_2256\\3701111835.py\u001b[0m in \u001b[0;36m<module>\u001b[1;34m\u001b[0m\n\u001b[1;32m----> 1\u001b[1;33m \u001b[0mu\u001b[0m\u001b[1;33m.\u001b[0m\u001b[0m__a\u001b[0m\u001b[1;33m\u001b[0m\u001b[1;33m\u001b[0m\u001b[0m\n\u001b[0m",
      "\u001b[1;31mAttributeError\u001b[0m: 'test1' object has no attribute '__a'"
     ]
    }
   ],
   "source": [
    "u.__a"
   ]
  },
  {
   "cell_type": "code",
   "execution_count": 34,
   "id": "bbbaa80a",
   "metadata": {},
   "outputs": [],
   "source": [
    "u = test()"
   ]
  },
  {
   "cell_type": "code",
   "execution_count": 35,
   "id": "e9ac1084",
   "metadata": {},
   "outputs": [
    {
     "ename": "AttributeError",
     "evalue": "'test' object has no attribute '__b'",
     "output_type": "error",
     "traceback": [
      "\u001b[1;31m---------------------------------------------------------------------------\u001b[0m",
      "\u001b[1;31mAttributeError\u001b[0m                            Traceback (most recent call last)",
      "\u001b[1;32m~\\AppData\\Local\\Temp\\ipykernel_2256\\341573333.py\u001b[0m in \u001b[0;36m<module>\u001b[1;34m\u001b[0m\n\u001b[1;32m----> 1\u001b[1;33m \u001b[0mu\u001b[0m\u001b[1;33m.\u001b[0m\u001b[0m__b\u001b[0m\u001b[1;33m\u001b[0m\u001b[1;33m\u001b[0m\u001b[0m\n\u001b[0m",
      "\u001b[1;31mAttributeError\u001b[0m: 'test' object has no attribute '__b'"
     ]
    }
   ],
   "source": [
    "u.__b"
   ]
  },
  {
   "cell_type": "code",
   "execution_count": 36,
   "id": "baf4da7c",
   "metadata": {},
   "outputs": [],
   "source": [
    "class test:\n",
    "    __b = 4   #private variable\n",
    "        \n",
    "class test1(test):\n",
    "    __a = 7"
   ]
  },
  {
   "cell_type": "code",
   "execution_count": 37,
   "id": "bea95a1e",
   "metadata": {},
   "outputs": [],
   "source": [
    "u = test1()"
   ]
  },
  {
   "cell_type": "code",
   "execution_count": 38,
   "id": "e54403ed",
   "metadata": {},
   "outputs": [
    {
     "ename": "AttributeError",
     "evalue": "'test1' object has no attribute '__b'",
     "output_type": "error",
     "traceback": [
      "\u001b[1;31m---------------------------------------------------------------------------\u001b[0m",
      "\u001b[1;31mAttributeError\u001b[0m                            Traceback (most recent call last)",
      "\u001b[1;32m~\\AppData\\Local\\Temp\\ipykernel_2256\\341573333.py\u001b[0m in \u001b[0;36m<module>\u001b[1;34m\u001b[0m\n\u001b[1;32m----> 1\u001b[1;33m \u001b[0mu\u001b[0m\u001b[1;33m.\u001b[0m\u001b[0m__b\u001b[0m\u001b[1;33m\u001b[0m\u001b[1;33m\u001b[0m\u001b[0m\n\u001b[0m",
      "\u001b[1;31mAttributeError\u001b[0m: 'test1' object has no attribute '__b'"
     ]
    }
   ],
   "source": [
    "u.__b"
   ]
  },
  {
   "cell_type": "code",
   "execution_count": 39,
   "id": "754c0b4f",
   "metadata": {},
   "outputs": [
    {
     "ename": "AttributeError",
     "evalue": "'test1' object has no attribute '__a'",
     "output_type": "error",
     "traceback": [
      "\u001b[1;31m---------------------------------------------------------------------------\u001b[0m",
      "\u001b[1;31mAttributeError\u001b[0m                            Traceback (most recent call last)",
      "\u001b[1;32m~\\AppData\\Local\\Temp\\ipykernel_2256\\3701111835.py\u001b[0m in \u001b[0;36m<module>\u001b[1;34m\u001b[0m\n\u001b[1;32m----> 1\u001b[1;33m \u001b[0mu\u001b[0m\u001b[1;33m.\u001b[0m\u001b[0m__a\u001b[0m\u001b[1;33m\u001b[0m\u001b[1;33m\u001b[0m\u001b[0m\n\u001b[0m",
      "\u001b[1;31mAttributeError\u001b[0m: 'test1' object has no attribute '__a'"
     ]
    }
   ],
   "source": [
    "u.__a"
   ]
  },
  {
   "cell_type": "code",
   "execution_count": 40,
   "id": "4c67a4ba",
   "metadata": {},
   "outputs": [],
   "source": [
    "u = test()"
   ]
  },
  {
   "cell_type": "code",
   "execution_count": 41,
   "id": "3b9b0659",
   "metadata": {},
   "outputs": [
    {
     "ename": "AttributeError",
     "evalue": "'test' object has no attribute '__b'",
     "output_type": "error",
     "traceback": [
      "\u001b[1;31m---------------------------------------------------------------------------\u001b[0m",
      "\u001b[1;31mAttributeError\u001b[0m                            Traceback (most recent call last)",
      "\u001b[1;32m~\\AppData\\Local\\Temp\\ipykernel_2256\\341573333.py\u001b[0m in \u001b[0;36m<module>\u001b[1;34m\u001b[0m\n\u001b[1;32m----> 1\u001b[1;33m \u001b[0mu\u001b[0m\u001b[1;33m.\u001b[0m\u001b[0m__b\u001b[0m\u001b[1;33m\u001b[0m\u001b[1;33m\u001b[0m\u001b[0m\n\u001b[0m",
      "\u001b[1;31mAttributeError\u001b[0m: 'test' object has no attribute '__b'"
     ]
    }
   ],
   "source": [
    "u.__b"
   ]
  },
  {
   "cell_type": "code",
   "execution_count": 42,
   "id": "6fa6964b",
   "metadata": {},
   "outputs": [],
   "source": [
    "class test:\n",
    "    def __pri_meth(self):\n",
    "        print(\"This is a private method\")"
   ]
  },
  {
   "cell_type": "code",
   "execution_count": 43,
   "id": "cfbcbcb3",
   "metadata": {},
   "outputs": [],
   "source": [
    " u = test()"
   ]
  },
  {
   "cell_type": "code",
   "execution_count": 44,
   "id": "fc85cd35",
   "metadata": {},
   "outputs": [
    {
     "ename": "AttributeError",
     "evalue": "'test' object has no attribute '__pri_meth'",
     "output_type": "error",
     "traceback": [
      "\u001b[1;31m---------------------------------------------------------------------------\u001b[0m",
      "\u001b[1;31mAttributeError\u001b[0m                            Traceback (most recent call last)",
      "\u001b[1;32m~\\AppData\\Local\\Temp\\ipykernel_2256\\551239156.py\u001b[0m in \u001b[0;36m<module>\u001b[1;34m\u001b[0m\n\u001b[1;32m----> 1\u001b[1;33m \u001b[0mu\u001b[0m\u001b[1;33m.\u001b[0m\u001b[0m__pri_meth\u001b[0m\u001b[1;33m(\u001b[0m\u001b[1;33m)\u001b[0m\u001b[1;33m\u001b[0m\u001b[1;33m\u001b[0m\u001b[0m\n\u001b[0m",
      "\u001b[1;31mAttributeError\u001b[0m: 'test' object has no attribute '__pri_meth'"
     ]
    }
   ],
   "source": [
    "u.__pri_meth()"
   ]
  },
  {
   "cell_type": "code",
   "execution_count": null,
   "id": "f684d4ad",
   "metadata": {},
   "outputs": [],
   "source": []
  },
  {
   "cell_type": "code",
   "execution_count": 45,
   "id": "1f7f62f5",
   "metadata": {},
   "outputs": [],
   "source": [
    "#TO aceess private variable inside class we use this"
   ]
  },
  {
   "cell_type": "code",
   "execution_count": 46,
   "id": "5fea11a2",
   "metadata": {},
   "outputs": [],
   "source": [
    "class test:\n",
    "    def __init__(self):\n",
    "        self.__b = 4   #private variable\n",
    "        \n",
    "class test1(test):\n",
    "    def __init__(self):\n",
    "        self.__a = 7"
   ]
  },
  {
   "cell_type": "code",
   "execution_count": 47,
   "id": "4e075d2d",
   "metadata": {},
   "outputs": [],
   "source": [
    "u = test()"
   ]
  },
  {
   "cell_type": "code",
   "execution_count": 50,
   "id": "2f0b9ae1",
   "metadata": {},
   "outputs": [
    {
     "data": {
      "text/plain": [
       "4"
      ]
     },
     "execution_count": 50,
     "metadata": {},
     "output_type": "execute_result"
    }
   ],
   "source": [
    "u._test__b # For accessing the private variable"
   ]
  },
  {
   "cell_type": "code",
   "execution_count": 51,
   "id": "76f29ed5",
   "metadata": {},
   "outputs": [],
   "source": [
    "class test:\n",
    "    __b = 4   #private variable\n",
    "        \n",
    "class test1(test):\n",
    "    __a = 7"
   ]
  },
  {
   "cell_type": "code",
   "execution_count": 52,
   "id": "69668e34",
   "metadata": {},
   "outputs": [],
   "source": [
    "u = test()"
   ]
  },
  {
   "cell_type": "code",
   "execution_count": 53,
   "id": "adb17ccb",
   "metadata": {},
   "outputs": [
    {
     "data": {
      "text/plain": [
       "4"
      ]
     },
     "execution_count": 53,
     "metadata": {},
     "output_type": "execute_result"
    }
   ],
   "source": [
    "u._test__b"
   ]
  },
  {
   "cell_type": "code",
   "execution_count": 54,
   "id": "49ee02eb",
   "metadata": {},
   "outputs": [],
   "source": [
    "class test:\n",
    "    def __pri_meth(self):\n",
    "        print(\"This is a private method\")"
   ]
  },
  {
   "cell_type": "code",
   "execution_count": 55,
   "id": "34eaed4a",
   "metadata": {},
   "outputs": [],
   "source": [
    "u = test()"
   ]
  },
  {
   "cell_type": "code",
   "execution_count": 56,
   "id": "7ea6f589",
   "metadata": {},
   "outputs": [
    {
     "name": "stdout",
     "output_type": "stream",
     "text": [
      "This is a private method\n"
     ]
    }
   ],
   "source": [
    "u._test__pri_meth()"
   ]
  },
  {
   "cell_type": "code",
   "execution_count": null,
   "id": "488adbc6",
   "metadata": {},
   "outputs": [],
   "source": []
  },
  {
   "cell_type": "code",
   "execution_count": 57,
   "id": "54354aed",
   "metadata": {},
   "outputs": [],
   "source": [
    "#To access private variable of parent class"
   ]
  },
  {
   "cell_type": "code",
   "execution_count": 58,
   "id": "1fa0ba24",
   "metadata": {},
   "outputs": [],
   "source": [
    "class test:\n",
    "    _a = 10 #protected variable\n",
    "    __b = 20 #private variable\n",
    "    c = 30 #public variable\n",
    "    \n",
    "class test1(test):\n",
    "    pass"
   ]
  },
  {
   "cell_type": "code",
   "execution_count": 59,
   "id": "f0c89813",
   "metadata": {},
   "outputs": [],
   "source": [
    "u = test() #Parent class object"
   ]
  },
  {
   "cell_type": "code",
   "execution_count": 60,
   "id": "979136ef",
   "metadata": {},
   "outputs": [
    {
     "data": {
      "text/plain": [
       "10"
      ]
     },
     "execution_count": 60,
     "metadata": {},
     "output_type": "execute_result"
    }
   ],
   "source": [
    "u._a"
   ]
  },
  {
   "cell_type": "code",
   "execution_count": 61,
   "id": "dd16b012",
   "metadata": {},
   "outputs": [
    {
     "data": {
      "text/plain": [
       "20"
      ]
     },
     "execution_count": 61,
     "metadata": {},
     "output_type": "execute_result"
    }
   ],
   "source": [
    "u._test__b"
   ]
  },
  {
   "cell_type": "code",
   "execution_count": 62,
   "id": "ded73939",
   "metadata": {},
   "outputs": [
    {
     "data": {
      "text/plain": [
       "30"
      ]
     },
     "execution_count": 62,
     "metadata": {},
     "output_type": "execute_result"
    }
   ],
   "source": [
    "u.c"
   ]
  },
  {
   "cell_type": "code",
   "execution_count": 63,
   "id": "1b49a001",
   "metadata": {},
   "outputs": [],
   "source": [
    "u = test1() #child class object"
   ]
  },
  {
   "cell_type": "code",
   "execution_count": 64,
   "id": "02800c9c",
   "metadata": {},
   "outputs": [
    {
     "data": {
      "text/plain": [
       "30"
      ]
     },
     "execution_count": 64,
     "metadata": {},
     "output_type": "execute_result"
    }
   ],
   "source": [
    "u.c  #public variable of parent class"
   ]
  },
  {
   "cell_type": "code",
   "execution_count": 65,
   "id": "ee2e7759",
   "metadata": {},
   "outputs": [
    {
     "data": {
      "text/plain": [
       "10"
      ]
     },
     "execution_count": 65,
     "metadata": {},
     "output_type": "execute_result"
    }
   ],
   "source": [
    "u._a  #protected variable of parent class"
   ]
  },
  {
   "cell_type": "code",
   "execution_count": 66,
   "id": "caaf4fcb",
   "metadata": {},
   "outputs": [
    {
     "ename": "AttributeError",
     "evalue": "'test1' object has no attribute '_test1__b'",
     "output_type": "error",
     "traceback": [
      "\u001b[1;31m---------------------------------------------------------------------------\u001b[0m",
      "\u001b[1;31mAttributeError\u001b[0m                            Traceback (most recent call last)",
      "\u001b[1;32m~\\AppData\\Local\\Temp\\ipykernel_2256\\4083783106.py\u001b[0m in \u001b[0;36m<module>\u001b[1;34m\u001b[0m\n\u001b[1;32m----> 1\u001b[1;33m \u001b[0mu\u001b[0m\u001b[1;33m.\u001b[0m\u001b[0m_test1__b\u001b[0m\u001b[1;33m\u001b[0m\u001b[1;33m\u001b[0m\u001b[0m\n\u001b[0m",
      "\u001b[1;31mAttributeError\u001b[0m: 'test1' object has no attribute '_test1__b'"
     ]
    }
   ],
   "source": [
    "u._test1__b"
   ]
  },
  {
   "cell_type": "code",
   "execution_count": 69,
   "id": "dc8a3e3e",
   "metadata": {},
   "outputs": [
    {
     "data": {
      "text/plain": [
       "20"
      ]
     },
     "execution_count": 69,
     "metadata": {},
     "output_type": "execute_result"
    }
   ],
   "source": [
    "u._test__b  #private variable of parent class"
   ]
  },
  {
   "cell_type": "code",
   "execution_count": null,
   "id": "f088a1f1",
   "metadata": {},
   "outputs": [],
   "source": []
  },
  {
   "cell_type": "code",
   "execution_count": 72,
   "id": "efb7b2e4",
   "metadata": {},
   "outputs": [],
   "source": [
    "class test:\n",
    "    _a = 10 #protected variable\n",
    "    __b = 20 #private variable\n",
    "    c = 30 #public variable\n",
    "    \n",
    "class test1(test):\n",
    "    u = test()\n",
    "    def var_of_parent(self):\n",
    "        print(u._test__b)\n",
    "        print(u._a)\n",
    "        "
   ]
  },
  {
   "cell_type": "code",
   "execution_count": 73,
   "id": "cc31db9c",
   "metadata": {},
   "outputs": [],
   "source": [
    "k = test1()"
   ]
  },
  {
   "cell_type": "code",
   "execution_count": 74,
   "id": "026f6764",
   "metadata": {},
   "outputs": [
    {
     "name": "stdout",
     "output_type": "stream",
     "text": [
      "20\n",
      "10\n"
     ]
    }
   ],
   "source": [
    "k.var_of_parent()"
   ]
  },
  {
   "cell_type": "code",
   "execution_count": 75,
   "id": "2e20fd83",
   "metadata": {},
   "outputs": [],
   "source": [
    "class test:\n",
    "    _a = 10 #protected variable\n",
    "    __b = 20 #private variable\n",
    "    c = 30 #public variable\n",
    "    \n",
    "class test1(test):\n",
    "    u = test1()\n",
    "    def var_of_parent(self):\n",
    "        print(u._test__b)\n",
    "        print(u._a)"
   ]
  },
  {
   "cell_type": "code",
   "execution_count": 76,
   "id": "f2ba15a5",
   "metadata": {},
   "outputs": [],
   "source": [
    "k = test1()"
   ]
  },
  {
   "cell_type": "code",
   "execution_count": 77,
   "id": "2a4b85eb",
   "metadata": {},
   "outputs": [
    {
     "name": "stdout",
     "output_type": "stream",
     "text": [
      "20\n",
      "10\n"
     ]
    }
   ],
   "source": [
    "k.var_of_parent()"
   ]
  },
  {
   "cell_type": "code",
   "execution_count": null,
   "id": "2b875a7f",
   "metadata": {},
   "outputs": [],
   "source": []
  }
 ],
 "metadata": {
  "kernelspec": {
   "display_name": "Python 3 (ipykernel)",
   "language": "python",
   "name": "python3"
  },
  "language_info": {
   "codemirror_mode": {
    "name": "ipython",
    "version": 3
   },
   "file_extension": ".py",
   "mimetype": "text/x-python",
   "name": "python",
   "nbconvert_exporter": "python",
   "pygments_lexer": "ipython3",
   "version": "3.9.13"
  }
 },
 "nbformat": 4,
 "nbformat_minor": 5
}
