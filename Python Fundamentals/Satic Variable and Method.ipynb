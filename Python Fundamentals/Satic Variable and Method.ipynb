{
 "cells": [
  {
   "cell_type": "markdown",
   "id": "429ab999",
   "metadata": {},
   "source": [
    "These variables and methods belong to the class and the objects. "
   ]
  },
  {
   "cell_type": "markdown",
   "id": "519c3942",
   "metadata": {},
   "source": [
    "# Static Variable"
   ]
  },
  {
   "cell_type": "markdown",
   "id": "32269f11",
   "metadata": {},
   "source": [
    "When we declare a variable inside a class, but outside the method, \n",
    "it is called a static or class variable. It can be called directly from a class but not through the object of a class."
   ]
  },
  {
   "cell_type": "code",
   "execution_count": 1,
   "id": "64ede9e1",
   "metadata": {},
   "outputs": [],
   "source": [
    "class Employee:\n",
    "    dept = \"IT\"  #Static or class variable\n",
    "    \n",
    "    def __init__(self,name,id):\n",
    "        self.name = name\n",
    "        self.id = id\n",
    "    \n",
    "    def show(self,obj):\n",
    "        print(obj.dept)\n",
    "        print(obj.id)\n",
    "        print(obj.name)"
   ]
  },
  {
   "cell_type": "code",
   "execution_count": 2,
   "id": "cf7e58e1",
   "metadata": {},
   "outputs": [],
   "source": [
    "emp1 = Employee(\"Aditya\",1)"
   ]
  },
  {
   "cell_type": "code",
   "execution_count": 3,
   "id": "829464e1",
   "metadata": {},
   "outputs": [
    {
     "name": "stdout",
     "output_type": "stream",
     "text": [
      "IT\n",
      "1\n",
      "Aditya\n"
     ]
    }
   ],
   "source": [
    "emp1.show(emp1)"
   ]
  },
  {
   "cell_type": "code",
   "execution_count": 4,
   "id": "582a1905",
   "metadata": {},
   "outputs": [],
   "source": [
    "emp2 = Employee(\"Soham\",2)"
   ]
  },
  {
   "cell_type": "code",
   "execution_count": 5,
   "id": "49e2028a",
   "metadata": {},
   "outputs": [
    {
     "name": "stdout",
     "output_type": "stream",
     "text": [
      "IT\n",
      "2\n",
      "Soham\n"
     ]
    }
   ],
   "source": [
    "emp2.show(emp2)"
   ]
  },
  {
   "cell_type": "code",
   "execution_count": 6,
   "id": "40bf4afb",
   "metadata": {},
   "outputs": [
    {
     "name": "stdout",
     "output_type": "stream",
     "text": [
      "IT\n"
     ]
    }
   ],
   "source": [
    "print(Employee.dept) #Access class/static variable  using the class name"
   ]
  },
  {
   "cell_type": "code",
   "execution_count": 7,
   "id": "295ba0ed",
   "metadata": {},
   "outputs": [
    {
     "name": "stdout",
     "output_type": "stream",
     "text": [
      "Networking\n"
     ]
    }
   ],
   "source": [
    "#Chage the department of particular object\n",
    "emp1.dept = \"Networking\"\n",
    "print(emp1.dept)"
   ]
  },
  {
   "cell_type": "code",
   "execution_count": 8,
   "id": "45ce59f7",
   "metadata": {},
   "outputs": [
    {
     "name": "stdout",
     "output_type": "stream",
     "text": [
      "Networking\n",
      "Database Administration\n"
     ]
    }
   ],
   "source": [
    "# change the department for all objects of the class  \n",
    "Employee.dept = 'Database Administration'  \n",
    "print (emp1.dept)   \n",
    "print (emp2.dept)  "
   ]
  },
  {
   "cell_type": "markdown",
   "id": "94655a64",
   "metadata": {},
   "source": [
    "# Static Method"
   ]
  },
  {
   "cell_type": "markdown",
   "id": "35a854bf",
   "metadata": {},
   "source": [
    "Python has a static method that belongs to the class. It is just like a static variable that bounds to the class.\n",
    " A static method can be called without creating an object for the class. It means we can directly call the static method with the reference of the class name."
   ]
  },
  {
   "cell_type": "code",
   "execution_count": 9,
   "id": "6fd68022",
   "metadata": {},
   "outputs": [],
   "source": [
    "class Marks:\n",
    "    def Math_num(a,b):#define the static Math_num function\n",
    "        return a + b\n",
    "    \n",
    "    def Sci_num(a,b):#define the static Sci_num function\n",
    "        return a + b"
   ]
  },
  {
   "cell_type": "code",
   "execution_count": 10,
   "id": "1d458e2f",
   "metadata": {},
   "outputs": [],
   "source": [
    "# create Math_num as static method  \n",
    "Marks.Math_num = staticmethod(Marks.Math_num)  "
   ]
  },
  {
   "cell_type": "code",
   "execution_count": 11,
   "id": "f1095d6b",
   "metadata": {},
   "outputs": [
    {
     "name": "stdout",
     "output_type": "stream",
     "text": [
      " Total Marks in Maths 92\n"
     ]
    }
   ],
   "source": [
    "# print the total marks in Maths  \n",
    "print (\" Total Marks in Maths\" , Marks.Math_num(64, 28))   "
   ]
  },
  {
   "cell_type": "code",
   "execution_count": 12,
   "id": "0c00f6f4",
   "metadata": {},
   "outputs": [],
   "source": [
    "# create Sci_num as static method  \n",
    "Marks.Sci_num = staticmethod(Marks.Sci_num)  "
   ]
  },
  {
   "cell_type": "code",
   "execution_count": 13,
   "id": "9cdbc681",
   "metadata": {},
   "outputs": [
    {
     "name": "stdout",
     "output_type": "stream",
     "text": [
      " Total Marks in Science 95\n"
     ]
    }
   ],
   "source": [
    "# print the total marks in Science  \n",
    "print (\" Total Marks in Science\" , Marks.Sci_num(70, 25))"
   ]
  },
  {
   "cell_type": "code",
   "execution_count": null,
   "id": "a2cdf104",
   "metadata": {},
   "outputs": [],
   "source": []
  },
  {
   "cell_type": "code",
   "execution_count": 14,
   "id": "6a7d9e7e",
   "metadata": {},
   "outputs": [],
   "source": [
    "class Marks:  \n",
    "    @staticmethod  \n",
    "    def Math_num(a, b): # define the static Math_num() function  \n",
    "        return a + b  \n",
    "  \n",
    "    @staticmethod  \n",
    "    def Sci_num(a, b): # define the static Sci_num() function  \n",
    "        return a +b  "
   ]
  },
  {
   "cell_type": "code",
   "execution_count": 15,
   "id": "f98fb752",
   "metadata": {},
   "outputs": [
    {
     "name": "stdout",
     "output_type": "stream",
     "text": [
      " Total Marks in Maths 92\n"
     ]
    }
   ],
   "source": [
    "# print the total marks in Maths  \n",
    "print (\" Total Marks in Maths\" , Marks.Math_num(64, 28))    "
   ]
  },
  {
   "cell_type": "code",
   "execution_count": 16,
   "id": "36e756b2",
   "metadata": {},
   "outputs": [
    {
     "name": "stdout",
     "output_type": "stream",
     "text": [
      " Total Marks in Maths 92\n"
     ]
    }
   ],
   "source": [
    "# print the total marks in Maths  \n",
    "print (\" Total Marks in Maths\" , Marks.Math_num(64, 28))   "
   ]
  },
  {
   "cell_type": "code",
   "execution_count": null,
   "id": "76ec59e7",
   "metadata": {},
   "outputs": [],
   "source": []
  },
  {
   "cell_type": "code",
   "execution_count": 17,
   "id": "53c3f836",
   "metadata": {},
   "outputs": [],
   "source": [
    "class Test:  \n",
    "    # define a static method using the @staticmethod decorator in Python.  \n",
    "    @staticmethod  \n",
    "    def beg():  \n",
    "        print (\"Welcome to the World!! \")  "
   ]
  },
  {
   "cell_type": "code",
   "execution_count": 18,
   "id": "5fd036da",
   "metadata": {},
   "outputs": [],
   "source": [
    "# create an  object of the class Test  \n",
    "obj = Test()  "
   ]
  },
  {
   "cell_type": "code",
   "execution_count": 19,
   "id": "cf00410c",
   "metadata": {},
   "outputs": [
    {
     "name": "stdout",
     "output_type": "stream",
     "text": [
      "Welcome to the World!! \n"
     ]
    }
   ],
   "source": [
    "# call the static method   \n",
    "obj.beg()  "
   ]
  },
  {
   "cell_type": "code",
   "execution_count": null,
   "id": "676b15ea",
   "metadata": {},
   "outputs": [],
   "source": []
  }
 ],
 "metadata": {
  "kernelspec": {
   "display_name": "Python 3 (ipykernel)",
   "language": "python",
   "name": "python3"
  },
  "language_info": {
   "codemirror_mode": {
    "name": "ipython",
    "version": 3
   },
   "file_extension": ".py",
   "mimetype": "text/x-python",
   "name": "python",
   "nbconvert_exporter": "python",
   "pygments_lexer": "ipython3",
   "version": "3.9.13"
  }
 },
 "nbformat": 4,
 "nbformat_minor": 5
}
