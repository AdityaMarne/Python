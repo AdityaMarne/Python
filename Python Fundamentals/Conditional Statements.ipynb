{
 "cells": [
  {
   "cell_type": "markdown",
   "id": "0a39afc6",
   "metadata": {},
   "source": [
    "# Conditonal statement / Decision making statements"
   ]
  },
  {
   "cell_type": "markdown",
   "id": "ab12ca0e",
   "metadata": {},
   "source": [
    "In python, decision making is performed by the following statements.\n",
    "1]if statement\n",
    "2]if else statement\n",
    "3]if elif statement"
   ]
  },
  {
   "cell_type": "markdown",
   "id": "765fdbc1",
   "metadata": {},
   "source": [
    "# 1]if statement"
   ]
  },
  {
   "cell_type": "markdown",
   "id": "416c08bf",
   "metadata": {},
   "source": [
    "The if statement is used to test a particular condition and if the condition is true, it executes a block of code known as if-block. The condition of if statement can be any valid logical expression which can be either evaluated to true or false."
   ]
  },
  {
   "cell_type": "code",
   "execution_count": 1,
   "id": "f485753e",
   "metadata": {},
   "outputs": [
    {
     "name": "stdout",
     "output_type": "stream",
     "text": [
      "It gets executed beacuse if condition is false\n"
     ]
    }
   ],
   "source": [
    "a = 10\n",
    "if a < 15: #True\n",
    "    print(\"It gets executed beacuse if condition is false\") #Executed"
   ]
  },
  {
   "cell_type": "code",
   "execution_count": 2,
   "id": "343a68d3",
   "metadata": {},
   "outputs": [],
   "source": [
    "if a > 15: #False\n",
    "    print(\"It doesn't get executed beacuse if condition is false\") #Not Executed"
   ]
  },
  {
   "cell_type": "code",
   "execution_count": 3,
   "id": "56d74626",
   "metadata": {},
   "outputs": [
    {
     "ename": "NameError",
     "evalue": "name 'b' is not defined",
     "output_type": "error",
     "traceback": [
      "\u001b[1;31m---------------------------------------------------------------------------\u001b[0m",
      "\u001b[1;31mNameError\u001b[0m                                 Traceback (most recent call last)",
      "\u001b[1;32m~\\AppData\\Local\\Temp\\ipykernel_3788\\2909897208.py\u001b[0m in \u001b[0;36m<module>\u001b[1;34m\u001b[0m\n\u001b[1;32m----> 1\u001b[1;33m \u001b[1;32mif\u001b[0m \u001b[0mb\u001b[0m \u001b[1;33m<\u001b[0m \u001b[1;36m10\u001b[0m\u001b[1;33m:\u001b[0m \u001b[1;31m#b is not define thats why it gives name error\u001b[0m\u001b[1;33m\u001b[0m\u001b[1;33m\u001b[0m\u001b[0m\n\u001b[0m\u001b[0;32m      2\u001b[0m     \u001b[0mprint\u001b[0m\u001b[1;33m(\u001b[0m\u001b[1;34m\"It doesn't get executed beacuse if condition is false\"\u001b[0m\u001b[1;33m)\u001b[0m \u001b[1;31m#Not Executed\u001b[0m\u001b[1;33m\u001b[0m\u001b[1;33m\u001b[0m\u001b[0m\n",
      "\u001b[1;31mNameError\u001b[0m: name 'b' is not defined"
     ]
    }
   ],
   "source": [
    "if b < 10: #b is not define thats why it gives name error \n",
    "    print(\"It doesn't get executed beacuse if condition is false\") #Not Executed"
   ]
  },
  {
   "cell_type": "code",
   "execution_count": 4,
   "id": "0089b184",
   "metadata": {},
   "outputs": [
    {
     "ename": "IndentationError",
     "evalue": "expected an indented block (2129796751.py, line 1)",
     "output_type": "error",
     "traceback": [
      "\u001b[1;36m  File \u001b[1;32m\"C:\\Users\\adity\\AppData\\Local\\Temp\\ipykernel_3788\\2129796751.py\"\u001b[1;36m, line \u001b[1;32m1\u001b[0m\n\u001b[1;33m    if a < 15:#if gives syntax error\u001b[0m\n\u001b[1;37m                                    ^\u001b[0m\n\u001b[1;31mIndentationError\u001b[0m\u001b[1;31m:\u001b[0m expected an indented block\n"
     ]
    }
   ],
   "source": [
    "if a < 15:#if gives syntax error"
   ]
  },
  {
   "cell_type": "code",
   "execution_count": 5,
   "id": "ee3d6575",
   "metadata": {},
   "outputs": [],
   "source": [
    "if a < 15:\n",
    "    pass"
   ]
  },
  {
   "cell_type": "code",
   "execution_count": 6,
   "id": "01e7937a",
   "metadata": {},
   "outputs": [
    {
     "ename": "SyntaxError",
     "evalue": "invalid syntax (2770090507.py, line 1)",
     "output_type": "error",
     "traceback": [
      "\u001b[1;36m  File \u001b[1;32m\"C:\\Users\\adity\\AppData\\Local\\Temp\\ipykernel_3788\\2770090507.py\"\u001b[1;36m, line \u001b[1;32m1\u001b[0m\n\u001b[1;33m    if a = 10: #= is assingment operator it does not give boolean value\u001b[0m\n\u001b[1;37m         ^\u001b[0m\n\u001b[1;31mSyntaxError\u001b[0m\u001b[1;31m:\u001b[0m invalid syntax\n"
     ]
    }
   ],
   "source": [
    "if a = 10: #= is assingment operator it does not give boolean value\n",
    "    pass"
   ]
  },
  {
   "cell_type": "code",
   "execution_count": 7,
   "id": "68373c83",
   "metadata": {},
   "outputs": [],
   "source": [
    "#If you want to run if condition the use operator that gives boolean value otherwise it throws error"
   ]
  },
  {
   "cell_type": "code",
   "execution_count": 8,
   "id": "63dd9123",
   "metadata": {},
   "outputs": [],
   "source": [
    "if 24 < 15:\n",
    "    printf(\"My name is Aditya Marne\")"
   ]
  },
  {
   "cell_type": "markdown",
   "id": "05175c43",
   "metadata": {},
   "source": [
    "# 2] if-else statement"
   ]
  },
  {
   "cell_type": "markdown",
   "id": "a6568200",
   "metadata": {},
   "source": [
    "The if-else statement provides an else block combined with the if statement which is executed in the false case of the condition.\n",
    "\n",
    "If the condition is true, then the if-block is executed. Otherwise, the else-block is executed.\n",
    "\n",
    "Syntax :-\n",
    "\n",
    "if condition:  \n",
    "        #block of statements   \n",
    "else:   \n",
    "        #another block of statements (else-block)   "
   ]
  },
  {
   "cell_type": "code",
   "execution_count": 9,
   "id": "bde09e7e",
   "metadata": {},
   "outputs": [
    {
     "name": "stdout",
     "output_type": "stream",
     "text": [
      "if the if statement gives false\n"
     ]
    }
   ],
   "source": [
    "if 10 < 3 : #False\n",
    "    print(\"10 is lesser than 3\")\n",
    "else:\n",
    "    print(\"if the if statement gives false\") #Executed"
   ]
  },
  {
   "cell_type": "code",
   "execution_count": 10,
   "id": "ffbf253c",
   "metadata": {},
   "outputs": [
    {
     "name": "stdout",
     "output_type": "stream",
     "text": [
      "5 is lesser than 10\n"
     ]
    }
   ],
   "source": [
    "if 5 < 10: #true\n",
    "    print(\"5 is lesser than 10\") #Executed\n",
    "else:\n",
    "    print(\"if statement is wrong\")"
   ]
  },
  {
   "cell_type": "markdown",
   "id": "a471b8ab",
   "metadata": {},
   "source": [
    "# 3] if-elif statement"
   ]
  },
  {
   "cell_type": "markdown",
   "id": "855d6aac",
   "metadata": {},
   "source": [
    "The elif statement enables us to check multiple conditions and execute the specific block of statements depending upon the true condition among them. We can have any number of elif statements in our program depending upon our need. However, using elif is optional.\n",
    "\n",
    "The elif statement works like an if-else-if ladder statement in C. It must be succeeded by an if statement.\n",
    "\n",
    "The syntax of the elif statement is given below.\n",
    "\n",
    "if expression 1:   \n",
    "    # block of statements   \n",
    "  \n",
    "elif expression 2:   \n",
    "    # block of statements   \n",
    "  \n",
    "elif expression 3:   \n",
    "    # block of statements   \n",
    "  \n",
    "else:   \n",
    "    # block of statements  "
   ]
  },
  {
   "cell_type": "code",
   "execution_count": 11,
   "id": "b46f77e2",
   "metadata": {},
   "outputs": [
    {
     "name": "stdout",
     "output_type": "stream",
     "text": [
      "I wont be able to buy anything\n"
     ]
    }
   ],
   "source": [
    "income = 100\n",
    "\n",
    "if income < 50 : #False\n",
    "    print(\"I will be able to buy phone\")\n",
    "elif income < 70 : #False\n",
    "    print(\"I wil be able to but car\")\n",
    "elif income < 90:  #False\n",
    "    print(\"I will be able to rent a house\")\n",
    "else :\n",
    "    print(\"I wont be able to buy anything\")"
   ]
  },
  {
   "cell_type": "code",
   "execution_count": 12,
   "id": "7422b8f3",
   "metadata": {},
   "outputs": [
    {
     "name": "stdout",
     "output_type": "stream",
     "text": [
      "50000\n",
      "Discount will be  10000.0\n"
     ]
    }
   ],
   "source": [
    "Total_Price = int(input())\n",
    "\n",
    "if Total_Price > 20000: #True\n",
    "    discount = Total_Price * .20  #Executed\n",
    "    print(\"Discount will be \",discount) #Executed\n",
    "elif Total_Price <= 7000:\n",
    "    discount = Total_Price * .05\n",
    "    print(\"Discount will be \",discount)\n",
    "else:\n",
    "    print(\"Won,t be able to give any discount\")"
   ]
  },
  {
   "cell_type": "code",
   "execution_count": 13,
   "id": "b6b46c0a",
   "metadata": {},
   "outputs": [
    {
     "name": "stdout",
     "output_type": "stream",
     "text": [
      "4565\n",
      "Discount will be  228.25\n"
     ]
    }
   ],
   "source": [
    "Total_Price = int(input())\n",
    "\n",
    "if Total_Price > 20000:\n",
    "    discount = Total_Price * .20\n",
    "    print(\"Discount will be \",discount)\n",
    "elif Total_Price <= 7000:\n",
    "    discount = Total_Price * .05\n",
    "    print(\"Discount will be \",discount)\n",
    "else:\n",
    "    print(\"Won,t be able to give any discount\")"
   ]
  },
  {
   "cell_type": "code",
   "execution_count": 18,
   "id": "ca47117e",
   "metadata": {},
   "outputs": [
    {
     "name": "stdout",
     "output_type": "stream",
     "text": [
      "5000\n",
      "Discount will be  250.0\n"
     ]
    }
   ],
   "source": [
    "Total_Price = int(input())\n",
    "\n",
    "if Total_Price > 20000:\n",
    "    discount = Total_Price * .20\n",
    "    print(\"Discount will be \",discount)\n",
    "elif Total_Price <= 7000:\n",
    "    discount = Total_Price * .05\n",
    "    print(\"Discount will be \",discount)\n",
    "else:\n",
    "    print(\"Won,t be able to give any discount\")"
   ]
  },
  {
   "cell_type": "code",
   "execution_count": null,
   "id": "685d0a58",
   "metadata": {},
   "outputs": [],
   "source": []
  }
 ],
 "metadata": {
  "kernelspec": {
   "display_name": "Python 3 (ipykernel)",
   "language": "python",
   "name": "python3"
  },
  "language_info": {
   "codemirror_mode": {
    "name": "ipython",
    "version": 3
   },
   "file_extension": ".py",
   "mimetype": "text/x-python",
   "name": "python",
   "nbconvert_exporter": "python",
   "pygments_lexer": "ipython3",
   "version": "3.9.13"
  }
 },
 "nbformat": 4,
 "nbformat_minor": 5
}
