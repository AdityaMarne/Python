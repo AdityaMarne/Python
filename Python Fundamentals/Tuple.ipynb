{
 "cells": [
  {
   "cell_type": "markdown",
   "id": "5a9ad56e",
   "metadata": {},
   "source": [
    "# Tuple"
   ]
  },
  {
   "cell_type": "markdown",
   "id": "fcc0668c",
   "metadata": {},
   "source": [
    "Tuple is a group of items that are separated by commas.\n",
    "The indexing, nesting objects and repetations of a tuple are like of a List, however unlinke a tuple is immutable.\n",
    "Tuples are an immutable data type, Which means that once they have been generated their elements cannot be change.\n",
    "Tuples are ordered sequences, each element has a specific order that will never change. \n",
    "Slicing wise operation of tuples are like list."
   ]
  },
  {
   "cell_type": "code",
   "execution_count": 1,
   "id": "5cdcc410",
   "metadata": {},
   "outputs": [],
   "source": [
    "t = (1,2,3,4,5)"
   ]
  },
  {
   "cell_type": "code",
   "execution_count": 2,
   "id": "abeca142",
   "metadata": {},
   "outputs": [
    {
     "data": {
      "text/plain": [
       "tuple"
      ]
     },
     "execution_count": 2,
     "metadata": {},
     "output_type": "execute_result"
    }
   ],
   "source": [
    "type(t)"
   ]
  },
  {
   "cell_type": "markdown",
   "id": "f775632e",
   "metadata": {},
   "source": [
    "# Slicing Operation on Tuple"
   ]
  },
  {
   "cell_type": "code",
   "execution_count": 3,
   "id": "56d0b003",
   "metadata": {},
   "outputs": [],
   "source": [
    "t1 = (\"Aditya\", 345, 4+7j, 54.25, True)"
   ]
  },
  {
   "cell_type": "code",
   "execution_count": 4,
   "id": "d0d4c260",
   "metadata": {},
   "outputs": [
    {
     "data": {
      "text/plain": [
       "'Aditya'"
      ]
     },
     "execution_count": 4,
     "metadata": {},
     "output_type": "execute_result"
    }
   ],
   "source": [
    "t1[0] #Forward slicing"
   ]
  },
  {
   "cell_type": "code",
   "execution_count": 5,
   "id": "b7235d5d",
   "metadata": {},
   "outputs": [
    {
     "data": {
      "text/plain": [
       "345"
      ]
     },
     "execution_count": 5,
     "metadata": {},
     "output_type": "execute_result"
    }
   ],
   "source": [
    "t1[1]"
   ]
  },
  {
   "cell_type": "code",
   "execution_count": 6,
   "id": "8995a22c",
   "metadata": {},
   "outputs": [
    {
     "data": {
      "text/plain": [
       "(4+7j)"
      ]
     },
     "execution_count": 6,
     "metadata": {},
     "output_type": "execute_result"
    }
   ],
   "source": [
    "t1[2]"
   ]
  },
  {
   "cell_type": "code",
   "execution_count": 7,
   "id": "b2f4b070",
   "metadata": {},
   "outputs": [
    {
     "data": {
      "text/plain": [
       "54.25"
      ]
     },
     "execution_count": 7,
     "metadata": {},
     "output_type": "execute_result"
    }
   ],
   "source": [
    "t1[3]"
   ]
  },
  {
   "cell_type": "code",
   "execution_count": 8,
   "id": "04d9db92",
   "metadata": {},
   "outputs": [
    {
     "data": {
      "text/plain": [
       "True"
      ]
     },
     "execution_count": 8,
     "metadata": {},
     "output_type": "execute_result"
    }
   ],
   "source": [
    "t1[-1]  #Backward indexing"
   ]
  },
  {
   "cell_type": "code",
   "execution_count": 9,
   "id": "b30ab0e6",
   "metadata": {},
   "outputs": [
    {
     "data": {
      "text/plain": [
       "54.25"
      ]
     },
     "execution_count": 9,
     "metadata": {},
     "output_type": "execute_result"
    }
   ],
   "source": [
    "t1[-2]"
   ]
  },
  {
   "cell_type": "code",
   "execution_count": 10,
   "id": "6e6d04c2",
   "metadata": {},
   "outputs": [
    {
     "data": {
      "text/plain": [
       "(4+7j)"
      ]
     },
     "execution_count": 10,
     "metadata": {},
     "output_type": "execute_result"
    }
   ],
   "source": [
    "t1[-3]"
   ]
  },
  {
   "cell_type": "code",
   "execution_count": 11,
   "id": "c8270120",
   "metadata": {},
   "outputs": [
    {
     "data": {
      "text/plain": [
       "345"
      ]
     },
     "execution_count": 11,
     "metadata": {},
     "output_type": "execute_result"
    }
   ],
   "source": [
    "t1[-4]"
   ]
  },
  {
   "cell_type": "code",
   "execution_count": 12,
   "id": "e67b3208",
   "metadata": {},
   "outputs": [
    {
     "data": {
      "text/plain": [
       "('Aditya', 345, (4+7j), 54.25, True)"
      ]
     },
     "execution_count": 12,
     "metadata": {},
     "output_type": "execute_result"
    }
   ],
   "source": [
    "t1[0:5] #It gives elements within a range of 0-4"
   ]
  },
  {
   "cell_type": "code",
   "execution_count": 13,
   "id": "a40e7c81",
   "metadata": {},
   "outputs": [
    {
     "data": {
      "text/plain": [
       "((4+7j), 54.25, True)"
      ]
     },
     "execution_count": 13,
     "metadata": {},
     "output_type": "execute_result"
    }
   ],
   "source": [
    "t1[2:5]"
   ]
  },
  {
   "cell_type": "code",
   "execution_count": 14,
   "id": "7f0dc788",
   "metadata": {},
   "outputs": [
    {
     "data": {
      "text/plain": [
       "('Aditya', 345, (4+7j), 54.25, True)"
      ]
     },
     "execution_count": 14,
     "metadata": {},
     "output_type": "execute_result"
    }
   ],
   "source": [
    "t1[0:5:1] #It start form 0 and end at 4 and take jump of 1"
   ]
  },
  {
   "cell_type": "code",
   "execution_count": 15,
   "id": "e1edbe49",
   "metadata": {},
   "outputs": [
    {
     "data": {
      "text/plain": [
       "((4+7j), True)"
      ]
     },
     "execution_count": 15,
     "metadata": {},
     "output_type": "execute_result"
    }
   ],
   "source": [
    "t1[2:5:2]"
   ]
  },
  {
   "cell_type": "markdown",
   "id": "7c67fac4",
   "metadata": {},
   "source": [
    "# Tuples are immutable"
   ]
  },
  {
   "cell_type": "code",
   "execution_count": 16,
   "id": "ee439998",
   "metadata": {},
   "outputs": [
    {
     "data": {
      "text/plain": [
       "('Aditya', 345, (4+7j), 54.25, True)"
      ]
     },
     "execution_count": 16,
     "metadata": {},
     "output_type": "execute_result"
    }
   ],
   "source": [
    "t1"
   ]
  },
  {
   "cell_type": "code",
   "execution_count": 17,
   "id": "c5d9c87c",
   "metadata": {},
   "outputs": [
    {
     "ename": "TypeError",
     "evalue": "'tuple' object does not support item assignment",
     "output_type": "error",
     "traceback": [
      "\u001b[1;31m---------------------------------------------------------------------------\u001b[0m",
      "\u001b[1;31mTypeError\u001b[0m                                 Traceback (most recent call last)",
      "\u001b[1;32m~\\AppData\\Local\\Temp\\ipykernel_15700\\1354877392.py\u001b[0m in \u001b[0;36m<module>\u001b[1;34m\u001b[0m\n\u001b[1;32m----> 1\u001b[1;33m \u001b[0mt1\u001b[0m\u001b[1;33m[\u001b[0m\u001b[1;36m1\u001b[0m\u001b[1;33m]\u001b[0m \u001b[1;33m=\u001b[0m \u001b[1;34m\"bsj\"\u001b[0m\u001b[1;33m\u001b[0m\u001b[1;33m\u001b[0m\u001b[0m\n\u001b[0m",
      "\u001b[1;31mTypeError\u001b[0m: 'tuple' object does not support item assignment"
     ]
    }
   ],
   "source": [
    "t1[1] = \"bsj\""
   ]
  },
  {
   "cell_type": "markdown",
   "id": "9332f324",
   "metadata": {},
   "source": [
    "# Concatination of Tuples"
   ]
  },
  {
   "cell_type": "code",
   "execution_count": 18,
   "id": "fff98ebd",
   "metadata": {},
   "outputs": [
    {
     "data": {
      "text/plain": [
       "('Aditya', 345, (4+7j), 54.25, True)"
      ]
     },
     "execution_count": 18,
     "metadata": {},
     "output_type": "execute_result"
    }
   ],
   "source": [
    "t1"
   ]
  },
  {
   "cell_type": "code",
   "execution_count": 19,
   "id": "e23fc02d",
   "metadata": {},
   "outputs": [],
   "source": [
    "t2 = (34,54,56)"
   ]
  },
  {
   "cell_type": "code",
   "execution_count": 20,
   "id": "3589d3fb",
   "metadata": {},
   "outputs": [
    {
     "data": {
      "text/plain": [
       "('Aditya', 345, (4+7j), 54.25, True, 34, 54, 56)"
      ]
     },
     "execution_count": 20,
     "metadata": {},
     "output_type": "execute_result"
    }
   ],
   "source": [
    "t1+t2"
   ]
  },
  {
   "cell_type": "markdown",
   "id": "7bd07879",
   "metadata": {},
   "source": [
    "# Repetation of Tuple elements"
   ]
  },
  {
   "cell_type": "code",
   "execution_count": 21,
   "id": "e0bbfae2",
   "metadata": {},
   "outputs": [
    {
     "data": {
      "text/plain": [
       "(34, 54, 56)"
      ]
     },
     "execution_count": 21,
     "metadata": {},
     "output_type": "execute_result"
    }
   ],
   "source": [
    "t2"
   ]
  },
  {
   "cell_type": "code",
   "execution_count": 22,
   "id": "1785cef7",
   "metadata": {},
   "outputs": [
    {
     "data": {
      "text/plain": [
       "(34, 54, 56, 34, 54, 56, 34, 54, 56)"
      ]
     },
     "execution_count": 22,
     "metadata": {},
     "output_type": "execute_result"
    }
   ],
   "source": [
    "t2*3"
   ]
  },
  {
   "cell_type": "markdown",
   "id": "e9d1bfa1",
   "metadata": {},
   "source": [
    "# Tuple hold List as well as Tuple"
   ]
  },
  {
   "cell_type": "code",
   "execution_count": 23,
   "id": "5cecf314",
   "metadata": {},
   "outputs": [],
   "source": [
    "t3 = ([1,2,5],(\"ssd\",\"sdfa\"))"
   ]
  },
  {
   "cell_type": "code",
   "execution_count": 24,
   "id": "7d68fa47",
   "metadata": {},
   "outputs": [
    {
     "data": {
      "text/plain": [
       "[1, 2, 5]"
      ]
     },
     "execution_count": 24,
     "metadata": {},
     "output_type": "execute_result"
    }
   ],
   "source": [
    "t3[0]"
   ]
  },
  {
   "cell_type": "code",
   "execution_count": 25,
   "id": "f6525e75",
   "metadata": {},
   "outputs": [
    {
     "data": {
      "text/plain": [
       "list"
      ]
     },
     "execution_count": 25,
     "metadata": {},
     "output_type": "execute_result"
    }
   ],
   "source": [
    "type(t3[0])"
   ]
  },
  {
   "cell_type": "code",
   "execution_count": 26,
   "id": "cee4277c",
   "metadata": {},
   "outputs": [
    {
     "data": {
      "text/plain": [
       "2"
      ]
     },
     "execution_count": 26,
     "metadata": {},
     "output_type": "execute_result"
    }
   ],
   "source": [
    "t3[0][1]"
   ]
  },
  {
   "cell_type": "code",
   "execution_count": 27,
   "id": "2d1b10c0",
   "metadata": {},
   "outputs": [
    {
     "data": {
      "text/plain": [
       "('ssd', 'sdfa')"
      ]
     },
     "execution_count": 27,
     "metadata": {},
     "output_type": "execute_result"
    }
   ],
   "source": [
    "t3[1]"
   ]
  },
  {
   "cell_type": "code",
   "execution_count": 28,
   "id": "65d8d3eb",
   "metadata": {},
   "outputs": [
    {
     "data": {
      "text/plain": [
       "tuple"
      ]
     },
     "execution_count": 28,
     "metadata": {},
     "output_type": "execute_result"
    }
   ],
   "source": [
    "type(t3[1])"
   ]
  },
  {
   "cell_type": "code",
   "execution_count": 29,
   "id": "8a2607ef",
   "metadata": {},
   "outputs": [
    {
     "data": {
      "text/plain": [
       "'ssd'"
      ]
     },
     "execution_count": 29,
     "metadata": {},
     "output_type": "execute_result"
    }
   ],
   "source": [
    "t3[1][0]"
   ]
  },
  {
   "cell_type": "markdown",
   "id": "8e790caa",
   "metadata": {},
   "source": [
    "# List Hold Tuple"
   ]
  },
  {
   "cell_type": "code",
   "execution_count": 30,
   "id": "b46daec3",
   "metadata": {},
   "outputs": [],
   "source": [
    "l1 = [(\"hhh\",\"aaa\",\"ss\"),1,2,3]"
   ]
  },
  {
   "cell_type": "code",
   "execution_count": 31,
   "id": "b5bd02ad",
   "metadata": {},
   "outputs": [
    {
     "data": {
      "text/plain": [
       "('hhh', 'aaa', 'ss')"
      ]
     },
     "execution_count": 31,
     "metadata": {},
     "output_type": "execute_result"
    }
   ],
   "source": [
    "l1[0]"
   ]
  },
  {
   "cell_type": "code",
   "execution_count": 32,
   "id": "36751c22",
   "metadata": {},
   "outputs": [
    {
     "data": {
      "text/plain": [
       "tuple"
      ]
     },
     "execution_count": 32,
     "metadata": {},
     "output_type": "execute_result"
    }
   ],
   "source": [
    "type(l1[0])"
   ]
  },
  {
   "cell_type": "code",
   "execution_count": 33,
   "id": "5608772f",
   "metadata": {},
   "outputs": [
    {
     "data": {
      "text/plain": [
       "'aaa'"
      ]
     },
     "execution_count": 33,
     "metadata": {},
     "output_type": "execute_result"
    }
   ],
   "source": [
    "l1[0][1]"
   ]
  },
  {
   "cell_type": "markdown",
   "id": "8ab0c420",
   "metadata": {},
   "source": [
    "# List is mutable"
   ]
  },
  {
   "cell_type": "code",
   "execution_count": 40,
   "id": "b0f81e00",
   "metadata": {},
   "outputs": [],
   "source": [
    "t4= ([1,2,3,4],11)"
   ]
  },
  {
   "cell_type": "code",
   "execution_count": 41,
   "id": "2cebbb69",
   "metadata": {},
   "outputs": [
    {
     "data": {
      "text/plain": [
       "[1, 2, 3, 4]"
      ]
     },
     "execution_count": 41,
     "metadata": {},
     "output_type": "execute_result"
    }
   ],
   "source": [
    "t4[0]"
   ]
  },
  {
   "cell_type": "code",
   "execution_count": 42,
   "id": "ee293403",
   "metadata": {},
   "outputs": [],
   "source": [
    "t4[0][1] = \"ghjj\""
   ]
  },
  {
   "cell_type": "code",
   "execution_count": 43,
   "id": "030782d2",
   "metadata": {},
   "outputs": [
    {
     "data": {
      "text/plain": [
       "([1, 'ghjj', 3, 4], 11)"
      ]
     },
     "execution_count": 43,
     "metadata": {},
     "output_type": "execute_result"
    }
   ],
   "source": [
    "t4"
   ]
  },
  {
   "cell_type": "markdown",
   "id": "94a5247f",
   "metadata": {},
   "source": [
    "# Tuples in-built Functions"
   ]
  },
  {
   "cell_type": "code",
   "execution_count": 45,
   "id": "ecfc8c41",
   "metadata": {},
   "outputs": [
    {
     "data": {
      "text/plain": [
       "('Aditya', 345, (4+7j), 54.25, True)"
      ]
     },
     "execution_count": 45,
     "metadata": {},
     "output_type": "execute_result"
    }
   ],
   "source": [
    "t1"
   ]
  },
  {
   "cell_type": "code",
   "execution_count": 46,
   "id": "10717add",
   "metadata": {},
   "outputs": [
    {
     "data": {
      "text/plain": [
       "0"
      ]
     },
     "execution_count": 46,
     "metadata": {},
     "output_type": "execute_result"
    }
   ],
   "source": [
    "t1.count(124) #It gives count of element occur in tuple"
   ]
  },
  {
   "cell_type": "code",
   "execution_count": 47,
   "id": "73267ffe",
   "metadata": {},
   "outputs": [
    {
     "data": {
      "text/plain": [
       "1"
      ]
     },
     "execution_count": 47,
     "metadata": {},
     "output_type": "execute_result"
    }
   ],
   "source": [
    "t1.count(\"Aditya\")"
   ]
  },
  {
   "cell_type": "code",
   "execution_count": 48,
   "id": "b0adcd00",
   "metadata": {},
   "outputs": [],
   "source": [
    "t2 = (1,1,1,2,2,3,3,3)"
   ]
  },
  {
   "cell_type": "code",
   "execution_count": 49,
   "id": "8650dbb0",
   "metadata": {},
   "outputs": [
    {
     "data": {
      "text/plain": [
       "3"
      ]
     },
     "execution_count": 49,
     "metadata": {},
     "output_type": "execute_result"
    }
   ],
   "source": [
    "t2.count(1)"
   ]
  },
  {
   "cell_type": "code",
   "execution_count": 50,
   "id": "95e24560",
   "metadata": {},
   "outputs": [
    {
     "data": {
      "text/plain": [
       "2"
      ]
     },
     "execution_count": 50,
     "metadata": {},
     "output_type": "execute_result"
    }
   ],
   "source": [
    "t2.count(2)"
   ]
  },
  {
   "cell_type": "code",
   "execution_count": 51,
   "id": "1b3eaa07",
   "metadata": {},
   "outputs": [
    {
     "data": {
      "text/plain": [
       "0"
      ]
     },
     "execution_count": 51,
     "metadata": {},
     "output_type": "execute_result"
    }
   ],
   "source": [
    "t1.index(\"Aditya\") #It gives index position of an element in tuple"
   ]
  },
  {
   "cell_type": "code",
   "execution_count": 52,
   "id": "2420c9ee",
   "metadata": {},
   "outputs": [
    {
     "data": {
      "text/plain": [
       "1"
      ]
     },
     "execution_count": 52,
     "metadata": {},
     "output_type": "execute_result"
    }
   ],
   "source": [
    "t1.index(345)"
   ]
  },
  {
   "cell_type": "code",
   "execution_count": 53,
   "id": "84e9b247",
   "metadata": {},
   "outputs": [
    {
     "data": {
      "text/plain": [
       "4"
      ]
     },
     "execution_count": 53,
     "metadata": {},
     "output_type": "execute_result"
    }
   ],
   "source": [
    "t1.index(True)"
   ]
  },
  {
   "cell_type": "code",
   "execution_count": 55,
   "id": "6902825c",
   "metadata": {},
   "outputs": [
    {
     "ename": "ValueError",
     "evalue": "tuple.index(x): x not in tuple",
     "output_type": "error",
     "traceback": [
      "\u001b[1;31m---------------------------------------------------------------------------\u001b[0m",
      "\u001b[1;31mValueError\u001b[0m                                Traceback (most recent call last)",
      "\u001b[1;32m~\\AppData\\Local\\Temp\\ipykernel_15700\\3394421689.py\u001b[0m in \u001b[0;36m<module>\u001b[1;34m\u001b[0m\n\u001b[1;32m----> 1\u001b[1;33m \u001b[0mt1\u001b[0m\u001b[1;33m.\u001b[0m\u001b[0mindex\u001b[0m\u001b[1;33m(\u001b[0m\u001b[1;36m555\u001b[0m\u001b[1;33m)\u001b[0m \u001b[1;31m#It gives ValueError if element is not found\u001b[0m\u001b[1;33m\u001b[0m\u001b[1;33m\u001b[0m\u001b[0m\n\u001b[0m",
      "\u001b[1;31mValueError\u001b[0m: tuple.index(x): x not in tuple"
     ]
    }
   ],
   "source": [
    "t1.index(555) #It gives ValueError if element is not found"
   ]
  },
  {
   "cell_type": "code",
   "execution_count": 56,
   "id": "177d6006",
   "metadata": {},
   "outputs": [
    {
     "data": {
      "text/plain": [
       "(1, 1, 1, 2, 2, 3, 3, 3)"
      ]
     },
     "execution_count": 56,
     "metadata": {},
     "output_type": "execute_result"
    }
   ],
   "source": [
    "t2"
   ]
  },
  {
   "cell_type": "code",
   "execution_count": 57,
   "id": "842f6e98",
   "metadata": {},
   "outputs": [
    {
     "data": {
      "text/plain": [
       "0"
      ]
     },
     "execution_count": 57,
     "metadata": {},
     "output_type": "execute_result"
    }
   ],
   "source": [
    "t2.index(1) #It gives index of element that occured first and matched with parameter"
   ]
  },
  {
   "cell_type": "code",
   "execution_count": 58,
   "id": "d75f79cd",
   "metadata": {},
   "outputs": [
    {
     "data": {
      "text/plain": [
       "0"
      ]
     },
     "execution_count": 58,
     "metadata": {},
     "output_type": "execute_result"
    }
   ],
   "source": [
    "t2.index(1)"
   ]
  },
  {
   "cell_type": "code",
   "execution_count": 59,
   "id": "1114a931",
   "metadata": {},
   "outputs": [
    {
     "data": {
      "text/plain": [
       "3"
      ]
     },
     "execution_count": 59,
     "metadata": {},
     "output_type": "execute_result"
    }
   ],
   "source": [
    "t2.index(2)"
   ]
  },
  {
   "cell_type": "code",
   "execution_count": null,
   "id": "9ae47661",
   "metadata": {},
   "outputs": [],
   "source": []
  }
 ],
 "metadata": {
  "kernelspec": {
   "display_name": "Python 3 (ipykernel)",
   "language": "python",
   "name": "python3"
  },
  "language_info": {
   "codemirror_mode": {
    "name": "ipython",
    "version": 3
   },
   "file_extension": ".py",
   "mimetype": "text/x-python",
   "name": "python",
   "nbconvert_exporter": "python",
   "pygments_lexer": "ipython3",
   "version": "3.9.13"
  }
 },
 "nbformat": 4,
 "nbformat_minor": 5
}
